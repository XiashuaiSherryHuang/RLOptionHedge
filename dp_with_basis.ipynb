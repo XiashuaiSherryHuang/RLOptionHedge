{
  "cells": [
    {
      "cell_type": "code",
      "execution_count": null,
      "id": "3eabd132",
      "metadata": {
        "id": "3eabd132"
      },
      "outputs": [],
      "source": [
        "import numpy as np\n",
        "import pandas as pd\n",
        "import random\n",
        "from scipy.stats import norm\n",
        "\n",
        "import plotly.express as px\n",
        "import plotly.graph_objs as go"
      ]
    },
    {
      "cell_type": "code",
      "execution_count": null,
      "id": "fc083e7c",
      "metadata": {
        "colab": {
          "base_uri": "https://localhost:8080/"
        },
        "id": "fc083e7c",
        "outputId": "870cca4e-bc58-4020-d35c-4be21010ded1"
      },
      "outputs": [
        {
          "output_type": "stream",
          "name": "stdout",
          "text": [
            "Collecting bspline\n",
            "  Downloading bspline-0.1.1.tar.gz (84 kB)\n",
            "\u001b[?25l     \u001b[90m━━━━━━━━━━━━━━━━━━━━━━━━━━━━━━━━━━━━━━━━\u001b[0m \u001b[32m0.0/84.2 kB\u001b[0m \u001b[31m?\u001b[0m eta \u001b[36m-:--:--\u001b[0m\r\u001b[2K     \u001b[91m━━━━━━━━━━━━━━\u001b[0m\u001b[91m╸\u001b[0m\u001b[90m━━━━━━━━━━━━━━━━━━━━━━━━━\u001b[0m \u001b[32m30.7/84.2 kB\u001b[0m \u001b[31m749.4 kB/s\u001b[0m eta \u001b[36m0:00:01\u001b[0m\r\u001b[2K     \u001b[90m━━━━━━━━━━━━━━━━━━━━━━━━━━━━━━━━━━━━━━━━\u001b[0m \u001b[32m84.2/84.2 kB\u001b[0m \u001b[31m1.2 MB/s\u001b[0m eta \u001b[36m0:00:00\u001b[0m\n",
            "\u001b[?25h  Preparing metadata (setup.py) ... \u001b[?25l\u001b[?25hdone\n",
            "Requirement already satisfied: numpy in /usr/local/lib/python3.10/dist-packages (from bspline) (1.23.5)\n",
            "Building wheels for collected packages: bspline\n",
            "  Building wheel for bspline (setup.py) ... \u001b[?25l\u001b[?25hdone\n",
            "  Created wheel for bspline: filename=bspline-0.1.1-py3-none-any.whl size=84483 sha256=ca2df91ef9b4ccae6b6ba4af71c8033678807eec8760579c35d795d4328f8541\n",
            "  Stored in directory: /root/.cache/pip/wheels/3c/ab/0a/70927853a6d9166bc777922736063a6f99c43a327c802f9326\n",
            "Successfully built bspline\n",
            "Installing collected packages: bspline\n",
            "Successfully installed bspline-0.1.1\n"
          ]
        }
      ],
      "source": [
        "###https://github.com/johntfoster/bspline\n",
        "!pip install bspline\n",
        "import bspline\n",
        "import bspline.splinelab as splinelab"
      ]
    },
    {
      "cell_type": "code",
      "execution_count": null,
      "id": "db54764e",
      "metadata": {
        "id": "db54764e"
      },
      "outputs": [],
      "source": [
        "def terminal_payoff(st, k, exercise_type='c'):\n",
        "    '''\n",
        "    Calculate terminal payoff for a call/put option\n",
        "    Args:\n",
        "        st: final stock price\n",
        "        k: strike\n",
        "        exercise_type: 'c' for call and 'p' for put\n",
        "    Examples:\n",
        "        st_eg = np.linspace(1, 100, 100)\n",
        "        payoff_eg = terminal_payoff(st_eg, 50)\n",
        "        fig = px.scatter(x=st_eg, y=payoff_eg, title='Terminal Payoff w/ Stock Price for Call Option')\n",
        "        fig.show()\n",
        "    '''\n",
        "    return np.maximum(st - k, 0) if exercise_type == 'c' else np.maximum(k - st, 0)"
      ]
    },
    {
      "cell_type": "code",
      "execution_count": null,
      "id": "0058f691",
      "metadata": {
        "id": "0058f691"
      },
      "outputs": [],
      "source": [
        "def delta_calc(s, k, maturity, r, sigma, exercise_type='c'):\n",
        "    '''\n",
        "    Calculate delta of a call/put option based on BSM formula, specifically N(d1)\n",
        "    Args:\n",
        "        ercise_type: 'c' for call and 'p' for put\n",
        "    Examples:\n",
        "        s_eg = np.linspace(1, 100, 100)\n",
        "        d_eg = delta_calc(s_eg, k=50, maturity=1.0, r=0.03, sigma=0.18)\n",
        "\n",
        "        fig = px.scatter(x=s_eg, y=d_eg, title='Delta w/ Stock Price for Call Option')\n",
        "        fig.show()\n",
        "    '''\n",
        "    d1 = (np.log(s / k) + (r + 0.5 * sigma ** 2) * maturity) / (sigma * np.sqrt(maturity))\n",
        "    if exercise_type == 'c':\n",
        "        delta_calc = norm.cdf(d1, loc=0, scale=1)\n",
        "    else:\n",
        "        delta_calc = -norm.cdf(-d1, loc=0, scale=1)\n",
        "    return delta_calc"
      ]
    },
    {
      "cell_type": "code",
      "execution_count": null,
      "id": "1377c1c1",
      "metadata": {
        "id": "1377c1c1"
      },
      "outputs": [],
      "source": [
        "def black_scholes(s, k, maturity, r, sigma, exercise_type='c'):\n",
        "    '''\n",
        "    Calculate price of a call/put option based on BSM formula\n",
        "    Args:\n",
        "        ercise_type: 'c' for call and 'p' for put\n",
        "    Examples:\n",
        "        s_eg = np.linspace(1, 100, 100)\n",
        "        p_eg = black_scholes(s_eg, k=50, maturity=1.0, r=0.03, sigma=0.18)\n",
        "\n",
        "        fig = px.scatter(x=s_eg, y=p_eg, title='Price w/ Stock Price for Call Option')\n",
        "        fig.show()\n",
        "    '''\n",
        "    d1 = (np.log(s / k) + (r + 0.5 * sigma ** 2) * maturity) / (sigma * np.sqrt(maturity))\n",
        "    d2 = d1 - sigma * np.sqrt(maturity)\n",
        "\n",
        "    if exercise_type == 'c':\n",
        "        price = s * norm.cdf(d1, loc=0, scale=1) - k * np.exp(-r * maturity) * norm.cdf(d2, loc=0, scale=1)\n",
        "    else:\n",
        "        price = k * np.exp(-r * maturity) * norm.cdf(-d2, loc=0, scale=1) - s * norm.cdf(-d1, loc=0, scale=1)\n",
        "    return price"
      ]
    },
    {
      "cell_type": "code",
      "execution_count": null,
      "id": "1c40d2e2",
      "metadata": {
        "id": "1c40d2e2"
      },
      "outputs": [],
      "source": [
        "def show_sel_path(input_df, sel_path, value_name='Value'):\n",
        "    df = input_df.reset_index().rename(columns={'index':'path_id'})\n",
        "    df = df.melt(id_vars=['path_id'], value_vars=input_df.columns, var_name='Time Steps', value_name=value_name)\n",
        "\n",
        "    fig = px.line(df[df['path_id'].isin(sel_path)], x='Time Steps', y=value_name, color='path_id')\n",
        "    return fig"
      ]
    },
    {
      "cell_type": "code",
      "execution_count": null,
      "id": "5b656fb5",
      "metadata": {
        "id": "5b656fb5"
      },
      "outputs": [],
      "source": [
        "np.random.seed(100)\n",
        "num_of_path = 2**14-1 # number of paths\n",
        "\n",
        "s0 = 100  # initial stock price\n",
        "mu = 0.05  # drift\n",
        "sigma = 0.15  # constant volatility\n",
        "r = 0.03  # interest rate\n",
        "expiry = 0.25  # expiry, 3-month\n",
        "num_of_timestep = 63  # number of time steps expiry*1/252\n",
        "delta_t = expiry / num_of_timestep  # time interval, daily 1/252\n",
        "strike = s0  # assume at-the-money option\n",
        "exercise_type = 'c' # 'c' for call option and 'p' for put option\n",
        "\n",
        "gamma = np.exp(- r * delta_t)  # discount factor\n",
        "risk_aversion = 0.1 # risk aversion  \\kappa\n",
        "risk_lambda = risk_aversion / 2.0 # \\lambda\n",
        "\n",
        "data_cutoff = int(num_of_path * 0.7) #split data into training and test"
      ]
    },
    {
      "cell_type": "code",
      "source": [],
      "metadata": {
        "id": "Did6ln4wtdsQ"
      },
      "id": "Did6ln4wtdsQ",
      "execution_count": null,
      "outputs": []
    },
    {
      "cell_type": "code",
      "execution_count": null,
      "id": "787305db",
      "metadata": {
        "id": "787305db"
      },
      "outputs": [],
      "source": [
        "# standard normal random variable Z\n",
        "rand_number = pd.DataFrame(np.random.randn(num_of_path, num_of_timestep), index=range(1, num_of_path + 1),\n",
        "                           columns=range(1, num_of_timestep + 1))\n",
        "\n",
        "# stock price, rows are MC paths, columns are time steps\n",
        "spot_df = pd.DataFrame([], index=range(1, num_of_path + 1), columns=range(num_of_timestep + 1))\n",
        "spot_df[0] = s0\n",
        "for t in range(1, num_of_timestep + 1):\n",
        "    spot_df[t] = spot_df[t - 1] * np.exp((mu - 0.5 * sigma**2) * delta_t + sigma * np.sqrt(delta_t) * rand_number[t])"
      ]
    },
    {
      "cell_type": "code",
      "execution_count": null,
      "id": "660a8ddf",
      "metadata": {
        "colab": {
          "base_uri": "https://localhost:8080/",
          "height": 236
        },
        "id": "660a8ddf",
        "outputId": "baf73c29-872b-4014-c3d3-03e4a84b5a0c"
      },
      "outputs": [
        {
          "output_type": "execute_result",
          "data": {
            "text/plain": [
              "    0           1           2           3           4           5   \\\n",
              "1  100   98.375346   98.709582   99.806265   99.583793  100.526946   \n",
              "2  100  100.028183   98.509348   97.557150   98.138996   98.839276   \n",
              "3  100  100.916275  100.913296  101.785597  102.534652  101.109334   \n",
              "4  100  100.428147  102.143414  102.655602  103.813282  105.887820   \n",
              "5  100  101.400335  101.647627  101.627081  102.444487  104.710755   \n",
              "\n",
              "           6           7           8           9   ...          54  \\\n",
              "1  101.032120  101.259063  100.255810  100.091846  ...   95.685913   \n",
              "2   99.818379   98.491787   96.807971   97.158374  ...   88.421481   \n",
              "3   99.990488  101.238322  102.169100  101.016219  ...  101.427820   \n",
              "4  105.448844  106.113982  105.955168  106.994996  ...  109.009628   \n",
              "5  103.801165  103.926881  106.467176  106.890415  ...  117.573875   \n",
              "\n",
              "           55          56          57          58          59          60  \\\n",
              "1   95.799122   96.274707   95.508201   96.657352   96.599521   95.805528   \n",
              "2   89.016401   87.397989   87.300160   86.051728   87.745625   86.608276   \n",
              "3  100.951508  100.761111  101.179621  100.154440  101.347464  101.142724   \n",
              "4  108.743516  109.945883  111.174686  111.931996  110.599273  112.218935   \n",
              "5  119.659444  119.298320  119.880303  118.683827  119.350951  119.466940   \n",
              "\n",
              "           61          62          63  \n",
              "1   95.025183   95.056536   95.285059  \n",
              "2   85.728202   85.548203   84.413754  \n",
              "3  100.487192   99.942606  100.656507  \n",
              "4  112.045497  111.665135  112.169171  \n",
              "5  119.919407  121.460086  123.412995  \n",
              "\n",
              "[5 rows x 64 columns]"
            ],
            "text/html": [
              "\n",
              "  <div id=\"df-0780d87c-7a82-4087-9211-5d8a60725937\" class=\"colab-df-container\">\n",
              "    <div>\n",
              "<style scoped>\n",
              "    .dataframe tbody tr th:only-of-type {\n",
              "        vertical-align: middle;\n",
              "    }\n",
              "\n",
              "    .dataframe tbody tr th {\n",
              "        vertical-align: top;\n",
              "    }\n",
              "\n",
              "    .dataframe thead th {\n",
              "        text-align: right;\n",
              "    }\n",
              "</style>\n",
              "<table border=\"1\" class=\"dataframe\">\n",
              "  <thead>\n",
              "    <tr style=\"text-align: right;\">\n",
              "      <th></th>\n",
              "      <th>0</th>\n",
              "      <th>1</th>\n",
              "      <th>2</th>\n",
              "      <th>3</th>\n",
              "      <th>4</th>\n",
              "      <th>5</th>\n",
              "      <th>6</th>\n",
              "      <th>7</th>\n",
              "      <th>8</th>\n",
              "      <th>9</th>\n",
              "      <th>...</th>\n",
              "      <th>54</th>\n",
              "      <th>55</th>\n",
              "      <th>56</th>\n",
              "      <th>57</th>\n",
              "      <th>58</th>\n",
              "      <th>59</th>\n",
              "      <th>60</th>\n",
              "      <th>61</th>\n",
              "      <th>62</th>\n",
              "      <th>63</th>\n",
              "    </tr>\n",
              "  </thead>\n",
              "  <tbody>\n",
              "    <tr>\n",
              "      <th>1</th>\n",
              "      <td>100</td>\n",
              "      <td>98.375346</td>\n",
              "      <td>98.709582</td>\n",
              "      <td>99.806265</td>\n",
              "      <td>99.583793</td>\n",
              "      <td>100.526946</td>\n",
              "      <td>101.032120</td>\n",
              "      <td>101.259063</td>\n",
              "      <td>100.255810</td>\n",
              "      <td>100.091846</td>\n",
              "      <td>...</td>\n",
              "      <td>95.685913</td>\n",
              "      <td>95.799122</td>\n",
              "      <td>96.274707</td>\n",
              "      <td>95.508201</td>\n",
              "      <td>96.657352</td>\n",
              "      <td>96.599521</td>\n",
              "      <td>95.805528</td>\n",
              "      <td>95.025183</td>\n",
              "      <td>95.056536</td>\n",
              "      <td>95.285059</td>\n",
              "    </tr>\n",
              "    <tr>\n",
              "      <th>2</th>\n",
              "      <td>100</td>\n",
              "      <td>100.028183</td>\n",
              "      <td>98.509348</td>\n",
              "      <td>97.557150</td>\n",
              "      <td>98.138996</td>\n",
              "      <td>98.839276</td>\n",
              "      <td>99.818379</td>\n",
              "      <td>98.491787</td>\n",
              "      <td>96.807971</td>\n",
              "      <td>97.158374</td>\n",
              "      <td>...</td>\n",
              "      <td>88.421481</td>\n",
              "      <td>89.016401</td>\n",
              "      <td>87.397989</td>\n",
              "      <td>87.300160</td>\n",
              "      <td>86.051728</td>\n",
              "      <td>87.745625</td>\n",
              "      <td>86.608276</td>\n",
              "      <td>85.728202</td>\n",
              "      <td>85.548203</td>\n",
              "      <td>84.413754</td>\n",
              "    </tr>\n",
              "    <tr>\n",
              "      <th>3</th>\n",
              "      <td>100</td>\n",
              "      <td>100.916275</td>\n",
              "      <td>100.913296</td>\n",
              "      <td>101.785597</td>\n",
              "      <td>102.534652</td>\n",
              "      <td>101.109334</td>\n",
              "      <td>99.990488</td>\n",
              "      <td>101.238322</td>\n",
              "      <td>102.169100</td>\n",
              "      <td>101.016219</td>\n",
              "      <td>...</td>\n",
              "      <td>101.427820</td>\n",
              "      <td>100.951508</td>\n",
              "      <td>100.761111</td>\n",
              "      <td>101.179621</td>\n",
              "      <td>100.154440</td>\n",
              "      <td>101.347464</td>\n",
              "      <td>101.142724</td>\n",
              "      <td>100.487192</td>\n",
              "      <td>99.942606</td>\n",
              "      <td>100.656507</td>\n",
              "    </tr>\n",
              "    <tr>\n",
              "      <th>4</th>\n",
              "      <td>100</td>\n",
              "      <td>100.428147</td>\n",
              "      <td>102.143414</td>\n",
              "      <td>102.655602</td>\n",
              "      <td>103.813282</td>\n",
              "      <td>105.887820</td>\n",
              "      <td>105.448844</td>\n",
              "      <td>106.113982</td>\n",
              "      <td>105.955168</td>\n",
              "      <td>106.994996</td>\n",
              "      <td>...</td>\n",
              "      <td>109.009628</td>\n",
              "      <td>108.743516</td>\n",
              "      <td>109.945883</td>\n",
              "      <td>111.174686</td>\n",
              "      <td>111.931996</td>\n",
              "      <td>110.599273</td>\n",
              "      <td>112.218935</td>\n",
              "      <td>112.045497</td>\n",
              "      <td>111.665135</td>\n",
              "      <td>112.169171</td>\n",
              "    </tr>\n",
              "    <tr>\n",
              "      <th>5</th>\n",
              "      <td>100</td>\n",
              "      <td>101.400335</td>\n",
              "      <td>101.647627</td>\n",
              "      <td>101.627081</td>\n",
              "      <td>102.444487</td>\n",
              "      <td>104.710755</td>\n",
              "      <td>103.801165</td>\n",
              "      <td>103.926881</td>\n",
              "      <td>106.467176</td>\n",
              "      <td>106.890415</td>\n",
              "      <td>...</td>\n",
              "      <td>117.573875</td>\n",
              "      <td>119.659444</td>\n",
              "      <td>119.298320</td>\n",
              "      <td>119.880303</td>\n",
              "      <td>118.683827</td>\n",
              "      <td>119.350951</td>\n",
              "      <td>119.466940</td>\n",
              "      <td>119.919407</td>\n",
              "      <td>121.460086</td>\n",
              "      <td>123.412995</td>\n",
              "    </tr>\n",
              "  </tbody>\n",
              "</table>\n",
              "<p>5 rows × 64 columns</p>\n",
              "</div>\n",
              "    <div class=\"colab-df-buttons\">\n",
              "\n",
              "  <div class=\"colab-df-container\">\n",
              "    <button class=\"colab-df-convert\" onclick=\"convertToInteractive('df-0780d87c-7a82-4087-9211-5d8a60725937')\"\n",
              "            title=\"Convert this dataframe to an interactive table.\"\n",
              "            style=\"display:none;\">\n",
              "\n",
              "  <svg xmlns=\"http://www.w3.org/2000/svg\" height=\"24px\" viewBox=\"0 -960 960 960\">\n",
              "    <path d=\"M120-120v-720h720v720H120Zm60-500h600v-160H180v160Zm220 220h160v-160H400v160Zm0 220h160v-160H400v160ZM180-400h160v-160H180v160Zm440 0h160v-160H620v160ZM180-180h160v-160H180v160Zm440 0h160v-160H620v160Z\"/>\n",
              "  </svg>\n",
              "    </button>\n",
              "\n",
              "  <style>\n",
              "    .colab-df-container {\n",
              "      display:flex;\n",
              "      gap: 12px;\n",
              "    }\n",
              "\n",
              "    .colab-df-convert {\n",
              "      background-color: #E8F0FE;\n",
              "      border: none;\n",
              "      border-radius: 50%;\n",
              "      cursor: pointer;\n",
              "      display: none;\n",
              "      fill: #1967D2;\n",
              "      height: 32px;\n",
              "      padding: 0 0 0 0;\n",
              "      width: 32px;\n",
              "    }\n",
              "\n",
              "    .colab-df-convert:hover {\n",
              "      background-color: #E2EBFA;\n",
              "      box-shadow: 0px 1px 2px rgba(60, 64, 67, 0.3), 0px 1px 3px 1px rgba(60, 64, 67, 0.15);\n",
              "      fill: #174EA6;\n",
              "    }\n",
              "\n",
              "    .colab-df-buttons div {\n",
              "      margin-bottom: 4px;\n",
              "    }\n",
              "\n",
              "    [theme=dark] .colab-df-convert {\n",
              "      background-color: #3B4455;\n",
              "      fill: #D2E3FC;\n",
              "    }\n",
              "\n",
              "    [theme=dark] .colab-df-convert:hover {\n",
              "      background-color: #434B5C;\n",
              "      box-shadow: 0px 1px 3px 1px rgba(0, 0, 0, 0.15);\n",
              "      filter: drop-shadow(0px 1px 2px rgba(0, 0, 0, 0.3));\n",
              "      fill: #FFFFFF;\n",
              "    }\n",
              "  </style>\n",
              "\n",
              "    <script>\n",
              "      const buttonEl =\n",
              "        document.querySelector('#df-0780d87c-7a82-4087-9211-5d8a60725937 button.colab-df-convert');\n",
              "      buttonEl.style.display =\n",
              "        google.colab.kernel.accessAllowed ? 'block' : 'none';\n",
              "\n",
              "      async function convertToInteractive(key) {\n",
              "        const element = document.querySelector('#df-0780d87c-7a82-4087-9211-5d8a60725937');\n",
              "        const dataTable =\n",
              "          await google.colab.kernel.invokeFunction('convertToInteractive',\n",
              "                                                    [key], {});\n",
              "        if (!dataTable) return;\n",
              "\n",
              "        const docLinkHtml = 'Like what you see? Visit the ' +\n",
              "          '<a target=\"_blank\" href=https://colab.research.google.com/notebooks/data_table.ipynb>data table notebook</a>'\n",
              "          + ' to learn more about interactive tables.';\n",
              "        element.innerHTML = '';\n",
              "        dataTable['output_type'] = 'display_data';\n",
              "        await google.colab.output.renderOutput(dataTable, element);\n",
              "        const docLink = document.createElement('div');\n",
              "        docLink.innerHTML = docLinkHtml;\n",
              "        element.appendChild(docLink);\n",
              "      }\n",
              "    </script>\n",
              "  </div>\n",
              "\n",
              "\n",
              "<div id=\"df-dee69530-f74f-473a-8118-6b218841fd2e\">\n",
              "  <button class=\"colab-df-quickchart\" onclick=\"quickchart('df-dee69530-f74f-473a-8118-6b218841fd2e')\"\n",
              "            title=\"Suggest charts\"\n",
              "            style=\"display:none;\">\n",
              "\n",
              "<svg xmlns=\"http://www.w3.org/2000/svg\" height=\"24px\"viewBox=\"0 0 24 24\"\n",
              "     width=\"24px\">\n",
              "    <g>\n",
              "        <path d=\"M19 3H5c-1.1 0-2 .9-2 2v14c0 1.1.9 2 2 2h14c1.1 0 2-.9 2-2V5c0-1.1-.9-2-2-2zM9 17H7v-7h2v7zm4 0h-2V7h2v10zm4 0h-2v-4h2v4z\"/>\n",
              "    </g>\n",
              "</svg>\n",
              "  </button>\n",
              "\n",
              "<style>\n",
              "  .colab-df-quickchart {\n",
              "      --bg-color: #E8F0FE;\n",
              "      --fill-color: #1967D2;\n",
              "      --hover-bg-color: #E2EBFA;\n",
              "      --hover-fill-color: #174EA6;\n",
              "      --disabled-fill-color: #AAA;\n",
              "      --disabled-bg-color: #DDD;\n",
              "  }\n",
              "\n",
              "  [theme=dark] .colab-df-quickchart {\n",
              "      --bg-color: #3B4455;\n",
              "      --fill-color: #D2E3FC;\n",
              "      --hover-bg-color: #434B5C;\n",
              "      --hover-fill-color: #FFFFFF;\n",
              "      --disabled-bg-color: #3B4455;\n",
              "      --disabled-fill-color: #666;\n",
              "  }\n",
              "\n",
              "  .colab-df-quickchart {\n",
              "    background-color: var(--bg-color);\n",
              "    border: none;\n",
              "    border-radius: 50%;\n",
              "    cursor: pointer;\n",
              "    display: none;\n",
              "    fill: var(--fill-color);\n",
              "    height: 32px;\n",
              "    padding: 0;\n",
              "    width: 32px;\n",
              "  }\n",
              "\n",
              "  .colab-df-quickchart:hover {\n",
              "    background-color: var(--hover-bg-color);\n",
              "    box-shadow: 0 1px 2px rgba(60, 64, 67, 0.3), 0 1px 3px 1px rgba(60, 64, 67, 0.15);\n",
              "    fill: var(--button-hover-fill-color);\n",
              "  }\n",
              "\n",
              "  .colab-df-quickchart-complete:disabled,\n",
              "  .colab-df-quickchart-complete:disabled:hover {\n",
              "    background-color: var(--disabled-bg-color);\n",
              "    fill: var(--disabled-fill-color);\n",
              "    box-shadow: none;\n",
              "  }\n",
              "\n",
              "  .colab-df-spinner {\n",
              "    border: 2px solid var(--fill-color);\n",
              "    border-color: transparent;\n",
              "    border-bottom-color: var(--fill-color);\n",
              "    animation:\n",
              "      spin 1s steps(1) infinite;\n",
              "  }\n",
              "\n",
              "  @keyframes spin {\n",
              "    0% {\n",
              "      border-color: transparent;\n",
              "      border-bottom-color: var(--fill-color);\n",
              "      border-left-color: var(--fill-color);\n",
              "    }\n",
              "    20% {\n",
              "      border-color: transparent;\n",
              "      border-left-color: var(--fill-color);\n",
              "      border-top-color: var(--fill-color);\n",
              "    }\n",
              "    30% {\n",
              "      border-color: transparent;\n",
              "      border-left-color: var(--fill-color);\n",
              "      border-top-color: var(--fill-color);\n",
              "      border-right-color: var(--fill-color);\n",
              "    }\n",
              "    40% {\n",
              "      border-color: transparent;\n",
              "      border-right-color: var(--fill-color);\n",
              "      border-top-color: var(--fill-color);\n",
              "    }\n",
              "    60% {\n",
              "      border-color: transparent;\n",
              "      border-right-color: var(--fill-color);\n",
              "    }\n",
              "    80% {\n",
              "      border-color: transparent;\n",
              "      border-right-color: var(--fill-color);\n",
              "      border-bottom-color: var(--fill-color);\n",
              "    }\n",
              "    90% {\n",
              "      border-color: transparent;\n",
              "      border-bottom-color: var(--fill-color);\n",
              "    }\n",
              "  }\n",
              "</style>\n",
              "\n",
              "  <script>\n",
              "    async function quickchart(key) {\n",
              "      const quickchartButtonEl =\n",
              "        document.querySelector('#' + key + ' button');\n",
              "      quickchartButtonEl.disabled = true;  // To prevent multiple clicks.\n",
              "      quickchartButtonEl.classList.add('colab-df-spinner');\n",
              "      try {\n",
              "        const charts = await google.colab.kernel.invokeFunction(\n",
              "            'suggestCharts', [key], {});\n",
              "      } catch (error) {\n",
              "        console.error('Error during call to suggestCharts:', error);\n",
              "      }\n",
              "      quickchartButtonEl.classList.remove('colab-df-spinner');\n",
              "      quickchartButtonEl.classList.add('colab-df-quickchart-complete');\n",
              "    }\n",
              "    (() => {\n",
              "      let quickchartButtonEl =\n",
              "        document.querySelector('#df-dee69530-f74f-473a-8118-6b218841fd2e button');\n",
              "      quickchartButtonEl.style.display =\n",
              "        google.colab.kernel.accessAllowed ? 'block' : 'none';\n",
              "    })();\n",
              "  </script>\n",
              "</div>\n",
              "\n",
              "    </div>\n",
              "  </div>\n"
            ]
          },
          "metadata": {},
          "execution_count": 9
        }
      ],
      "source": [
        "spot_df.head()"
      ]
    },
    {
      "cell_type": "code",
      "execution_count": null,
      "id": "df427dda",
      "metadata": {
        "id": "df427dda"
      },
      "outputs": [],
      "source": [
        "delta_df = pd.DataFrame([], index=range(1, num_of_path + 1), columns=range(num_of_timestep + 1))\n",
        "for t in range(num_of_timestep + 1):\n",
        "    delta_df[t] = delta_calc(spot_df[t], strike, expiry - delta_t * t, r, sigma, exercise_type)"
      ]
    },
    {
      "cell_type": "code",
      "execution_count": null,
      "id": "9ef1bcc3",
      "metadata": {
        "colab": {
          "base_uri": "https://localhost:8080/"
        },
        "id": "9ef1bcc3",
        "outputId": "e3e6c7a1-9624-461a-b713-4b30f35d8349"
      },
      "outputs": [
        {
          "output_type": "stream",
          "name": "stderr",
          "text": [
            "<ipython-input-11-51fb99398198>:4: DeprecationWarning: In a future version, `df.iloc[:, i] = newvals` will attempt to set the values inplace instead of always setting a new array. To retain the old behavior, use either `df[df.columns[i]] = newvals` or, if columns are non-unique, `df.isetitem(i, newvals)`\n",
            "  option_value_df.iloc[:,-1] = terminal_payoff(spot_df.iloc[:,-1], strike, exercise_type)\n"
          ]
        }
      ],
      "source": [
        "option_value_df = pd.DataFrame([], index=range(1, num_of_path + 1), columns=range(num_of_timestep + 1))\n",
        "for t in range(num_of_timestep):\n",
        "    option_value_df[t] = black_scholes(spot_df[t], strike, expiry - delta_t * t, r, sigma, exercise_type)\n",
        "option_value_df.iloc[:,-1] = terminal_payoff(spot_df.iloc[:,-1], strike, exercise_type)\n",
        "#black_scholes(s=s0, k=strike, maturity=expiry, r=r , sigma=sigma, exercise_type=exercise_type)"
      ]
    },
    {
      "cell_type": "code",
      "execution_count": null,
      "id": "a28b3ec3",
      "metadata": {
        "colab": {
          "base_uri": "https://localhost:8080/",
          "height": 1000
        },
        "id": "a28b3ec3",
        "outputId": "58d76281-929f-4cf3-f515-1e415f07b402"
      },
      "outputs": [
        {
          "output_type": "display_data",
          "data": {
            "text/html": [
              "<html>\n",
              "<head><meta charset=\"utf-8\" /></head>\n",
              "<body>\n",
              "    <div>            <script src=\"https://cdnjs.cloudflare.com/ajax/libs/mathjax/2.7.5/MathJax.js?config=TeX-AMS-MML_SVG\"></script><script type=\"text/javascript\">if (window.MathJax && window.MathJax.Hub && window.MathJax.Hub.Config) {window.MathJax.Hub.Config({SVG: {font: \"STIX-Web\"}});}</script>                <script type=\"text/javascript\">window.PlotlyConfig = {MathJaxConfig: 'local'};</script>\n",
              "        <script charset=\"utf-8\" src=\"https://cdn.plot.ly/plotly-2.24.1.min.js\"></script>                <div id=\"bbe27fa9-edab-4d7a-b15f-9af031d22238\" class=\"plotly-graph-div\" style=\"height:525px; width:100%;\"></div>            <script type=\"text/javascript\">                                    window.PLOTLYENV=window.PLOTLYENV || {};                                    if (document.getElementById(\"bbe27fa9-edab-4d7a-b15f-9af031d22238\")) {                    Plotly.newPlot(                        \"bbe27fa9-edab-4d7a-b15f-9af031d22238\",                        [{\"hovertemplate\":\"path_id=152\\u003cbr\\u003eTime Steps=%{x}\\u003cbr\\u003eSpot=%{y}\\u003cextra\\u003e\\u003c\\u002fextra\\u003e\",\"legendgroup\":\"152\",\"line\":{\"color\":\"#636efa\",\"dash\":\"solid\"},\"marker\":{\"symbol\":\"circle\"},\"mode\":\"lines\",\"name\":\"152\",\"orientation\":\"v\",\"showlegend\":true,\"x\":[0,1,2,3,4,5,6,7,8,9,10,11,12,13,14,15,16,17,18,19,20,21,22,23,24,25,26,27,28,29,30,31,32,33,34,35,36,37,38,39,40,41,42,43,44,45,46,47,48,49,50,51,52,53,54,55,56,57,58,59,60,61,62,63],\"xaxis\":\"x\",\"y\":[100.0,99.29795942303686,100.80730788628095,100.38451035368543,101.60962791190677,102.58219794656432,102.8048782783548,102.40821981011854,103.8667669298191,105.12184631141741,107.32997650101152,106.86814594615569,105.9093664765835,106.90045091459146,105.878162142271,104.06340378023458,104.84870657946244,104.47448160006684,103.88869534408974,105.39802482906403,105.624870149486,105.4119986936237,106.85238188460414,106.50469560189798,108.46876101414276,106.42168877217551,105.81125708741715,107.07438543711298,105.86565477646569,107.78684152411061,107.72661504322807,107.80955237425565,105.90131821818768,107.20804163460691,105.23754377729378,106.76862257770114,107.76472521414976,107.22017918681622,106.92544394071348,108.18836067513782,108.04608906507086,108.94657408572593,109.8428218404146,109.06677496207354,109.511369078314,109.14011581770585,108.20301832983122,107.42621941905239,106.78070159511387,106.02424601550007,105.0729120928427,105.40168208657754,104.69784578018765,103.54591363502936,101.98077989519709,102.79093620509728,102.52690996779526,102.43540736712855,102.77107541372732,101.20112437007016,99.58014592658232,99.80460580578826,100.79178907345212,100.66587776088251],\"yaxis\":\"y\",\"type\":\"scatter\"},{\"hovertemplate\":\"path_id=2029\\u003cbr\\u003eTime Steps=%{x}\\u003cbr\\u003eSpot=%{y}\\u003cextra\\u003e\\u003c\\u002fextra\\u003e\",\"legendgroup\":\"2029\",\"line\":{\"color\":\"#EF553B\",\"dash\":\"solid\"},\"marker\":{\"symbol\":\"circle\"},\"mode\":\"lines\",\"name\":\"2029\",\"orientation\":\"v\",\"showlegend\":true,\"x\":[0,1,2,3,4,5,6,7,8,9,10,11,12,13,14,15,16,17,18,19,20,21,22,23,24,25,26,27,28,29,30,31,32,33,34,35,36,37,38,39,40,41,42,43,44,45,46,47,48,49,50,51,52,53,54,55,56,57,58,59,60,61,62,63],\"xaxis\":\"x\",\"y\":[100.0,99.51350345424481,99.63492834829452,100.68347180905891,99.77712186396188,98.89564761461509,99.49432092055805,99.02400837423404,98.47299570209125,98.02135740776396,97.68084888661197,96.95921557180004,96.8770872764474,96.71392680235252,98.39961844210232,99.66322035321203,99.28126506898548,99.25412788275906,98.19176074861626,97.30116590098478,98.30378302903955,98.13247955636346,98.46606167087052,96.89762021941519,98.29702361009181,98.1609424106177,97.240460390373,96.97397169117207,97.30425509348674,97.22052849608389,97.90825154239228,99.18310637182508,99.71184597071131,99.7279427552827,99.41457537674556,100.40132019453647,100.67976515058456,101.74376898050534,101.31077104941588,100.95989496675702,101.68227408917076,100.34771641528891,99.48398185045733,97.15576494102552,96.18731122612067,97.13552829567338,96.85823710834168,96.95275905122324,99.45618919525354,99.74549677262664,99.5544338937927,100.10302772758077,101.11930377746427,100.92210680410099,100.45672574184212,102.07712262776998,102.61354778368558,103.40441965529322,102.42809972784691,101.79134314202508,102.26862964041895,101.46752968876861,100.80435062748212,100.06844832925124],\"yaxis\":\"y\",\"type\":\"scatter\"},{\"hovertemplate\":\"path_id=6221\\u003cbr\\u003eTime Steps=%{x}\\u003cbr\\u003eSpot=%{y}\\u003cextra\\u003e\\u003c\\u002fextra\\u003e\",\"legendgroup\":\"6221\",\"line\":{\"color\":\"#00cc96\",\"dash\":\"solid\"},\"marker\":{\"symbol\":\"circle\"},\"mode\":\"lines\",\"name\":\"6221\",\"orientation\":\"v\",\"showlegend\":true,\"x\":[0,1,2,3,4,5,6,7,8,9,10,11,12,13,14,15,16,17,18,19,20,21,22,23,24,25,26,27,28,29,30,31,32,33,34,35,36,37,38,39,40,41,42,43,44,45,46,47,48,49,50,51,52,53,54,55,56,57,58,59,60,61,62,63],\"xaxis\":\"x\",\"y\":[100.0,100.66633999802845,99.27982946555599,99.54547095892866,100.49266315325382,100.47696497299806,101.32745113501973,101.54075671854714,102.24541813171193,101.96565890870633,101.98637436866527,104.46393996770236,104.40635453611333,103.20962087370293,102.99222670790839,103.1085443486582,103.89435660238576,104.04432211625797,102.73086019527251,103.92607849389267,103.56775714369931,103.87555460914609,102.9665435549109,104.8001265359955,105.51723433433148,105.32904514419974,105.77706769507374,106.24287239255456,106.01462364999854,106.94089482012677,107.21880189027529,107.25564896026967,108.13759626454033,107.02805481641434,106.41924442866188,106.89770725922924,106.93204233642469,108.11880588347046,107.09578367433805,106.82406576544017,105.41879057421419,104.4208046582292,103.94836248999579,103.26486454300843,103.3291626133967,103.81863089478298,102.85491925147177,104.05651600460835,106.34414041683235,106.28102980575366,105.96409094860705,106.33618180423517,106.75980807060859,106.30746563787162,106.85661790316092,107.80320210190479,108.23701956286703,107.55152928407412,107.57305486895,107.4780331573917,108.3981726757315,109.27145012948249,109.46312061276734,109.04662528925289],\"yaxis\":\"y\",\"type\":\"scatter\"},{\"hovertemplate\":\"path_id=6616\\u003cbr\\u003eTime Steps=%{x}\\u003cbr\\u003eSpot=%{y}\\u003cextra\\u003e\\u003c\\u002fextra\\u003e\",\"legendgroup\":\"6616\",\"line\":{\"color\":\"#ab63fa\",\"dash\":\"solid\"},\"marker\":{\"symbol\":\"circle\"},\"mode\":\"lines\",\"name\":\"6616\",\"orientation\":\"v\",\"showlegend\":true,\"x\":[0,1,2,3,4,5,6,7,8,9,10,11,12,13,14,15,16,17,18,19,20,21,22,23,24,25,26,27,28,29,30,31,32,33,34,35,36,37,38,39,40,41,42,43,44,45,46,47,48,49,50,51,52,53,54,55,56,57,58,59,60,61,62,63],\"xaxis\":\"x\",\"y\":[100.0,100.92895054435877,101.88935141372211,101.07873077988059,100.90043581312442,100.61242872835517,100.31671765146004,100.6251307494917,101.66969348720019,101.65559070313681,101.43993989799489,101.47955273704764,101.45461989825142,100.49505276208328,102.05890221420366,102.09392722132698,103.10714998559364,104.68137023624624,104.65211340380111,105.10594380465412,107.21387588056052,106.63590115718085,107.80665103626725,107.17927396246014,108.68586939594557,107.89862650815768,106.42870042014293,106.36065407409471,106.97353370096421,107.83048121887363,106.99973037166619,106.11614628484911,105.52661769902019,107.57608700490347,108.79541101030806,108.90718824303298,110.51212433801899,109.20418857227143,109.92806194863313,110.65009948323986,111.13195592610467,111.72881407736753,111.54076692179599,110.8870830696695,110.42589068389867,111.5073616087043,111.42344848254119,108.51150188202239,107.1890312935182,107.99595562162455,108.47029898444514,107.27470452861502,107.18086063437802,106.31410132489572,107.74402298955263,108.51174590572997,107.88877363975624,109.04137759860943,108.8932059518844,108.47953426045743,108.50609209911728,108.18457446968318,107.68922830780147,107.08003409171765],\"yaxis\":\"y\",\"type\":\"scatter\"},{\"hovertemplate\":\"path_id=10000\\u003cbr\\u003eTime Steps=%{x}\\u003cbr\\u003eSpot=%{y}\\u003cextra\\u003e\\u003c\\u002fextra\\u003e\",\"legendgroup\":\"10000\",\"line\":{\"color\":\"#FFA15A\",\"dash\":\"solid\"},\"marker\":{\"symbol\":\"circle\"},\"mode\":\"lines\",\"name\":\"10000\",\"orientation\":\"v\",\"showlegend\":true,\"x\":[0,1,2,3,4,5,6,7,8,9,10,11,12,13,14,15,16,17,18,19,20,21,22,23,24,25,26,27,28,29,30,31,32,33,34,35,36,37,38,39,40,41,42,43,44,45,46,47,48,49,50,51,52,53,54,55,56,57,58,59,60,61,62,63],\"xaxis\":\"x\",\"y\":[100.0,99.18071361139279,100.64108492238095,101.97183261357023,101.89013289611009,102.70371404296115,104.0389855042403,104.8862815988754,105.15267332803549,106.11525524185993,107.12312174112769,106.9806242876394,109.22455567163516,107.38917407667941,108.59064517514015,107.46635416823237,107.42658743053889,109.02159309117346,107.02423524249436,106.11708789959653,106.98538046600393,106.44699461963361,104.0814668814579,103.10736477342185,101.70961523635175,101.36074995484775,100.591535616417,99.94395840068559,100.61376500695923,100.68051838201983,100.57509873410056,101.65163420805708,100.7380627578589,103.83555905326601,103.61710621782456,105.37408460956968,105.52327583193836,106.41789695248386,106.0995820599493,106.35337286570245,107.08282600192715,106.92283835109761,107.0268506127659,105.584249308113,104.57736395668798,103.86008808611062,103.63155143104011,105.34128154733463,105.9712226676975,105.0349560936041,105.41377284119642,106.85283650442571,107.41975545569147,108.6348228250258,108.56587422476122,106.40830966269161,105.7110782028087,105.9840738403942,105.3100654467247,104.63356265157638,103.95310959433142,102.56011567721187,103.034987090546,104.29544726289576],\"yaxis\":\"y\",\"type\":\"scatter\"}],                        {\"template\":{\"data\":{\"histogram2dcontour\":[{\"type\":\"histogram2dcontour\",\"colorbar\":{\"outlinewidth\":0,\"ticks\":\"\"},\"colorscale\":[[0.0,\"#0d0887\"],[0.1111111111111111,\"#46039f\"],[0.2222222222222222,\"#7201a8\"],[0.3333333333333333,\"#9c179e\"],[0.4444444444444444,\"#bd3786\"],[0.5555555555555556,\"#d8576b\"],[0.6666666666666666,\"#ed7953\"],[0.7777777777777778,\"#fb9f3a\"],[0.8888888888888888,\"#fdca26\"],[1.0,\"#f0f921\"]]}],\"choropleth\":[{\"type\":\"choropleth\",\"colorbar\":{\"outlinewidth\":0,\"ticks\":\"\"}}],\"histogram2d\":[{\"type\":\"histogram2d\",\"colorbar\":{\"outlinewidth\":0,\"ticks\":\"\"},\"colorscale\":[[0.0,\"#0d0887\"],[0.1111111111111111,\"#46039f\"],[0.2222222222222222,\"#7201a8\"],[0.3333333333333333,\"#9c179e\"],[0.4444444444444444,\"#bd3786\"],[0.5555555555555556,\"#d8576b\"],[0.6666666666666666,\"#ed7953\"],[0.7777777777777778,\"#fb9f3a\"],[0.8888888888888888,\"#fdca26\"],[1.0,\"#f0f921\"]]}],\"heatmap\":[{\"type\":\"heatmap\",\"colorbar\":{\"outlinewidth\":0,\"ticks\":\"\"},\"colorscale\":[[0.0,\"#0d0887\"],[0.1111111111111111,\"#46039f\"],[0.2222222222222222,\"#7201a8\"],[0.3333333333333333,\"#9c179e\"],[0.4444444444444444,\"#bd3786\"],[0.5555555555555556,\"#d8576b\"],[0.6666666666666666,\"#ed7953\"],[0.7777777777777778,\"#fb9f3a\"],[0.8888888888888888,\"#fdca26\"],[1.0,\"#f0f921\"]]}],\"heatmapgl\":[{\"type\":\"heatmapgl\",\"colorbar\":{\"outlinewidth\":0,\"ticks\":\"\"},\"colorscale\":[[0.0,\"#0d0887\"],[0.1111111111111111,\"#46039f\"],[0.2222222222222222,\"#7201a8\"],[0.3333333333333333,\"#9c179e\"],[0.4444444444444444,\"#bd3786\"],[0.5555555555555556,\"#d8576b\"],[0.6666666666666666,\"#ed7953\"],[0.7777777777777778,\"#fb9f3a\"],[0.8888888888888888,\"#fdca26\"],[1.0,\"#f0f921\"]]}],\"contourcarpet\":[{\"type\":\"contourcarpet\",\"colorbar\":{\"outlinewidth\":0,\"ticks\":\"\"}}],\"contour\":[{\"type\":\"contour\",\"colorbar\":{\"outlinewidth\":0,\"ticks\":\"\"},\"colorscale\":[[0.0,\"#0d0887\"],[0.1111111111111111,\"#46039f\"],[0.2222222222222222,\"#7201a8\"],[0.3333333333333333,\"#9c179e\"],[0.4444444444444444,\"#bd3786\"],[0.5555555555555556,\"#d8576b\"],[0.6666666666666666,\"#ed7953\"],[0.7777777777777778,\"#fb9f3a\"],[0.8888888888888888,\"#fdca26\"],[1.0,\"#f0f921\"]]}],\"surface\":[{\"type\":\"surface\",\"colorbar\":{\"outlinewidth\":0,\"ticks\":\"\"},\"colorscale\":[[0.0,\"#0d0887\"],[0.1111111111111111,\"#46039f\"],[0.2222222222222222,\"#7201a8\"],[0.3333333333333333,\"#9c179e\"],[0.4444444444444444,\"#bd3786\"],[0.5555555555555556,\"#d8576b\"],[0.6666666666666666,\"#ed7953\"],[0.7777777777777778,\"#fb9f3a\"],[0.8888888888888888,\"#fdca26\"],[1.0,\"#f0f921\"]]}],\"mesh3d\":[{\"type\":\"mesh3d\",\"colorbar\":{\"outlinewidth\":0,\"ticks\":\"\"}}],\"scatter\":[{\"fillpattern\":{\"fillmode\":\"overlay\",\"size\":10,\"solidity\":0.2},\"type\":\"scatter\"}],\"parcoords\":[{\"type\":\"parcoords\",\"line\":{\"colorbar\":{\"outlinewidth\":0,\"ticks\":\"\"}}}],\"scatterpolargl\":[{\"type\":\"scatterpolargl\",\"marker\":{\"colorbar\":{\"outlinewidth\":0,\"ticks\":\"\"}}}],\"bar\":[{\"error_x\":{\"color\":\"#2a3f5f\"},\"error_y\":{\"color\":\"#2a3f5f\"},\"marker\":{\"line\":{\"color\":\"#E5ECF6\",\"width\":0.5},\"pattern\":{\"fillmode\":\"overlay\",\"size\":10,\"solidity\":0.2}},\"type\":\"bar\"}],\"scattergeo\":[{\"type\":\"scattergeo\",\"marker\":{\"colorbar\":{\"outlinewidth\":0,\"ticks\":\"\"}}}],\"scatterpolar\":[{\"type\":\"scatterpolar\",\"marker\":{\"colorbar\":{\"outlinewidth\":0,\"ticks\":\"\"}}}],\"histogram\":[{\"marker\":{\"pattern\":{\"fillmode\":\"overlay\",\"size\":10,\"solidity\":0.2}},\"type\":\"histogram\"}],\"scattergl\":[{\"type\":\"scattergl\",\"marker\":{\"colorbar\":{\"outlinewidth\":0,\"ticks\":\"\"}}}],\"scatter3d\":[{\"type\":\"scatter3d\",\"line\":{\"colorbar\":{\"outlinewidth\":0,\"ticks\":\"\"}},\"marker\":{\"colorbar\":{\"outlinewidth\":0,\"ticks\":\"\"}}}],\"scattermapbox\":[{\"type\":\"scattermapbox\",\"marker\":{\"colorbar\":{\"outlinewidth\":0,\"ticks\":\"\"}}}],\"scatterternary\":[{\"type\":\"scatterternary\",\"marker\":{\"colorbar\":{\"outlinewidth\":0,\"ticks\":\"\"}}}],\"scattercarpet\":[{\"type\":\"scattercarpet\",\"marker\":{\"colorbar\":{\"outlinewidth\":0,\"ticks\":\"\"}}}],\"carpet\":[{\"aaxis\":{\"endlinecolor\":\"#2a3f5f\",\"gridcolor\":\"white\",\"linecolor\":\"white\",\"minorgridcolor\":\"white\",\"startlinecolor\":\"#2a3f5f\"},\"baxis\":{\"endlinecolor\":\"#2a3f5f\",\"gridcolor\":\"white\",\"linecolor\":\"white\",\"minorgridcolor\":\"white\",\"startlinecolor\":\"#2a3f5f\"},\"type\":\"carpet\"}],\"table\":[{\"cells\":{\"fill\":{\"color\":\"#EBF0F8\"},\"line\":{\"color\":\"white\"}},\"header\":{\"fill\":{\"color\":\"#C8D4E3\"},\"line\":{\"color\":\"white\"}},\"type\":\"table\"}],\"barpolar\":[{\"marker\":{\"line\":{\"color\":\"#E5ECF6\",\"width\":0.5},\"pattern\":{\"fillmode\":\"overlay\",\"size\":10,\"solidity\":0.2}},\"type\":\"barpolar\"}],\"pie\":[{\"automargin\":true,\"type\":\"pie\"}]},\"layout\":{\"autotypenumbers\":\"strict\",\"colorway\":[\"#636efa\",\"#EF553B\",\"#00cc96\",\"#ab63fa\",\"#FFA15A\",\"#19d3f3\",\"#FF6692\",\"#B6E880\",\"#FF97FF\",\"#FECB52\"],\"font\":{\"color\":\"#2a3f5f\"},\"hovermode\":\"closest\",\"hoverlabel\":{\"align\":\"left\"},\"paper_bgcolor\":\"white\",\"plot_bgcolor\":\"#E5ECF6\",\"polar\":{\"bgcolor\":\"#E5ECF6\",\"angularaxis\":{\"gridcolor\":\"white\",\"linecolor\":\"white\",\"ticks\":\"\"},\"radialaxis\":{\"gridcolor\":\"white\",\"linecolor\":\"white\",\"ticks\":\"\"}},\"ternary\":{\"bgcolor\":\"#E5ECF6\",\"aaxis\":{\"gridcolor\":\"white\",\"linecolor\":\"white\",\"ticks\":\"\"},\"baxis\":{\"gridcolor\":\"white\",\"linecolor\":\"white\",\"ticks\":\"\"},\"caxis\":{\"gridcolor\":\"white\",\"linecolor\":\"white\",\"ticks\":\"\"}},\"coloraxis\":{\"colorbar\":{\"outlinewidth\":0,\"ticks\":\"\"}},\"colorscale\":{\"sequential\":[[0.0,\"#0d0887\"],[0.1111111111111111,\"#46039f\"],[0.2222222222222222,\"#7201a8\"],[0.3333333333333333,\"#9c179e\"],[0.4444444444444444,\"#bd3786\"],[0.5555555555555556,\"#d8576b\"],[0.6666666666666666,\"#ed7953\"],[0.7777777777777778,\"#fb9f3a\"],[0.8888888888888888,\"#fdca26\"],[1.0,\"#f0f921\"]],\"sequentialminus\":[[0.0,\"#0d0887\"],[0.1111111111111111,\"#46039f\"],[0.2222222222222222,\"#7201a8\"],[0.3333333333333333,\"#9c179e\"],[0.4444444444444444,\"#bd3786\"],[0.5555555555555556,\"#d8576b\"],[0.6666666666666666,\"#ed7953\"],[0.7777777777777778,\"#fb9f3a\"],[0.8888888888888888,\"#fdca26\"],[1.0,\"#f0f921\"]],\"diverging\":[[0,\"#8e0152\"],[0.1,\"#c51b7d\"],[0.2,\"#de77ae\"],[0.3,\"#f1b6da\"],[0.4,\"#fde0ef\"],[0.5,\"#f7f7f7\"],[0.6,\"#e6f5d0\"],[0.7,\"#b8e186\"],[0.8,\"#7fbc41\"],[0.9,\"#4d9221\"],[1,\"#276419\"]]},\"xaxis\":{\"gridcolor\":\"white\",\"linecolor\":\"white\",\"ticks\":\"\",\"title\":{\"standoff\":15},\"zerolinecolor\":\"white\",\"automargin\":true,\"zerolinewidth\":2},\"yaxis\":{\"gridcolor\":\"white\",\"linecolor\":\"white\",\"ticks\":\"\",\"title\":{\"standoff\":15},\"zerolinecolor\":\"white\",\"automargin\":true,\"zerolinewidth\":2},\"scene\":{\"xaxis\":{\"backgroundcolor\":\"#E5ECF6\",\"gridcolor\":\"white\",\"linecolor\":\"white\",\"showbackground\":true,\"ticks\":\"\",\"zerolinecolor\":\"white\",\"gridwidth\":2},\"yaxis\":{\"backgroundcolor\":\"#E5ECF6\",\"gridcolor\":\"white\",\"linecolor\":\"white\",\"showbackground\":true,\"ticks\":\"\",\"zerolinecolor\":\"white\",\"gridwidth\":2},\"zaxis\":{\"backgroundcolor\":\"#E5ECF6\",\"gridcolor\":\"white\",\"linecolor\":\"white\",\"showbackground\":true,\"ticks\":\"\",\"zerolinecolor\":\"white\",\"gridwidth\":2}},\"shapedefaults\":{\"line\":{\"color\":\"#2a3f5f\"}},\"annotationdefaults\":{\"arrowcolor\":\"#2a3f5f\",\"arrowhead\":0,\"arrowwidth\":1},\"geo\":{\"bgcolor\":\"white\",\"landcolor\":\"#E5ECF6\",\"subunitcolor\":\"white\",\"showland\":true,\"showlakes\":true,\"lakecolor\":\"white\"},\"title\":{\"x\":0.05},\"mapbox\":{\"style\":\"light\"}}},\"xaxis\":{\"anchor\":\"y\",\"domain\":[0.0,1.0],\"title\":{\"text\":\"Time Steps\"}},\"yaxis\":{\"anchor\":\"x\",\"domain\":[0.0,1.0],\"title\":{\"text\":\"Spot\"}},\"legend\":{\"title\":{\"text\":\"path_id\"},\"tracegroupgap\":0},\"margin\":{\"t\":60}},                        {\"responsive\": true}                    ).then(function(){\n",
              "                            \n",
              "var gd = document.getElementById('bbe27fa9-edab-4d7a-b15f-9af031d22238');\n",
              "var x = new MutationObserver(function (mutations, observer) {{\n",
              "        var display = window.getComputedStyle(gd).display;\n",
              "        if (!display || display === 'none') {{\n",
              "            console.log([gd, 'removed!']);\n",
              "            Plotly.purge(gd);\n",
              "            observer.disconnect();\n",
              "        }}\n",
              "}});\n",
              "\n",
              "// Listen for the removal of the full notebook cells\n",
              "var notebookContainer = gd.closest('#notebook-container');\n",
              "if (notebookContainer) {{\n",
              "    x.observe(notebookContainer, {childList: true});\n",
              "}}\n",
              "\n",
              "// Listen for the clearing of the current output cell\n",
              "var outputEl = gd.closest('.output');\n",
              "if (outputEl) {{\n",
              "    x.observe(outputEl, {childList: true});\n",
              "}}\n",
              "\n",
              "                        })                };                            </script>        </div>\n",
              "</body>\n",
              "</html>"
            ]
          },
          "metadata": {}
        },
        {
          "output_type": "display_data",
          "data": {
            "text/html": [
              "<html>\n",
              "<head><meta charset=\"utf-8\" /></head>\n",
              "<body>\n",
              "    <div>            <script src=\"https://cdnjs.cloudflare.com/ajax/libs/mathjax/2.7.5/MathJax.js?config=TeX-AMS-MML_SVG\"></script><script type=\"text/javascript\">if (window.MathJax && window.MathJax.Hub && window.MathJax.Hub.Config) {window.MathJax.Hub.Config({SVG: {font: \"STIX-Web\"}});}</script>                <script type=\"text/javascript\">window.PlotlyConfig = {MathJaxConfig: 'local'};</script>\n",
              "        <script charset=\"utf-8\" src=\"https://cdn.plot.ly/plotly-2.24.1.min.js\"></script>                <div id=\"de4a9968-7b58-478f-b7e4-c3b70534686a\" class=\"plotly-graph-div\" style=\"height:525px; width:100%;\"></div>            <script type=\"text/javascript\">                                    window.PLOTLYENV=window.PLOTLYENV || {};                                    if (document.getElementById(\"de4a9968-7b58-478f-b7e4-c3b70534686a\")) {                    Plotly.newPlot(                        \"de4a9968-7b58-478f-b7e4-c3b70534686a\",                        [{\"hovertemplate\":\"path_id=152\\u003cbr\\u003eTime Steps=%{x}\\u003cbr\\u003eDelta=%{y}\\u003cextra\\u003e\\u003c\\u002fextra\\u003e\",\"legendgroup\":\"152\",\"line\":{\"color\":\"#636efa\",\"dash\":\"solid\"},\"marker\":{\"symbol\":\"circle\"},\"mode\":\"lines\",\"name\":\"152\",\"orientation\":\"v\",\"showlegend\":true,\"x\":[0,1,2,3,4,5,6,7,8,9,10,11,12,13,14,15,16,17,18,19,20,21,22,23,24,25,26,27,28,29,30,31,32,33,34,35,36,37,38,39,40,41,42,43,44,45,46,47,48,49,50,51,52,53,54,55,56,57,58,59,60,61,62,63],\"xaxis\":\"x\",\"y\":[0.5546822036275671,0.5166367810798489,0.5964822047274827,0.5740205643130253,0.6379821387121293,0.6865883181389288,0.6979628031940782,0.6794544296946766,0.7485280445670333,0.8014080903387872,0.8758365209083159,0.8642864442926717,0.8351043304873793,0.8688955977941852,0.8376435537924168,0.7668265955746836,0.8022465468351171,0.7882929572216859,0.763642842862214,0.8298813519509536,0.840563987247572,0.8347129814763017,0.8861606062262628,0.8778022419788383,0.9313325681587722,0.880063661805126,0.8617355544526201,0.9048317610264693,0.8690997960263229,0.9281259152734909,0.9293068557795601,0.93381040161768,0.882248707867548,0.9250244970916209,0.8635765429408175,0.9194743736378427,0.9466346255860649,0.9376388868570925,0.9336999449717855,0.9628741239864077,0.9633374175227659,0.9780279163336933,0.987694598958665,0.9834678500382315,0.9887394945238154,0.9879393235447617,0.9819159543522066,0.975267030415422,0.9685443893020933,0.9572274552211756,0.9351040435740218,0.9522650007756116,0.936038433038346,0.8889410857778087,0.7715294693845196,0.8596980441310836,0.8517660746527338,0.8603828651867624,0.9086365728775159,0.7474335426790658,0.41018459149161096,0.45150347531133633,0.8028857857059947,1.0],\"yaxis\":\"y\",\"type\":\"scatter\"},{\"hovertemplate\":\"path_id=2029\\u003cbr\\u003eTime Steps=%{x}\\u003cbr\\u003eDelta=%{y}\\u003cextra\\u003e\\u003c\\u002fextra\\u003e\",\"legendgroup\":\"2029\",\"line\":{\"color\":\"#EF553B\",\"dash\":\"solid\"},\"marker\":{\"symbol\":\"circle\"},\"mode\":\"lines\",\"name\":\"2029\",\"orientation\":\"v\",\"showlegend\":true,\"x\":[0,1,2,3,4,5,6,7,8,9,10,11,12,13,14,15,16,17,18,19,20,21,22,23,24,25,26,27,28,29,30,31,32,33,34,35,36,37,38,39,40,41,42,43,44,45,46,47,48,49,50,51,52,53,54,55,56,57,58,59,60,61,62,63],\"xaxis\":\"x\",\"y\":[0.5546822036275671,0.5282444419783242,0.5341640784746707,0.5898847883785395,0.5407491143682609,0.4910702412977036,0.5238126811599656,0.4963825237563979,0.4637015410772319,0.43623820457088763,0.4148887740680291,0.3713536568511149,0.3644998374346018,0.3528706202463529,0.45119278041694166,0.5273018427178251,0.5029569418389113,0.5002682069514456,0.43184704005735275,0.3738809749009699,0.4354550191338026,0.4224694072320691,0.44252584811911766,0.3380510689359678,0.42744064770495444,0.4161009279617293,0.3514200593527935,0.33067745612417165,0.34961424812235486,0.34068383727777674,0.38593578132901557,0.47788653514105756,0.5165920545922676,0.5168486739392085,0.4911851384078453,0.5681908546471106,0.5901746371655383,0.6726100586321493,0.6414182285849817,0.6145657140324645,0.6740848520103273,0.5633913281525124,0.48400982832192063,0.27247201156855405,0.19261959531383188,0.25737436146374487,0.22725201539542034,0.2267870249504751,0.46735922612596625,0.49710449494634107,0.47264828665782677,0.5364401137066276,0.6600608782961327,0.6413102222864616,0.5842277053981453,0.7933854959719807,0.8594439897258008,0.931733604569738,0.8798411118302558,0.8350080991998596,0.9193437648241325,0.8675142270493359,0.8065252839916104,1.0],\"yaxis\":\"y\",\"type\":\"scatter\"},{\"hovertemplate\":\"path_id=6221\\u003cbr\\u003eTime Steps=%{x}\\u003cbr\\u003eDelta=%{y}\\u003cextra\\u003e\\u003c\\u002fextra\\u003e\",\"legendgroup\":\"6221\",\"line\":{\"color\":\"#00cc96\",\"dash\":\"solid\"},\"marker\":{\"symbol\":\"circle\"},\"mode\":\"lines\",\"name\":\"6221\",\"orientation\":\"v\",\"showlegend\":true,\"x\":[0,1,2,3,4,5,6,7,8,9,10,11,12,13,14,15,16,17,18,19,20,21,22,23,24,25,26,27,28,29,30,31,32,33,34,35,36,37,38,39,40,41,42,43,44,45,46,47,48,49,50,51,52,53,54,55,56,57,58,59,60,61,62,63],\"xaxis\":\"x\",\"y\":[0.5546822036275671,0.5892694998791447,0.5149020496213652,0.5286768463052304,0.579562867714293,0.5784982605174128,0.6238622182660748,0.6352800067562213,0.6719676596128775,0.6582314319126258,0.6598458079577196,0.7781162478026105,0.7771852624036804,0.7241848121919476,0.7146461911700571,0.7216086660787888,0.7606889463407327,0.7691751523467116,0.7058348911181622,0.767094626665499,0.7515455022510129,0.7682780846343478,0.7237768849894428,0.8143645402647134,0.8457261734051742,0.8408916400229651,0.8604908758797586,0.8794164805592264,0.8743711895154604,0.9064100637675787,0.9167595486455866,0.9204964109825589,0.943346360038505,0.9203216927571642,0.9059082784997137,0.9230240164804017,0.9271763337196713,0.956225991262075,0.9379291395591588,0.9345945264062995,0.8939068351962568,0.8548132932818282,0.8348922435057735,0.7989105335441902,0.8080239600575523,0.8433433263236294,0.7863873836577779,0.8689304892110405,0.9597570180014434,0.9630958958623753,0.9610348069775728,0.9736207803751604,0.9840101022932695,0.9822130549900898,0.9916087806257797,0.997884288994121,0.9993408451065704,0.9992830730681027,0.9997618363912414,0.9999411054504856,0.9999996425180303,0.9999999999862692,1.0,1.0],\"yaxis\":\"y\",\"type\":\"scatter\"},{\"hovertemplate\":\"path_id=6616\\u003cbr\\u003eTime Steps=%{x}\\u003cbr\\u003eDelta=%{y}\\u003cextra\\u003e\\u003c\\u002fextra\\u003e\",\"legendgroup\":\"6616\",\"line\":{\"color\":\"#ab63fa\",\"dash\":\"solid\"},\"marker\":{\"symbol\":\"circle\"},\"mode\":\"lines\",\"name\":\"6616\",\"orientation\":\"v\",\"showlegend\":true,\"x\":[0,1,2,3,4,5,6,7,8,9,10,11,12,13,14,15,16,17,18,19,20,21,22,23,24,25,26,27,28,29,30,31,32,33,34,35,36,37,38,39,40,41,42,43,44,45,46,47,48,49,50,51,52,53,54,55,56,57,58,59,60,61,62,63],\"xaxis\":\"x\",\"y\":[0.5546822036275671,0.6028314960493611,0.6513328457527559,0.6105603059247005,0.6012443488491601,0.5858083247623354,0.5695051408352687,0.5861950212901662,0.6423597752131576,0.6419889858797325,0.6307896869592137,0.6332482860562931,0.6322142058358048,0.5778532726396345,0.6661763674872783,0.6687883120969055,0.7227765866603781,0.7971209340619753,0.797740051069822,0.8184362285162008,0.8920978751470744,0.8772740329079531,0.9120217724338873,0.8979079250697632,0.9357036391587139,0.9210141101157812,0.8828549215151285,0.8832944567611134,0.904627077546391,0.9291271815405406,0.9108358730897255,0.8865907717704336,0.8684152174705339,0.9339565089202072,0.9599360959785203,0.9639260457202958,0.9832400303896911,0.9723042351051957,0.9816958785327125,0.988429439170336,0.9920721351988525,0.9951111818318701,0.9953620225874281,0.9941820126873036,0.9934927970419287,0.9973682554606657,0.997799040026764,0.9871429201500814,0.9752413768686453,0.9874722470415808,0.9928364944813067,0.9862851773838258,0.9884041566947999,0.9823043915922739,0.9963538216986243,0.9990501858754458,0.998975576672071,0.9999222550046747,0.9999765957049627,0.9999929234306479,0.9999997390139969,0.9999999983051571,0.999999999999998,1.0],\"yaxis\":\"y\",\"type\":\"scatter\"},{\"hovertemplate\":\"path_id=10000\\u003cbr\\u003eTime Steps=%{x}\\u003cbr\\u003eDelta=%{y}\\u003cextra\\u003e\\u003c\\u002fextra\\u003e\",\"legendgroup\":\"10000\",\"line\":{\"color\":\"#FFA15A\",\"dash\":\"solid\"},\"marker\":{\"symbol\":\"circle\"},\"mode\":\"lines\",\"name\":\"10000\",\"orientation\":\"v\",\"showlegend\":true,\"x\":[0,1,2,3,4,5,6,7,8,9,10,11,12,13,14,15,16,17,18,19,20,21,22,23,24,25,26,27,28,29,30,31,32,33,34,35,36,37,38,39,40,41,42,43,44,45,46,47,48,49,50,51,52,53,54,55,56,57,58,59,60,61,62,63],\"xaxis\":\"x\",\"y\":[0.5546822036275671,0.5103056033758715,0.5878004604955928,0.655778230217426,0.6521211106334339,0.6923962616114082,0.7535866446945618,0.7893906344096046,0.8010699759143444,0.8369793991829112,0.8699974233102179,0.8676219884923759,0.9238269987033854,0.8828693996863675,0.9142284725717583,0.8887589433491125,0.8896415911572324,0.9285780467399312,0.8824214518761305,0.8559216623910567,0.8855756816684585,0.8712905812030518,0.779972589360457,0.7329005641402442,0.6537458839291013,0.6326293978481312,0.582380914171513,0.5374663333971755,0.5839248358155263,0.5886623765917548,0.5812764849864567,0.6570643360009214,0.5933711836851869,0.7944971319925618,0.785695498963338,0.8725644710663161,0.8819858991085183,0.9161090853175513,0.9098468161641606,0.9215413163330939,0.9444405987119695,0.9442584113971495,0.9502918196100764,0.913616779562239,0.8774163907825299,0.8457211008860266,0.8381860785218781,0.925913546039405,0.9507208435113403,0.9270583168174453,0.9462997448088012,0.9814639389533661,0.990391759963308,0.9976472304904797,0.9984175610817827,0.9911795813833935,0.9883175175679129,0.9946668605813281,0.9935671260155713,0.9924794824520459,0.991777243760566,0.972330256606011,0.999267364822069,1.0],\"yaxis\":\"y\",\"type\":\"scatter\"}],                        {\"template\":{\"data\":{\"histogram2dcontour\":[{\"type\":\"histogram2dcontour\",\"colorbar\":{\"outlinewidth\":0,\"ticks\":\"\"},\"colorscale\":[[0.0,\"#0d0887\"],[0.1111111111111111,\"#46039f\"],[0.2222222222222222,\"#7201a8\"],[0.3333333333333333,\"#9c179e\"],[0.4444444444444444,\"#bd3786\"],[0.5555555555555556,\"#d8576b\"],[0.6666666666666666,\"#ed7953\"],[0.7777777777777778,\"#fb9f3a\"],[0.8888888888888888,\"#fdca26\"],[1.0,\"#f0f921\"]]}],\"choropleth\":[{\"type\":\"choropleth\",\"colorbar\":{\"outlinewidth\":0,\"ticks\":\"\"}}],\"histogram2d\":[{\"type\":\"histogram2d\",\"colorbar\":{\"outlinewidth\":0,\"ticks\":\"\"},\"colorscale\":[[0.0,\"#0d0887\"],[0.1111111111111111,\"#46039f\"],[0.2222222222222222,\"#7201a8\"],[0.3333333333333333,\"#9c179e\"],[0.4444444444444444,\"#bd3786\"],[0.5555555555555556,\"#d8576b\"],[0.6666666666666666,\"#ed7953\"],[0.7777777777777778,\"#fb9f3a\"],[0.8888888888888888,\"#fdca26\"],[1.0,\"#f0f921\"]]}],\"heatmap\":[{\"type\":\"heatmap\",\"colorbar\":{\"outlinewidth\":0,\"ticks\":\"\"},\"colorscale\":[[0.0,\"#0d0887\"],[0.1111111111111111,\"#46039f\"],[0.2222222222222222,\"#7201a8\"],[0.3333333333333333,\"#9c179e\"],[0.4444444444444444,\"#bd3786\"],[0.5555555555555556,\"#d8576b\"],[0.6666666666666666,\"#ed7953\"],[0.7777777777777778,\"#fb9f3a\"],[0.8888888888888888,\"#fdca26\"],[1.0,\"#f0f921\"]]}],\"heatmapgl\":[{\"type\":\"heatmapgl\",\"colorbar\":{\"outlinewidth\":0,\"ticks\":\"\"},\"colorscale\":[[0.0,\"#0d0887\"],[0.1111111111111111,\"#46039f\"],[0.2222222222222222,\"#7201a8\"],[0.3333333333333333,\"#9c179e\"],[0.4444444444444444,\"#bd3786\"],[0.5555555555555556,\"#d8576b\"],[0.6666666666666666,\"#ed7953\"],[0.7777777777777778,\"#fb9f3a\"],[0.8888888888888888,\"#fdca26\"],[1.0,\"#f0f921\"]]}],\"contourcarpet\":[{\"type\":\"contourcarpet\",\"colorbar\":{\"outlinewidth\":0,\"ticks\":\"\"}}],\"contour\":[{\"type\":\"contour\",\"colorbar\":{\"outlinewidth\":0,\"ticks\":\"\"},\"colorscale\":[[0.0,\"#0d0887\"],[0.1111111111111111,\"#46039f\"],[0.2222222222222222,\"#7201a8\"],[0.3333333333333333,\"#9c179e\"],[0.4444444444444444,\"#bd3786\"],[0.5555555555555556,\"#d8576b\"],[0.6666666666666666,\"#ed7953\"],[0.7777777777777778,\"#fb9f3a\"],[0.8888888888888888,\"#fdca26\"],[1.0,\"#f0f921\"]]}],\"surface\":[{\"type\":\"surface\",\"colorbar\":{\"outlinewidth\":0,\"ticks\":\"\"},\"colorscale\":[[0.0,\"#0d0887\"],[0.1111111111111111,\"#46039f\"],[0.2222222222222222,\"#7201a8\"],[0.3333333333333333,\"#9c179e\"],[0.4444444444444444,\"#bd3786\"],[0.5555555555555556,\"#d8576b\"],[0.6666666666666666,\"#ed7953\"],[0.7777777777777778,\"#fb9f3a\"],[0.8888888888888888,\"#fdca26\"],[1.0,\"#f0f921\"]]}],\"mesh3d\":[{\"type\":\"mesh3d\",\"colorbar\":{\"outlinewidth\":0,\"ticks\":\"\"}}],\"scatter\":[{\"fillpattern\":{\"fillmode\":\"overlay\",\"size\":10,\"solidity\":0.2},\"type\":\"scatter\"}],\"parcoords\":[{\"type\":\"parcoords\",\"line\":{\"colorbar\":{\"outlinewidth\":0,\"ticks\":\"\"}}}],\"scatterpolargl\":[{\"type\":\"scatterpolargl\",\"marker\":{\"colorbar\":{\"outlinewidth\":0,\"ticks\":\"\"}}}],\"bar\":[{\"error_x\":{\"color\":\"#2a3f5f\"},\"error_y\":{\"color\":\"#2a3f5f\"},\"marker\":{\"line\":{\"color\":\"#E5ECF6\",\"width\":0.5},\"pattern\":{\"fillmode\":\"overlay\",\"size\":10,\"solidity\":0.2}},\"type\":\"bar\"}],\"scattergeo\":[{\"type\":\"scattergeo\",\"marker\":{\"colorbar\":{\"outlinewidth\":0,\"ticks\":\"\"}}}],\"scatterpolar\":[{\"type\":\"scatterpolar\",\"marker\":{\"colorbar\":{\"outlinewidth\":0,\"ticks\":\"\"}}}],\"histogram\":[{\"marker\":{\"pattern\":{\"fillmode\":\"overlay\",\"size\":10,\"solidity\":0.2}},\"type\":\"histogram\"}],\"scattergl\":[{\"type\":\"scattergl\",\"marker\":{\"colorbar\":{\"outlinewidth\":0,\"ticks\":\"\"}}}],\"scatter3d\":[{\"type\":\"scatter3d\",\"line\":{\"colorbar\":{\"outlinewidth\":0,\"ticks\":\"\"}},\"marker\":{\"colorbar\":{\"outlinewidth\":0,\"ticks\":\"\"}}}],\"scattermapbox\":[{\"type\":\"scattermapbox\",\"marker\":{\"colorbar\":{\"outlinewidth\":0,\"ticks\":\"\"}}}],\"scatterternary\":[{\"type\":\"scatterternary\",\"marker\":{\"colorbar\":{\"outlinewidth\":0,\"ticks\":\"\"}}}],\"scattercarpet\":[{\"type\":\"scattercarpet\",\"marker\":{\"colorbar\":{\"outlinewidth\":0,\"ticks\":\"\"}}}],\"carpet\":[{\"aaxis\":{\"endlinecolor\":\"#2a3f5f\",\"gridcolor\":\"white\",\"linecolor\":\"white\",\"minorgridcolor\":\"white\",\"startlinecolor\":\"#2a3f5f\"},\"baxis\":{\"endlinecolor\":\"#2a3f5f\",\"gridcolor\":\"white\",\"linecolor\":\"white\",\"minorgridcolor\":\"white\",\"startlinecolor\":\"#2a3f5f\"},\"type\":\"carpet\"}],\"table\":[{\"cells\":{\"fill\":{\"color\":\"#EBF0F8\"},\"line\":{\"color\":\"white\"}},\"header\":{\"fill\":{\"color\":\"#C8D4E3\"},\"line\":{\"color\":\"white\"}},\"type\":\"table\"}],\"barpolar\":[{\"marker\":{\"line\":{\"color\":\"#E5ECF6\",\"width\":0.5},\"pattern\":{\"fillmode\":\"overlay\",\"size\":10,\"solidity\":0.2}},\"type\":\"barpolar\"}],\"pie\":[{\"automargin\":true,\"type\":\"pie\"}]},\"layout\":{\"autotypenumbers\":\"strict\",\"colorway\":[\"#636efa\",\"#EF553B\",\"#00cc96\",\"#ab63fa\",\"#FFA15A\",\"#19d3f3\",\"#FF6692\",\"#B6E880\",\"#FF97FF\",\"#FECB52\"],\"font\":{\"color\":\"#2a3f5f\"},\"hovermode\":\"closest\",\"hoverlabel\":{\"align\":\"left\"},\"paper_bgcolor\":\"white\",\"plot_bgcolor\":\"#E5ECF6\",\"polar\":{\"bgcolor\":\"#E5ECF6\",\"angularaxis\":{\"gridcolor\":\"white\",\"linecolor\":\"white\",\"ticks\":\"\"},\"radialaxis\":{\"gridcolor\":\"white\",\"linecolor\":\"white\",\"ticks\":\"\"}},\"ternary\":{\"bgcolor\":\"#E5ECF6\",\"aaxis\":{\"gridcolor\":\"white\",\"linecolor\":\"white\",\"ticks\":\"\"},\"baxis\":{\"gridcolor\":\"white\",\"linecolor\":\"white\",\"ticks\":\"\"},\"caxis\":{\"gridcolor\":\"white\",\"linecolor\":\"white\",\"ticks\":\"\"}},\"coloraxis\":{\"colorbar\":{\"outlinewidth\":0,\"ticks\":\"\"}},\"colorscale\":{\"sequential\":[[0.0,\"#0d0887\"],[0.1111111111111111,\"#46039f\"],[0.2222222222222222,\"#7201a8\"],[0.3333333333333333,\"#9c179e\"],[0.4444444444444444,\"#bd3786\"],[0.5555555555555556,\"#d8576b\"],[0.6666666666666666,\"#ed7953\"],[0.7777777777777778,\"#fb9f3a\"],[0.8888888888888888,\"#fdca26\"],[1.0,\"#f0f921\"]],\"sequentialminus\":[[0.0,\"#0d0887\"],[0.1111111111111111,\"#46039f\"],[0.2222222222222222,\"#7201a8\"],[0.3333333333333333,\"#9c179e\"],[0.4444444444444444,\"#bd3786\"],[0.5555555555555556,\"#d8576b\"],[0.6666666666666666,\"#ed7953\"],[0.7777777777777778,\"#fb9f3a\"],[0.8888888888888888,\"#fdca26\"],[1.0,\"#f0f921\"]],\"diverging\":[[0,\"#8e0152\"],[0.1,\"#c51b7d\"],[0.2,\"#de77ae\"],[0.3,\"#f1b6da\"],[0.4,\"#fde0ef\"],[0.5,\"#f7f7f7\"],[0.6,\"#e6f5d0\"],[0.7,\"#b8e186\"],[0.8,\"#7fbc41\"],[0.9,\"#4d9221\"],[1,\"#276419\"]]},\"xaxis\":{\"gridcolor\":\"white\",\"linecolor\":\"white\",\"ticks\":\"\",\"title\":{\"standoff\":15},\"zerolinecolor\":\"white\",\"automargin\":true,\"zerolinewidth\":2},\"yaxis\":{\"gridcolor\":\"white\",\"linecolor\":\"white\",\"ticks\":\"\",\"title\":{\"standoff\":15},\"zerolinecolor\":\"white\",\"automargin\":true,\"zerolinewidth\":2},\"scene\":{\"xaxis\":{\"backgroundcolor\":\"#E5ECF6\",\"gridcolor\":\"white\",\"linecolor\":\"white\",\"showbackground\":true,\"ticks\":\"\",\"zerolinecolor\":\"white\",\"gridwidth\":2},\"yaxis\":{\"backgroundcolor\":\"#E5ECF6\",\"gridcolor\":\"white\",\"linecolor\":\"white\",\"showbackground\":true,\"ticks\":\"\",\"zerolinecolor\":\"white\",\"gridwidth\":2},\"zaxis\":{\"backgroundcolor\":\"#E5ECF6\",\"gridcolor\":\"white\",\"linecolor\":\"white\",\"showbackground\":true,\"ticks\":\"\",\"zerolinecolor\":\"white\",\"gridwidth\":2}},\"shapedefaults\":{\"line\":{\"color\":\"#2a3f5f\"}},\"annotationdefaults\":{\"arrowcolor\":\"#2a3f5f\",\"arrowhead\":0,\"arrowwidth\":1},\"geo\":{\"bgcolor\":\"white\",\"landcolor\":\"#E5ECF6\",\"subunitcolor\":\"white\",\"showland\":true,\"showlakes\":true,\"lakecolor\":\"white\"},\"title\":{\"x\":0.05},\"mapbox\":{\"style\":\"light\"}}},\"xaxis\":{\"anchor\":\"y\",\"domain\":[0.0,1.0],\"title\":{\"text\":\"Time Steps\"}},\"yaxis\":{\"anchor\":\"x\",\"domain\":[0.0,1.0],\"title\":{\"text\":\"Delta\"}},\"legend\":{\"title\":{\"text\":\"path_id\"},\"tracegroupgap\":0},\"margin\":{\"t\":60}},                        {\"responsive\": true}                    ).then(function(){\n",
              "                            \n",
              "var gd = document.getElementById('de4a9968-7b58-478f-b7e4-c3b70534686a');\n",
              "var x = new MutationObserver(function (mutations, observer) {{\n",
              "        var display = window.getComputedStyle(gd).display;\n",
              "        if (!display || display === 'none') {{\n",
              "            console.log([gd, 'removed!']);\n",
              "            Plotly.purge(gd);\n",
              "            observer.disconnect();\n",
              "        }}\n",
              "}});\n",
              "\n",
              "// Listen for the removal of the full notebook cells\n",
              "var notebookContainer = gd.closest('#notebook-container');\n",
              "if (notebookContainer) {{\n",
              "    x.observe(notebookContainer, {childList: true});\n",
              "}}\n",
              "\n",
              "// Listen for the clearing of the current output cell\n",
              "var outputEl = gd.closest('.output');\n",
              "if (outputEl) {{\n",
              "    x.observe(outputEl, {childList: true});\n",
              "}}\n",
              "\n",
              "                        })                };                            </script>        </div>\n",
              "</body>\n",
              "</html>"
            ]
          },
          "metadata": {}
        },
        {
          "output_type": "display_data",
          "data": {
            "text/html": [
              "<html>\n",
              "<head><meta charset=\"utf-8\" /></head>\n",
              "<body>\n",
              "    <div>            <script src=\"https://cdnjs.cloudflare.com/ajax/libs/mathjax/2.7.5/MathJax.js?config=TeX-AMS-MML_SVG\"></script><script type=\"text/javascript\">if (window.MathJax && window.MathJax.Hub && window.MathJax.Hub.Config) {window.MathJax.Hub.Config({SVG: {font: \"STIX-Web\"}});}</script>                <script type=\"text/javascript\">window.PlotlyConfig = {MathJaxConfig: 'local'};</script>\n",
              "        <script charset=\"utf-8\" src=\"https://cdn.plot.ly/plotly-2.24.1.min.js\"></script>                <div id=\"07bc0363-7b8b-4811-ae0b-6fc1d3333ef3\" class=\"plotly-graph-div\" style=\"height:525px; width:100%;\"></div>            <script type=\"text/javascript\">                                    window.PLOTLYENV=window.PLOTLYENV || {};                                    if (document.getElementById(\"07bc0363-7b8b-4811-ae0b-6fc1d3333ef3\")) {                    Plotly.newPlot(                        \"07bc0363-7b8b-4811-ae0b-6fc1d3333ef3\",                        [{\"hovertemplate\":\"path_id=152\\u003cbr\\u003eTime Steps=%{x}\\u003cbr\\u003eOption Value=%{y}\\u003cextra\\u003e\\u003c\\u002fextra\\u003e\",\"legendgroup\":\"152\",\"line\":{\"color\":\"#636efa\",\"dash\":\"solid\"},\"marker\":{\"symbol\":\"circle\"},\"mode\":\"lines\",\"name\":\"152\",\"orientation\":\"v\",\"showlegend\":true,\"x\":[0,1,2,3,4,5,6,7,8,9,10,11,12,13,14,15,16,17,18,19,20,21,22,23,24,25,26,27,28,29,30,31,32,33,34,35,36,37,38,39,40,41,42,43,44,45,46,47,48,49,50,51,52,53,54,55,56,57,58,59,60,61,62,63],\"xaxis\":\"x\",\"y\":[3.368669064577219,2.962911769023407,3.773238224938339,3.4953782723544364,4.207461159360641,4.821229062832586,4.945003712164279,4.641160631933886,5.653143614167504,6.597572969003764,8.42725705251884,8.000521850565406,7.1593038157979265,7.977907239460933,7.078874193224067,5.591313172789867,6.177620968256136,5.8502081730194675,5.364774481014308,6.53885233324182,6.699876625338902,6.4930420482983635,7.706700356967687,7.374073066369419,9.130286343268835,7.248148450625621,6.689014079948947,7.779295343424337,6.679757452145651,8.384686570322003,8.305856357442181,8.360374210186919,6.598519693594483,7.754750911524411,5.96060676678151,7.300470251221796,8.207124463131976,7.671506810759254,7.3720959280690295,8.54915044082388,8.392238221968185,9.248154675670477,10.113082598322876,9.33230284962562,9.754968100120891,9.372659558422242,8.433199727485345,7.654901738947345,7.007658930211463,6.257011255839529,5.33030494919042,5.613589455041307,4.92120083746785,3.833281628714346,2.4764577753250734,3.0849568295411274,2.8086550495471556,2.677098173087046,2.923627359620852,1.5406300426040502,0.4772982368414702,0.45112058223769935,0.9085269993840939,0.665877760882509],\"yaxis\":\"y\",\"type\":\"scatter\"},{\"hovertemplate\":\"path_id=2029\\u003cbr\\u003eTime Steps=%{x}\\u003cbr\\u003eOption Value=%{y}\\u003cextra\\u003e\\u003c\\u002fextra\\u003e\",\"legendgroup\":\"2029\",\"line\":{\"color\":\"#EF553B\",\"dash\":\"solid\"},\"marker\":{\"symbol\":\"circle\"},\"mode\":\"lines\",\"name\":\"2029\",\"orientation\":\"v\",\"showlegend\":true,\"x\":[0,1,2,3,4,5,6,7,8,9,10,11,12,13,14,15,16,17,18,19,20,21,22,23,24,25,26,27,28,29,30,31,32,33,34,35,36,37,38,39,40,41,42,43,44,45,46,47,48,49,50,51,52,53,54,55,56,57,58,59,60,61,62,63],\"xaxis\":\"x\",\"y\":[3.368669064577219,3.075521518593874,3.110234592129295,3.6693641895224687,3.1263286538605115,2.6412511959976257,2.914719982634992,2.644214469394157,2.3493835544784005,2.116265985458938,1.941862403084187,1.6294535122674105,1.57113390778229,1.4846128434900905,2.1316801238286303,2.7175581858211615,2.4878097684986713,2.4411246499229406,1.9132186309200705,1.5231997094991172,1.8970425109377231,1.7908150025202545,1.90188643227075,1.2581460453444997,1.760733183313107,1.66934404761993,1.2831325356931842,1.1605914416263836,1.2408988738792672,1.1793173017714587,1.3950771860567386,1.908238867462778,2.1320728588641558,2.100503664058216,1.9022517554666223,2.383683003452127,2.5028811029994955,3.1327975023485806,2.8057300505975746,2.5415837711799654,2.9629238420995705,2.090048770598308,1.5908357365216546,0.6719127783305581,0.41350572598108215,0.5915729511701748,0.48743142742002377,0.4723492931494704,1.279223040656774,1.3638811957212624,1.2145268515484844,1.432098722803218,1.9791633255084946,1.788694444841859,1.4369939028968517,2.4939601656558352,2.8827848345285787,3.548426497126343,2.616759477922102,2.008731143041345,2.3660254090741546,1.5822332462985713,0.9186353950526467,0.06844832925123967],\"yaxis\":\"y\",\"type\":\"scatter\"},{\"hovertemplate\":\"path_id=6221\\u003cbr\\u003eTime Steps=%{x}\\u003cbr\\u003eOption Value=%{y}\\u003cextra\\u003e\\u003c\\u002fextra\\u003e\",\"legendgroup\":\"6221\",\"line\":{\"color\":\"#00cc96\",\"dash\":\"solid\"},\"marker\":{\"symbol\":\"circle\"},\"mode\":\"lines\",\"name\":\"6221\",\"orientation\":\"v\",\"showlegend\":true,\"x\":[0,1,2,3,4,5,6,7,8,9,10,11,12,13,14,15,16,17,18,19,20,21,22,23,24,25,26,27,28,29,30,31,32,33,34,35,36,37,38,39,40,41,42,43,44,45,46,47,48,49,50,51,52,53,54,55,56,57,58,59,60,61,62,63],\"xaxis\":\"x\",\"y\":[3.368669064577219,3.719878979101658,2.923969754750985,3.032701389755765,3.5271944556389982,3.4873204258742376,3.9676505259097254,4.070735764649754,4.500128793314772,4.282685935415522,4.264684756174169,6.0204425330867934,5.946222887444094,5.016610137124275,4.828634640286737,4.880323659162073,5.431433872166608,5.515191614428346,4.513385265062951,5.361961614471866,5.057960696139602,5.259728737638696,4.548290951935201,5.929225853693055,6.495021698149529,6.307230621138402,6.659573119596871,7.037168618931332,6.809620866315512,7.6084106785365435,7.837059519860404,7.846731398879754,8.646225514882815,7.588678538843467,7.0072543706189805,7.4193907606624805,7.426642199517744,8.522847337641764,7.531505499219293,7.253312266141478,5.939813176083561,5.034597131594566,4.600157040478393,4.00327007812453,4.014908709185491,4.380276439958806,3.5532470504746954,4.509815222952227,6.586682370064267,6.50358057463842,6.17599926216667,6.51427704593128,6.909986768451176,6.447093330766762,6.97223320870512,7.900195742760147,8.320800721755958,7.623417768853955,7.6326979357275775,7.525668832554302,8.433880704184247,9.295256819052724,9.475024666083442,9.046625289252887],\"yaxis\":\"y\",\"type\":\"scatter\"},{\"hovertemplate\":\"path_id=6616\\u003cbr\\u003eTime Steps=%{x}\\u003cbr\\u003eOption Value=%{y}\\u003cextra\\u003e\\u003c\\u002fextra\\u003e\",\"legendgroup\":\"6616\",\"line\":{\"color\":\"#ab63fa\",\"dash\":\"solid\"},\"marker\":{\"symbol\":\"circle\"},\"mode\":\"lines\",\"name\":\"6616\",\"orientation\":\"v\",\"showlegend\":true,\"x\":[0,1,2,3,4,5,6,7,8,9,10,11,12,13,14,15,16,17,18,19,20,21,22,23,24,25,26,27,28,29,30,31,32,33,34,35,36,37,38,39,40,41,42,43,44,45,46,47,48,49,50,51,52,53,54,55,56,57,58,59,60,61,62,63],\"xaxis\":\"x\",\"y\":[3.368669064577219,3.8764114264131777,4.448612503799865,3.906619463450255,3.767957288024199,3.566181528715987,3.3643586758718484,3.5113595676916205,4.12172906995275,4.081099051675089,3.912015252493262,3.904948217910203,3.856830348781898,3.243292890847613,4.183964254349441,4.174574010388753,4.8473283658195925,6.014214366420916,5.960978589074301,6.29811892781548,8.078414857483423,7.541616388958701,8.565079897442004,7.973153243938626,9.332965132914566,8.579795221517543,7.227738478572249,7.14097706935847,7.663069731603585,8.425211590125343,7.636866685833709,6.816266924116576,6.2704972872996905,8.096873235984859,9.231289646373327,9.319482184747173,10.866246719136697,9.570002783554003,10.260310779949663,10.956113929058887,11.418780558428537,11.99811337242636,11.79757651814117,11.13374956837238,10.66154158489293,11.724970591132205,11.6284662912702,8.720391714010034,7.4045579211870205,8.17928834612114,8.633697176267958,7.434540448948596,7.325275084364378,6.453611292456216,7.854556847886457,8.607703757907814,7.9728436274644565,9.112827258183799,8.952724076187934,8.527145039779157,8.54180009446128,8.208381159644944,7.701132361117573,7.08003409171765],\"yaxis\":\"y\",\"type\":\"scatter\"},{\"hovertemplate\":\"path_id=10000\\u003cbr\\u003eTime Steps=%{x}\\u003cbr\\u003eOption Value=%{y}\\u003cextra\\u003e\\u003c\\u002fextra\\u003e\",\"legendgroup\":\"10000\",\"line\":{\"color\":\"#FFA15A\",\"dash\":\"solid\"},\"marker\":{\"symbol\":\"circle\"},\"mode\":\"lines\",\"name\":\"10000\",\"orientation\":\"v\",\"showlegend\":true,\"x\":[0,1,2,3,4,5,6,7,8,9,10,11,12,13,14,15,16,17,18,19,20,21,22,23,24,25,26,27,28,29,30,31,32,33,34,35,36,37,38,39,40,41,42,43,44,45,46,47,48,49,50,51,52,53,54,55,56,57,58,59,60,61,62,63],\"xaxis\":\"x\",\"y\":[3.368669064577219,2.9027093160764963,3.6748099123643954,4.4722715138114,4.388406936768874,4.90501402240227,5.841331398000889,6.466502566156066,6.6502799384305575,7.4117594712112265,8.246686608812979,8.097923512069812,10.088961038493224,8.406018774480359,9.462995605572004,8.425725939536633,8.366068635376791,9.79495845660118,7.960070767623492,7.145132797466886,7.875314245475451,7.376455450460412,5.387263911571409,4.617097511989229,3.6116772218455253,3.3510708012408372,2.846688917137932,2.4466910396885027,2.784519839239195,2.7854236920480346,2.6850487161129095,3.3129140505832595,2.7018488764932798,4.828954422359246,4.621158167232636,6.049052493627016,6.150345330385306,6.927555023067285,6.610443327051428,6.816403601288613,7.472873011006641,7.298671286566304,7.374289661456004,6.00240541446334,5.069009449743007,4.41528845969448,4.184695684261129,5.665393327265264,6.230410045842163,5.323894556691641,5.651001535178011,7.019430866429218,7.561643698656326,8.756077784725477,8.674366065144497,6.511960154991854,5.805102831776281,6.059666420190425,5.374236791796477,4.686090481973764,3.9934850159200437,2.598514312603257,3.047084764968247,4.295447262895763],\"yaxis\":\"y\",\"type\":\"scatter\"}],                        {\"template\":{\"data\":{\"histogram2dcontour\":[{\"type\":\"histogram2dcontour\",\"colorbar\":{\"outlinewidth\":0,\"ticks\":\"\"},\"colorscale\":[[0.0,\"#0d0887\"],[0.1111111111111111,\"#46039f\"],[0.2222222222222222,\"#7201a8\"],[0.3333333333333333,\"#9c179e\"],[0.4444444444444444,\"#bd3786\"],[0.5555555555555556,\"#d8576b\"],[0.6666666666666666,\"#ed7953\"],[0.7777777777777778,\"#fb9f3a\"],[0.8888888888888888,\"#fdca26\"],[1.0,\"#f0f921\"]]}],\"choropleth\":[{\"type\":\"choropleth\",\"colorbar\":{\"outlinewidth\":0,\"ticks\":\"\"}}],\"histogram2d\":[{\"type\":\"histogram2d\",\"colorbar\":{\"outlinewidth\":0,\"ticks\":\"\"},\"colorscale\":[[0.0,\"#0d0887\"],[0.1111111111111111,\"#46039f\"],[0.2222222222222222,\"#7201a8\"],[0.3333333333333333,\"#9c179e\"],[0.4444444444444444,\"#bd3786\"],[0.5555555555555556,\"#d8576b\"],[0.6666666666666666,\"#ed7953\"],[0.7777777777777778,\"#fb9f3a\"],[0.8888888888888888,\"#fdca26\"],[1.0,\"#f0f921\"]]}],\"heatmap\":[{\"type\":\"heatmap\",\"colorbar\":{\"outlinewidth\":0,\"ticks\":\"\"},\"colorscale\":[[0.0,\"#0d0887\"],[0.1111111111111111,\"#46039f\"],[0.2222222222222222,\"#7201a8\"],[0.3333333333333333,\"#9c179e\"],[0.4444444444444444,\"#bd3786\"],[0.5555555555555556,\"#d8576b\"],[0.6666666666666666,\"#ed7953\"],[0.7777777777777778,\"#fb9f3a\"],[0.8888888888888888,\"#fdca26\"],[1.0,\"#f0f921\"]]}],\"heatmapgl\":[{\"type\":\"heatmapgl\",\"colorbar\":{\"outlinewidth\":0,\"ticks\":\"\"},\"colorscale\":[[0.0,\"#0d0887\"],[0.1111111111111111,\"#46039f\"],[0.2222222222222222,\"#7201a8\"],[0.3333333333333333,\"#9c179e\"],[0.4444444444444444,\"#bd3786\"],[0.5555555555555556,\"#d8576b\"],[0.6666666666666666,\"#ed7953\"],[0.7777777777777778,\"#fb9f3a\"],[0.8888888888888888,\"#fdca26\"],[1.0,\"#f0f921\"]]}],\"contourcarpet\":[{\"type\":\"contourcarpet\",\"colorbar\":{\"outlinewidth\":0,\"ticks\":\"\"}}],\"contour\":[{\"type\":\"contour\",\"colorbar\":{\"outlinewidth\":0,\"ticks\":\"\"},\"colorscale\":[[0.0,\"#0d0887\"],[0.1111111111111111,\"#46039f\"],[0.2222222222222222,\"#7201a8\"],[0.3333333333333333,\"#9c179e\"],[0.4444444444444444,\"#bd3786\"],[0.5555555555555556,\"#d8576b\"],[0.6666666666666666,\"#ed7953\"],[0.7777777777777778,\"#fb9f3a\"],[0.8888888888888888,\"#fdca26\"],[1.0,\"#f0f921\"]]}],\"surface\":[{\"type\":\"surface\",\"colorbar\":{\"outlinewidth\":0,\"ticks\":\"\"},\"colorscale\":[[0.0,\"#0d0887\"],[0.1111111111111111,\"#46039f\"],[0.2222222222222222,\"#7201a8\"],[0.3333333333333333,\"#9c179e\"],[0.4444444444444444,\"#bd3786\"],[0.5555555555555556,\"#d8576b\"],[0.6666666666666666,\"#ed7953\"],[0.7777777777777778,\"#fb9f3a\"],[0.8888888888888888,\"#fdca26\"],[1.0,\"#f0f921\"]]}],\"mesh3d\":[{\"type\":\"mesh3d\",\"colorbar\":{\"outlinewidth\":0,\"ticks\":\"\"}}],\"scatter\":[{\"fillpattern\":{\"fillmode\":\"overlay\",\"size\":10,\"solidity\":0.2},\"type\":\"scatter\"}],\"parcoords\":[{\"type\":\"parcoords\",\"line\":{\"colorbar\":{\"outlinewidth\":0,\"ticks\":\"\"}}}],\"scatterpolargl\":[{\"type\":\"scatterpolargl\",\"marker\":{\"colorbar\":{\"outlinewidth\":0,\"ticks\":\"\"}}}],\"bar\":[{\"error_x\":{\"color\":\"#2a3f5f\"},\"error_y\":{\"color\":\"#2a3f5f\"},\"marker\":{\"line\":{\"color\":\"#E5ECF6\",\"width\":0.5},\"pattern\":{\"fillmode\":\"overlay\",\"size\":10,\"solidity\":0.2}},\"type\":\"bar\"}],\"scattergeo\":[{\"type\":\"scattergeo\",\"marker\":{\"colorbar\":{\"outlinewidth\":0,\"ticks\":\"\"}}}],\"scatterpolar\":[{\"type\":\"scatterpolar\",\"marker\":{\"colorbar\":{\"outlinewidth\":0,\"ticks\":\"\"}}}],\"histogram\":[{\"marker\":{\"pattern\":{\"fillmode\":\"overlay\",\"size\":10,\"solidity\":0.2}},\"type\":\"histogram\"}],\"scattergl\":[{\"type\":\"scattergl\",\"marker\":{\"colorbar\":{\"outlinewidth\":0,\"ticks\":\"\"}}}],\"scatter3d\":[{\"type\":\"scatter3d\",\"line\":{\"colorbar\":{\"outlinewidth\":0,\"ticks\":\"\"}},\"marker\":{\"colorbar\":{\"outlinewidth\":0,\"ticks\":\"\"}}}],\"scattermapbox\":[{\"type\":\"scattermapbox\",\"marker\":{\"colorbar\":{\"outlinewidth\":0,\"ticks\":\"\"}}}],\"scatterternary\":[{\"type\":\"scatterternary\",\"marker\":{\"colorbar\":{\"outlinewidth\":0,\"ticks\":\"\"}}}],\"scattercarpet\":[{\"type\":\"scattercarpet\",\"marker\":{\"colorbar\":{\"outlinewidth\":0,\"ticks\":\"\"}}}],\"carpet\":[{\"aaxis\":{\"endlinecolor\":\"#2a3f5f\",\"gridcolor\":\"white\",\"linecolor\":\"white\",\"minorgridcolor\":\"white\",\"startlinecolor\":\"#2a3f5f\"},\"baxis\":{\"endlinecolor\":\"#2a3f5f\",\"gridcolor\":\"white\",\"linecolor\":\"white\",\"minorgridcolor\":\"white\",\"startlinecolor\":\"#2a3f5f\"},\"type\":\"carpet\"}],\"table\":[{\"cells\":{\"fill\":{\"color\":\"#EBF0F8\"},\"line\":{\"color\":\"white\"}},\"header\":{\"fill\":{\"color\":\"#C8D4E3\"},\"line\":{\"color\":\"white\"}},\"type\":\"table\"}],\"barpolar\":[{\"marker\":{\"line\":{\"color\":\"#E5ECF6\",\"width\":0.5},\"pattern\":{\"fillmode\":\"overlay\",\"size\":10,\"solidity\":0.2}},\"type\":\"barpolar\"}],\"pie\":[{\"automargin\":true,\"type\":\"pie\"}]},\"layout\":{\"autotypenumbers\":\"strict\",\"colorway\":[\"#636efa\",\"#EF553B\",\"#00cc96\",\"#ab63fa\",\"#FFA15A\",\"#19d3f3\",\"#FF6692\",\"#B6E880\",\"#FF97FF\",\"#FECB52\"],\"font\":{\"color\":\"#2a3f5f\"},\"hovermode\":\"closest\",\"hoverlabel\":{\"align\":\"left\"},\"paper_bgcolor\":\"white\",\"plot_bgcolor\":\"#E5ECF6\",\"polar\":{\"bgcolor\":\"#E5ECF6\",\"angularaxis\":{\"gridcolor\":\"white\",\"linecolor\":\"white\",\"ticks\":\"\"},\"radialaxis\":{\"gridcolor\":\"white\",\"linecolor\":\"white\",\"ticks\":\"\"}},\"ternary\":{\"bgcolor\":\"#E5ECF6\",\"aaxis\":{\"gridcolor\":\"white\",\"linecolor\":\"white\",\"ticks\":\"\"},\"baxis\":{\"gridcolor\":\"white\",\"linecolor\":\"white\",\"ticks\":\"\"},\"caxis\":{\"gridcolor\":\"white\",\"linecolor\":\"white\",\"ticks\":\"\"}},\"coloraxis\":{\"colorbar\":{\"outlinewidth\":0,\"ticks\":\"\"}},\"colorscale\":{\"sequential\":[[0.0,\"#0d0887\"],[0.1111111111111111,\"#46039f\"],[0.2222222222222222,\"#7201a8\"],[0.3333333333333333,\"#9c179e\"],[0.4444444444444444,\"#bd3786\"],[0.5555555555555556,\"#d8576b\"],[0.6666666666666666,\"#ed7953\"],[0.7777777777777778,\"#fb9f3a\"],[0.8888888888888888,\"#fdca26\"],[1.0,\"#f0f921\"]],\"sequentialminus\":[[0.0,\"#0d0887\"],[0.1111111111111111,\"#46039f\"],[0.2222222222222222,\"#7201a8\"],[0.3333333333333333,\"#9c179e\"],[0.4444444444444444,\"#bd3786\"],[0.5555555555555556,\"#d8576b\"],[0.6666666666666666,\"#ed7953\"],[0.7777777777777778,\"#fb9f3a\"],[0.8888888888888888,\"#fdca26\"],[1.0,\"#f0f921\"]],\"diverging\":[[0,\"#8e0152\"],[0.1,\"#c51b7d\"],[0.2,\"#de77ae\"],[0.3,\"#f1b6da\"],[0.4,\"#fde0ef\"],[0.5,\"#f7f7f7\"],[0.6,\"#e6f5d0\"],[0.7,\"#b8e186\"],[0.8,\"#7fbc41\"],[0.9,\"#4d9221\"],[1,\"#276419\"]]},\"xaxis\":{\"gridcolor\":\"white\",\"linecolor\":\"white\",\"ticks\":\"\",\"title\":{\"standoff\":15},\"zerolinecolor\":\"white\",\"automargin\":true,\"zerolinewidth\":2},\"yaxis\":{\"gridcolor\":\"white\",\"linecolor\":\"white\",\"ticks\":\"\",\"title\":{\"standoff\":15},\"zerolinecolor\":\"white\",\"automargin\":true,\"zerolinewidth\":2},\"scene\":{\"xaxis\":{\"backgroundcolor\":\"#E5ECF6\",\"gridcolor\":\"white\",\"linecolor\":\"white\",\"showbackground\":true,\"ticks\":\"\",\"zerolinecolor\":\"white\",\"gridwidth\":2},\"yaxis\":{\"backgroundcolor\":\"#E5ECF6\",\"gridcolor\":\"white\",\"linecolor\":\"white\",\"showbackground\":true,\"ticks\":\"\",\"zerolinecolor\":\"white\",\"gridwidth\":2},\"zaxis\":{\"backgroundcolor\":\"#E5ECF6\",\"gridcolor\":\"white\",\"linecolor\":\"white\",\"showbackground\":true,\"ticks\":\"\",\"zerolinecolor\":\"white\",\"gridwidth\":2}},\"shapedefaults\":{\"line\":{\"color\":\"#2a3f5f\"}},\"annotationdefaults\":{\"arrowcolor\":\"#2a3f5f\",\"arrowhead\":0,\"arrowwidth\":1},\"geo\":{\"bgcolor\":\"white\",\"landcolor\":\"#E5ECF6\",\"subunitcolor\":\"white\",\"showland\":true,\"showlakes\":true,\"lakecolor\":\"white\"},\"title\":{\"x\":0.05},\"mapbox\":{\"style\":\"light\"}}},\"xaxis\":{\"anchor\":\"y\",\"domain\":[0.0,1.0],\"title\":{\"text\":\"Time Steps\"}},\"yaxis\":{\"anchor\":\"x\",\"domain\":[0.0,1.0],\"title\":{\"text\":\"Option Value\"}},\"legend\":{\"title\":{\"text\":\"path_id\"},\"tracegroupgap\":0},\"margin\":{\"t\":60}},                        {\"responsive\": true}                    ).then(function(){\n",
              "                            \n",
              "var gd = document.getElementById('07bc0363-7b8b-4811-ae0b-6fc1d3333ef3');\n",
              "var x = new MutationObserver(function (mutations, observer) {{\n",
              "        var display = window.getComputedStyle(gd).display;\n",
              "        if (!display || display === 'none') {{\n",
              "            console.log([gd, 'removed!']);\n",
              "            Plotly.purge(gd);\n",
              "            observer.disconnect();\n",
              "        }}\n",
              "}});\n",
              "\n",
              "// Listen for the removal of the full notebook cells\n",
              "var notebookContainer = gd.closest('#notebook-container');\n",
              "if (notebookContainer) {{\n",
              "    x.observe(notebookContainer, {childList: true});\n",
              "}}\n",
              "\n",
              "// Listen for the clearing of the current output cell\n",
              "var outputEl = gd.closest('.output');\n",
              "if (outputEl) {{\n",
              "    x.observe(outputEl, {childList: true});\n",
              "}}\n",
              "\n",
              "                        })                };                            </script>        </div>\n",
              "</body>\n",
              "</html>"
            ]
          },
          "metadata": {}
        }
      ],
      "source": [
        "sel_path = np.random.choice(num_of_path, 5)\n",
        "display(show_sel_path(spot_df, sel_path, 'Spot'))\n",
        "display(show_sel_path(delta_df, sel_path, 'Delta'))\n",
        "display(show_sel_path(option_value_df, sel_path, 'Option Value'))"
      ]
    },
    {
      "cell_type": "code",
      "execution_count": null,
      "id": "24fb4fb5",
      "metadata": {
        "id": "24fb4fb5"
      },
      "outputs": [],
      "source": [
        "delta_s = np.exp(-r * delta_t) * spot_df.loc[:,1:num_of_timestep].values - spot_df.loc[:,0:num_of_timestep-1]\n",
        "delta_c = np.exp(-r * delta_t) * option_value_df.loc[:,1:num_of_timestep].values - option_value_df.loc[:,0:num_of_timestep-1]\n",
        "\n",
        "spot_df_train, spot_df_test = spot_df[:data_cutoff], spot_df[data_cutoff:]\n",
        "delta_df_train, delta_df_test = delta_df[:data_cutoff], delta_df[data_cutoff:]\n",
        "delta_s_train, delta_s_test = delta_s[:data_cutoff], delta_s[data_cutoff:]\n",
        "delta_c_train, delta_c_test = delta_c[:data_cutoff], delta_c[data_cutoff:]"
      ]
    },
    {
      "cell_type": "code",
      "source": [
        "# delta_s_tilde = delta_s - delta_s.mean(axis=0)\n",
        "# delta_c_tilde = delta_c - delta_c.mean(axis=0)\n",
        "\n",
        "delta_s_tilde_train = delta_s_train - delta_s_train.mean(axis=0)\n",
        "delta_s_tilde_test = delta_s_test - delta_s_test.mean(axis=0)\n",
        "\n",
        "delta_c_tilde_train = delta_c_train - delta_c_train.mean(axis=0)\n",
        "delta_c_tilde_test = delta_c_test - delta_c_test.mean(axis=0)"
      ],
      "metadata": {
        "id": "NPSDnKV2yjzf"
      },
      "id": "NPSDnKV2yjzf",
      "execution_count": null,
      "outputs": []
    },
    {
      "cell_type": "code",
      "execution_count": null,
      "id": "96e816f8",
      "metadata": {
        "id": "96e816f8"
      },
      "outputs": [],
      "source": [
        "# display(show_sel_path(delta_s , sel_path, 'Change'))\n",
        "# display(show_sel_path(delta_s_tilde , sel_path, 'Change'))"
      ]
    },
    {
      "cell_type": "code",
      "execution_count": null,
      "id": "0f2a9a4c",
      "metadata": {
        "id": "0f2a9a4c"
      },
      "outputs": [],
      "source": [
        "def gen_basis_matrix(input_df, order, num_func, mc_path):\n",
        "    '''construct basis functions'''\n",
        "    input_df = input_df.copy()\n",
        "    x_min = np.min(input_df.values)\n",
        "    x_max = np.max(input_df.values)\n",
        "\n",
        "    tau = np.linspace(x_min, x_max, num_func)\n",
        "    knots = splinelab.aptknt(tau, order)\n",
        "    basis_spline = bspline.Bspline(knots, order)\n",
        "    ##display(basis_spline.plot())\n",
        "\n",
        "    ###calculate \\Phi_n(X_t^k), it has 3 dimensions, n is index of the basis function, t is the time step, k is the index of the MC path\n",
        "    phi_mat = np.zeros((num_of_timestep + 1, mc_path, num_func))\n",
        "    for t in np.arange(num_of_timestep + 1):\n",
        "        x_t = input_df[t].values\n",
        "        phi_mat[t,:,:] = np.array([basis_spline(x_t_k) for x_t_k in x_t])\n",
        "\n",
        "    return phi_mat\n",
        "\n",
        "### matrices or vectors for calculating optimal coefficients\n",
        "def gen_matrix_a(phi_x, t_idx, s_tilde, identity_mat_val=1e-5):\n",
        "    '''\n",
        "    Args:\n",
        "        identity_mat_val: to avoid singular matrix for the inverse\n",
        "    '''\n",
        "    phi_x_t = phi_x[t_idx, :, :]\n",
        "    s_tilde_squared = (s_tilde[t_idx] ** 2).values.reshape(-1, 1)\n",
        "    mat_a = np.matmul(phi_x_t.T, phi_x_t * s_tilde_squared) + identity_mat_val * np.eye(phi_x_t.shape[1])\n",
        "    return mat_a\n",
        "\n",
        "def gen_vector_b(phi_x, t_idx, s_change, s_tilde, c_tilde, risk_lambda):\n",
        "    phi_x_t = phi_x[t_idx, :, :]\n",
        "    coef = - s_tilde[t_idx] * c_tilde[t_idx] + 0.5 / risk_lambda * s_change[t_idx]\n",
        "    vec_b = np.dot(phi_x_t.T, coef)\n",
        "    return vec_b\n",
        "\n",
        "def gen_matrix_c(phi_x, t_idx, identity_mat_val=1e-5):\n",
        "    '''\n",
        "    Args:\n",
        "        identity_mat_val: to avoid singular matrix for the inverse\n",
        "    '''\n",
        "    phi_x_t = phi_x[t_idx, :, :]\n",
        "    mat_c = np.matmul(phi_x_t.T, phi_x_t) + identity_mat_val * np.eye(phi_x_t.shape[1])\n",
        "    return mat_c\n",
        "\n",
        "def gen_vector_d(phi_x, t_idx, q_df, r_df, gamma):\n",
        "    phi_x_t = phi_x[t_idx, :, :]\n",
        "    vec_d = np.dot(phi_x_t.T, r_df.loc[:,t] + gamma * q_df.loc[:, t+1])\n",
        "    return vec_d"
      ]
    },
    {
      "cell_type": "code",
      "source": [
        "delta_s_test.index"
      ],
      "metadata": {
        "colab": {
          "base_uri": "https://localhost:8080/"
        },
        "id": "ycC8kThhzhej",
        "outputId": "f948294a-c34a-4ec4-bd7a-aa82c1736d96"
      },
      "id": "ycC8kThhzhej",
      "execution_count": null,
      "outputs": [
        {
          "output_type": "execute_result",
          "data": {
            "text/plain": [
              "RangeIndex(start=11469, stop=16384, step=1)"
            ]
          },
          "metadata": {},
          "execution_count": 17
        }
      ]
    },
    {
      "cell_type": "code",
      "execution_count": null,
      "id": "93a882b0",
      "metadata": {
        "id": "93a882b0"
      },
      "outputs": [],
      "source": [
        "def calc_reward_df(opt_hedge, ds, dc, s_tilde, c_tilde, risk_lambda):\n",
        "\n",
        "    reward_calc = pd.DataFrame([], index=ds.index, columns=range(num_of_timestep))\n",
        "    for t in range(num_of_timestep):\n",
        "        reward_calc.loc[:,t] = opt_hedge.loc[:,t] * ds.loc[:,t] + dc.loc[:,t] \\\n",
        "                                - risk_lambda*(opt_hedge.loc[:,t]**2 * s_tilde.loc[:,t]**2 \\\n",
        "                                + 2 *opt_hedge.loc[:,t]* s_tilde.loc[:,t]*c_tilde.loc[:,t]\\\n",
        "                                + c_tilde.loc[:,t]**2)\n",
        "\n",
        "    total_reward = 0.0\n",
        "    for t in range(num_of_timestep):\n",
        "        total_reward = total_reward + np.exp(-r * delta_t * t) * reward_calc.loc[:,t].mean()\n",
        "    return reward_calc, total_reward"
      ]
    },
    {
      "cell_type": "code",
      "execution_count": null,
      "id": "28ba9189",
      "metadata": {
        "id": "28ba9189"
      },
      "outputs": [],
      "source": [
        "# new variable X, no drift\n",
        "state_x_df = - (mu - 0.5 * sigma**2) * np.arange(num_of_timestep+1) * delta_t + np.log(spot_df)\n",
        "state_x_df_train, state_x_df_test = state_x_df[:data_cutoff], state_x_df[data_cutoff:]\n",
        "\n",
        "spline_order = 3  # order of spline\n",
        "num_basis_func = 10 # number of basis functions\n",
        "phi_mat = gen_basis_matrix(state_x_df_train, order=spline_order, num_func=num_basis_func, mc_path=data_cutoff) #Phi(X)"
      ]
    },
    {
      "cell_type": "code",
      "execution_count": null,
      "id": "abc94a95",
      "metadata": {
        "id": "abc94a95"
      },
      "outputs": [],
      "source": [
        "###calculate coefficients phi = A^(-1) * B\n",
        "opt_act = pd.DataFrame([], index=range(1, data_cutoff+1), columns=range(num_of_timestep))\n",
        "##opt_act.iloc[:,-1] = 0\n",
        "for t in range(num_of_timestep-1, -1, -1):\n",
        "    mat_a = gen_matrix_a(phi_mat, t, s_tilde=delta_s_tilde_train)\n",
        "    vec_b = gen_vector_b(phi_mat, t, s_change=delta_s_train, s_tilde=delta_s_tilde_train, c_tilde=delta_c_tilde_train, risk_lambda=risk_lambda)\n",
        "    coef_phi = np.dot(np.linalg.inv(mat_a), vec_b)\n",
        "\n",
        "    opt_act[t] = np.dot(phi_mat[t,:,:], coef_phi)"
      ]
    },
    {
      "cell_type": "code",
      "execution_count": null,
      "id": "5f51860f",
      "metadata": {
        "colab": {
          "base_uri": "https://localhost:8080/"
        },
        "id": "5f51860f",
        "outputId": "7dbaa4d2-feb1-46d9-ea08-c25e6b263861"
      },
      "outputs": [
        {
          "output_type": "stream",
          "name": "stderr",
          "text": [
            "<ipython-input-18-9fee8bfbb9e5>:5: DeprecationWarning:\n",
            "\n",
            "In a future version, `df.iloc[:, i] = newvals` will attempt to set the values inplace instead of always setting a new array. To retain the old behavior, use either `df[df.columns[i]] = newvals` or, if columns are non-unique, `df.isetitem(i, newvals)`\n",
            "\n"
          ]
        }
      ],
      "source": [
        "reward_df, qlbs_reward = calc_reward_df(opt_act.copy(), ds=delta_s_train, dc=delta_c_train,\n",
        "                                      s_tilde=delta_s_tilde_train, c_tilde=delta_c_tilde_train,\n",
        "                                      risk_lambda=risk_lambda)"
      ]
    },
    {
      "cell_type": "code",
      "execution_count": null,
      "id": "9311d25a",
      "metadata": {
        "colab": {
          "base_uri": "https://localhost:8080/"
        },
        "id": "9311d25a",
        "outputId": "079ad6ff-abdf-4805-b57b-eb25a3a097be"
      },
      "outputs": [
        {
          "output_type": "stream",
          "name": "stderr",
          "text": [
            "<ipython-input-22-924bc34dcec4>:3: DeprecationWarning:\n",
            "\n",
            "In a future version, `df.iloc[:, i] = newvals` will attempt to set the values inplace instead of always setting a new array. To retain the old behavior, use either `df[df.columns[i]] = newvals` or, if columns are non-unique, `df.isetitem(i, newvals)`\n",
            "\n",
            "<ipython-input-22-924bc34dcec4>:10: DeprecationWarning:\n",
            "\n",
            "In a future version, `df.iloc[:, i] = newvals` will attempt to set the values inplace instead of always setting a new array. To retain the old behavior, use either `df[df.columns[i]] = newvals` or, if columns are non-unique, `df.isetitem(i, newvals)`\n",
            "\n"
          ]
        }
      ],
      "source": [
        "###calculate coefficients omega = C^(-1) * D\n",
        "q_fun_df = pd.DataFrame([], index=range(1, data_cutoff+1), columns=range(num_of_timestep+1))\n",
        "q_fun_df.iloc[:,-1] = 0\n",
        "\n",
        "for t in range(num_of_timestep-1, -1, -1):\n",
        "    mat_c = gen_matrix_c(phi_mat, t)\n",
        "    vec_d = gen_vector_d(phi_mat, t, q_fun_df, reward_df, gamma)\n",
        "    coef_omega = np.dot(np.linalg.inv(mat_c), vec_d)\n",
        "\n",
        "    q_fun_df.loc[:,t] = np.dot(phi_mat[t,:,:], coef_omega)"
      ]
    },
    {
      "cell_type": "code",
      "execution_count": null,
      "id": "02573103",
      "metadata": {
        "colab": {
          "base_uri": "https://localhost:8080/"
        },
        "id": "02573103",
        "outputId": "6ea1ce47-ee67-440b-b8ff-8ce382877011"
      },
      "outputs": [
        {
          "output_type": "execute_result",
          "data": {
            "text/plain": [
              "(array([0.26440094]), array([-0.25847892]))"
            ]
          },
          "metadata": {},
          "execution_count": 23
        }
      ],
      "source": [
        "q_fun_df[0].unique(), opt_act[0].unique()"
      ]
    },
    {
      "cell_type": "code",
      "execution_count": null,
      "id": "6066c3e4",
      "metadata": {
        "colab": {
          "base_uri": "https://localhost:8080/"
        },
        "id": "6066c3e4",
        "outputId": "c8fd5913-bf82-4448-8a2d-4a36175e8ca6"
      },
      "outputs": [
        {
          "output_type": "stream",
          "name": "stderr",
          "text": [
            "<ipython-input-18-9fee8bfbb9e5>:5: DeprecationWarning:\n",
            "\n",
            "In a future version, `df.iloc[:, i] = newvals` will attempt to set the values inplace instead of always setting a new array. To retain the old behavior, use either `df[df.columns[i]] = newvals` or, if columns are non-unique, `df.isetitem(i, newvals)`\n",
            "\n"
          ]
        },
        {
          "output_type": "execute_result",
          "data": {
            "text/plain": [
              "(0.2647050314895559, -0.009307158845436822)"
            ]
          },
          "metadata": {},
          "execution_count": 24
        }
      ],
      "source": [
        "### check if action/hedge yield higher rewards than delta hedge\n",
        "delta_reward_calc,  delta_reward = calc_reward_df(-1 * delta_df_train.copy(),\n",
        "                                                 ds=delta_s_train, dc=delta_c_train,\n",
        "                                                 s_tilde=delta_s_tilde_train, c_tilde=delta_c_tilde_train,\n",
        "                                                 risk_lambda=risk_lambda)\n",
        "# ql_reward_calc, qlbs_reward = calc_reward_df(opt_act.copy(),\n",
        "#                                            delta_s=delta_s, delta_c=delta_c,\n",
        "#                                            s_tilde=delta_s_tilde, c_tilde=delta_c_tilde,\n",
        "#                                            risk_lambda=risk_lambda)\n",
        "\n",
        "qlbs_reward, delta_reward"
      ]
    },
    {
      "cell_type": "code",
      "execution_count": 32,
      "id": "5a349598",
      "metadata": {
        "colab": {
          "base_uri": "https://localhost:8080/",
          "height": 817
        },
        "id": "5a349598",
        "outputId": "007841c1-3e01-434a-d15f-e593f489fecc"
      },
      "outputs": [
        {
          "output_type": "display_data",
          "data": {
            "text/html": [
              "<html>\n",
              "<head><meta charset=\"utf-8\" /></head>\n",
              "<body>\n",
              "    <div>            <script src=\"https://cdnjs.cloudflare.com/ajax/libs/mathjax/2.7.5/MathJax.js?config=TeX-AMS-MML_SVG\"></script><script type=\"text/javascript\">if (window.MathJax && window.MathJax.Hub && window.MathJax.Hub.Config) {window.MathJax.Hub.Config({SVG: {font: \"STIX-Web\"}});}</script>                <script type=\"text/javascript\">window.PlotlyConfig = {MathJaxConfig: 'local'};</script>\n",
              "        <script charset=\"utf-8\" src=\"https://cdn.plot.ly/plotly-2.24.1.min.js\"></script>                <div id=\"e5b345bc-68ff-4ad4-bfc9-47a39e92780d\" class=\"plotly-graph-div\" style=\"height:400px; width:800px;\"></div>            <script type=\"text/javascript\">                                    window.PLOTLYENV=window.PLOTLYENV || {};                                    if (document.getElementById(\"e5b345bc-68ff-4ad4-bfc9-47a39e92780d\")) {                    Plotly.newPlot(                        \"e5b345bc-68ff-4ad4-bfc9-47a39e92780d\",                        [{\"line\":{\"dash\":\"dash\"},\"name\":\"Delta hedge\",\"x\":[0,1,2,3,4,5,6,7,8,9,10,11,12,13,14,15,16,17,18,19,20,21,22,23,24,25,26,27,28,29,30,31,32,33,34,35,36,37,38,39,40,41,42,43,44,45,46,47,48,49,50,51,52,53,54,55,56,57,58,59,60,61,62],\"y\":[-0.554682203627567,-0.5556108554516654,-0.5558463683139109,-0.5553421695694053,-0.555516061260674,-0.5549443853953566,-0.5546419086052744,-0.5547324241892977,-0.5544719043452603,-0.5549680223759313,-0.5550088985903091,-0.554089491588852,-0.5540175935989489,-0.5536126983292552,-0.5547306336050137,-0.5548903449742977,-0.5541888076642008,-0.5541337549584472,-0.5540885561963822,-0.5535491161365081,-0.5540671815060891,-0.5538175217351101,-0.5536775704340858,-0.5534433064865583,-0.5538713357613518,-0.5539837701416984,-0.5542045899556794,-0.5544671827212025,-0.5547634269272257,-0.5544395956866798,-0.5535945101913442,-0.5547085729605942,-0.5545750036623862,-0.5542751504446459,-0.5540280600326146,-0.5539844474284914,-0.5542781545852007,-0.5544687661072082,-0.5554661917455872,-0.5552495869044104,-0.5551081069988514,-0.5550518592383041,-0.5541313218118508,-0.5540576645538849,-0.5537701058275165,-0.5538786126917403,-0.5545650127172005,-0.5545386150426034,-0.5548808827182344,-0.5539117755191624,-0.5540800025255781,-0.5542158612193661,-0.5540695228073622,-0.5538639455623338,-0.5540556570504144,-0.5541457452698995,-0.5536425628043976,-0.5541444774734533,-0.5542659781472891,-0.5541205496816932,-0.5538416737377668,-0.5549512494270293,-0.5543175314170815],\"type\":\"scatter\"},{\"name\":\"DP hedge\",\"x\":[0,1,2,3,4,5,6,7,8,9,10,11,12,13,14,15,16,17,18,19,20,21,22,23,24,25,26,27,28,29,30,31,32,33,34,35,36,37,38,39,40,41,42,43,44,45,46,47,48,49,50,51,52,53,54,55,56,57,58,59,60,61,62],\"y\":[-0.2584789184204675,-0.405311532519003,-0.5709466522393933,-0.4153275149177942,-0.5783173898740365,-0.5232949999452527,-0.4419358582506794,-0.495693471358022,-0.34597366263076423,-0.4541248569696002,-0.6665294473873961,-0.46151238316815546,-0.5487036165099218,-0.2203013325054945,-0.41636388951471653,-0.6083386612561423,-0.4649457350868244,-0.47860568733777403,-0.5631946742265111,-0.3482145737107779,-0.4815818229035274,-0.4912893328731438,-0.5530880956456087,-0.34724431283707907,-0.4915123734180472,-0.42605687568670925,-0.34901880740046515,-0.45979731047362293,-0.49324443902639126,-0.5577337773441391,-0.23164732582211187,-0.5095142763359699,-0.5268324234638905,-0.5729764273572536,-0.47125080103761274,-0.4244806046275493,-0.44925117336848,-0.2653910243732034,-0.5323514183224033,-0.44858185847198073,-0.4536068133089881,-0.5441445844589141,-0.5095389841527393,-0.4666905892756311,-0.4163787197591109,-0.3506947081410604,-0.41477512042445147,-0.32438046496591755,-0.6104045002334152,-0.4035527826541412,-0.4251545099746105,-0.3941561294103961,-0.38590444354757114,-0.32367263376282723,-0.5113231997866446,-0.579842298745544,-0.31158056188883704,-0.5539348520854451,-0.6425986109393929,-0.2897489479712717,-0.3591236686196239,-0.45312204653006904,-0.4204736136109073],\"type\":\"scatter\"}],                        {\"height\":400,\"title\":{\"text\":\"Average hedge each timestep\",\"x\":0.5},\"width\":800,\"template\":{\"data\":{\"histogram2dcontour\":[{\"type\":\"histogram2dcontour\",\"colorbar\":{\"outlinewidth\":0,\"ticks\":\"\"},\"colorscale\":[[0.0,\"#0d0887\"],[0.1111111111111111,\"#46039f\"],[0.2222222222222222,\"#7201a8\"],[0.3333333333333333,\"#9c179e\"],[0.4444444444444444,\"#bd3786\"],[0.5555555555555556,\"#d8576b\"],[0.6666666666666666,\"#ed7953\"],[0.7777777777777778,\"#fb9f3a\"],[0.8888888888888888,\"#fdca26\"],[1.0,\"#f0f921\"]]}],\"choropleth\":[{\"type\":\"choropleth\",\"colorbar\":{\"outlinewidth\":0,\"ticks\":\"\"}}],\"histogram2d\":[{\"type\":\"histogram2d\",\"colorbar\":{\"outlinewidth\":0,\"ticks\":\"\"},\"colorscale\":[[0.0,\"#0d0887\"],[0.1111111111111111,\"#46039f\"],[0.2222222222222222,\"#7201a8\"],[0.3333333333333333,\"#9c179e\"],[0.4444444444444444,\"#bd3786\"],[0.5555555555555556,\"#d8576b\"],[0.6666666666666666,\"#ed7953\"],[0.7777777777777778,\"#fb9f3a\"],[0.8888888888888888,\"#fdca26\"],[1.0,\"#f0f921\"]]}],\"heatmap\":[{\"type\":\"heatmap\",\"colorbar\":{\"outlinewidth\":0,\"ticks\":\"\"},\"colorscale\":[[0.0,\"#0d0887\"],[0.1111111111111111,\"#46039f\"],[0.2222222222222222,\"#7201a8\"],[0.3333333333333333,\"#9c179e\"],[0.4444444444444444,\"#bd3786\"],[0.5555555555555556,\"#d8576b\"],[0.6666666666666666,\"#ed7953\"],[0.7777777777777778,\"#fb9f3a\"],[0.8888888888888888,\"#fdca26\"],[1.0,\"#f0f921\"]]}],\"heatmapgl\":[{\"type\":\"heatmapgl\",\"colorbar\":{\"outlinewidth\":0,\"ticks\":\"\"},\"colorscale\":[[0.0,\"#0d0887\"],[0.1111111111111111,\"#46039f\"],[0.2222222222222222,\"#7201a8\"],[0.3333333333333333,\"#9c179e\"],[0.4444444444444444,\"#bd3786\"],[0.5555555555555556,\"#d8576b\"],[0.6666666666666666,\"#ed7953\"],[0.7777777777777778,\"#fb9f3a\"],[0.8888888888888888,\"#fdca26\"],[1.0,\"#f0f921\"]]}],\"contourcarpet\":[{\"type\":\"contourcarpet\",\"colorbar\":{\"outlinewidth\":0,\"ticks\":\"\"}}],\"contour\":[{\"type\":\"contour\",\"colorbar\":{\"outlinewidth\":0,\"ticks\":\"\"},\"colorscale\":[[0.0,\"#0d0887\"],[0.1111111111111111,\"#46039f\"],[0.2222222222222222,\"#7201a8\"],[0.3333333333333333,\"#9c179e\"],[0.4444444444444444,\"#bd3786\"],[0.5555555555555556,\"#d8576b\"],[0.6666666666666666,\"#ed7953\"],[0.7777777777777778,\"#fb9f3a\"],[0.8888888888888888,\"#fdca26\"],[1.0,\"#f0f921\"]]}],\"surface\":[{\"type\":\"surface\",\"colorbar\":{\"outlinewidth\":0,\"ticks\":\"\"},\"colorscale\":[[0.0,\"#0d0887\"],[0.1111111111111111,\"#46039f\"],[0.2222222222222222,\"#7201a8\"],[0.3333333333333333,\"#9c179e\"],[0.4444444444444444,\"#bd3786\"],[0.5555555555555556,\"#d8576b\"],[0.6666666666666666,\"#ed7953\"],[0.7777777777777778,\"#fb9f3a\"],[0.8888888888888888,\"#fdca26\"],[1.0,\"#f0f921\"]]}],\"mesh3d\":[{\"type\":\"mesh3d\",\"colorbar\":{\"outlinewidth\":0,\"ticks\":\"\"}}],\"scatter\":[{\"fillpattern\":{\"fillmode\":\"overlay\",\"size\":10,\"solidity\":0.2},\"type\":\"scatter\"}],\"parcoords\":[{\"type\":\"parcoords\",\"line\":{\"colorbar\":{\"outlinewidth\":0,\"ticks\":\"\"}}}],\"scatterpolargl\":[{\"type\":\"scatterpolargl\",\"marker\":{\"colorbar\":{\"outlinewidth\":0,\"ticks\":\"\"}}}],\"bar\":[{\"error_x\":{\"color\":\"#2a3f5f\"},\"error_y\":{\"color\":\"#2a3f5f\"},\"marker\":{\"line\":{\"color\":\"#E5ECF6\",\"width\":0.5},\"pattern\":{\"fillmode\":\"overlay\",\"size\":10,\"solidity\":0.2}},\"type\":\"bar\"}],\"scattergeo\":[{\"type\":\"scattergeo\",\"marker\":{\"colorbar\":{\"outlinewidth\":0,\"ticks\":\"\"}}}],\"scatterpolar\":[{\"type\":\"scatterpolar\",\"marker\":{\"colorbar\":{\"outlinewidth\":0,\"ticks\":\"\"}}}],\"histogram\":[{\"marker\":{\"pattern\":{\"fillmode\":\"overlay\",\"size\":10,\"solidity\":0.2}},\"type\":\"histogram\"}],\"scattergl\":[{\"type\":\"scattergl\",\"marker\":{\"colorbar\":{\"outlinewidth\":0,\"ticks\":\"\"}}}],\"scatter3d\":[{\"type\":\"scatter3d\",\"line\":{\"colorbar\":{\"outlinewidth\":0,\"ticks\":\"\"}},\"marker\":{\"colorbar\":{\"outlinewidth\":0,\"ticks\":\"\"}}}],\"scattermapbox\":[{\"type\":\"scattermapbox\",\"marker\":{\"colorbar\":{\"outlinewidth\":0,\"ticks\":\"\"}}}],\"scatterternary\":[{\"type\":\"scatterternary\",\"marker\":{\"colorbar\":{\"outlinewidth\":0,\"ticks\":\"\"}}}],\"scattercarpet\":[{\"type\":\"scattercarpet\",\"marker\":{\"colorbar\":{\"outlinewidth\":0,\"ticks\":\"\"}}}],\"carpet\":[{\"aaxis\":{\"endlinecolor\":\"#2a3f5f\",\"gridcolor\":\"white\",\"linecolor\":\"white\",\"minorgridcolor\":\"white\",\"startlinecolor\":\"#2a3f5f\"},\"baxis\":{\"endlinecolor\":\"#2a3f5f\",\"gridcolor\":\"white\",\"linecolor\":\"white\",\"minorgridcolor\":\"white\",\"startlinecolor\":\"#2a3f5f\"},\"type\":\"carpet\"}],\"table\":[{\"cells\":{\"fill\":{\"color\":\"#EBF0F8\"},\"line\":{\"color\":\"white\"}},\"header\":{\"fill\":{\"color\":\"#C8D4E3\"},\"line\":{\"color\":\"white\"}},\"type\":\"table\"}],\"barpolar\":[{\"marker\":{\"line\":{\"color\":\"#E5ECF6\",\"width\":0.5},\"pattern\":{\"fillmode\":\"overlay\",\"size\":10,\"solidity\":0.2}},\"type\":\"barpolar\"}],\"pie\":[{\"automargin\":true,\"type\":\"pie\"}]},\"layout\":{\"autotypenumbers\":\"strict\",\"colorway\":[\"#636efa\",\"#EF553B\",\"#00cc96\",\"#ab63fa\",\"#FFA15A\",\"#19d3f3\",\"#FF6692\",\"#B6E880\",\"#FF97FF\",\"#FECB52\"],\"font\":{\"color\":\"#2a3f5f\"},\"hovermode\":\"closest\",\"hoverlabel\":{\"align\":\"left\"},\"paper_bgcolor\":\"white\",\"plot_bgcolor\":\"#E5ECF6\",\"polar\":{\"bgcolor\":\"#E5ECF6\",\"angularaxis\":{\"gridcolor\":\"white\",\"linecolor\":\"white\",\"ticks\":\"\"},\"radialaxis\":{\"gridcolor\":\"white\",\"linecolor\":\"white\",\"ticks\":\"\"}},\"ternary\":{\"bgcolor\":\"#E5ECF6\",\"aaxis\":{\"gridcolor\":\"white\",\"linecolor\":\"white\",\"ticks\":\"\"},\"baxis\":{\"gridcolor\":\"white\",\"linecolor\":\"white\",\"ticks\":\"\"},\"caxis\":{\"gridcolor\":\"white\",\"linecolor\":\"white\",\"ticks\":\"\"}},\"coloraxis\":{\"colorbar\":{\"outlinewidth\":0,\"ticks\":\"\"}},\"colorscale\":{\"sequential\":[[0.0,\"#0d0887\"],[0.1111111111111111,\"#46039f\"],[0.2222222222222222,\"#7201a8\"],[0.3333333333333333,\"#9c179e\"],[0.4444444444444444,\"#bd3786\"],[0.5555555555555556,\"#d8576b\"],[0.6666666666666666,\"#ed7953\"],[0.7777777777777778,\"#fb9f3a\"],[0.8888888888888888,\"#fdca26\"],[1.0,\"#f0f921\"]],\"sequentialminus\":[[0.0,\"#0d0887\"],[0.1111111111111111,\"#46039f\"],[0.2222222222222222,\"#7201a8\"],[0.3333333333333333,\"#9c179e\"],[0.4444444444444444,\"#bd3786\"],[0.5555555555555556,\"#d8576b\"],[0.6666666666666666,\"#ed7953\"],[0.7777777777777778,\"#fb9f3a\"],[0.8888888888888888,\"#fdca26\"],[1.0,\"#f0f921\"]],\"diverging\":[[0,\"#8e0152\"],[0.1,\"#c51b7d\"],[0.2,\"#de77ae\"],[0.3,\"#f1b6da\"],[0.4,\"#fde0ef\"],[0.5,\"#f7f7f7\"],[0.6,\"#e6f5d0\"],[0.7,\"#b8e186\"],[0.8,\"#7fbc41\"],[0.9,\"#4d9221\"],[1,\"#276419\"]]},\"xaxis\":{\"gridcolor\":\"white\",\"linecolor\":\"white\",\"ticks\":\"\",\"title\":{\"standoff\":15},\"zerolinecolor\":\"white\",\"automargin\":true,\"zerolinewidth\":2},\"yaxis\":{\"gridcolor\":\"white\",\"linecolor\":\"white\",\"ticks\":\"\",\"title\":{\"standoff\":15},\"zerolinecolor\":\"white\",\"automargin\":true,\"zerolinewidth\":2},\"scene\":{\"xaxis\":{\"backgroundcolor\":\"#E5ECF6\",\"gridcolor\":\"white\",\"linecolor\":\"white\",\"showbackground\":true,\"ticks\":\"\",\"zerolinecolor\":\"white\",\"gridwidth\":2},\"yaxis\":{\"backgroundcolor\":\"#E5ECF6\",\"gridcolor\":\"white\",\"linecolor\":\"white\",\"showbackground\":true,\"ticks\":\"\",\"zerolinecolor\":\"white\",\"gridwidth\":2},\"zaxis\":{\"backgroundcolor\":\"#E5ECF6\",\"gridcolor\":\"white\",\"linecolor\":\"white\",\"showbackground\":true,\"ticks\":\"\",\"zerolinecolor\":\"white\",\"gridwidth\":2}},\"shapedefaults\":{\"line\":{\"color\":\"#2a3f5f\"}},\"annotationdefaults\":{\"arrowcolor\":\"#2a3f5f\",\"arrowhead\":0,\"arrowwidth\":1},\"geo\":{\"bgcolor\":\"white\",\"landcolor\":\"#E5ECF6\",\"subunitcolor\":\"white\",\"showland\":true,\"showlakes\":true,\"lakecolor\":\"white\"},\"title\":{\"x\":0.05},\"mapbox\":{\"style\":\"light\"}}},\"xaxis\":{\"title\":{\"text\":\"Timestep\"}},\"yaxis\":{\"title\":{\"text\":\"Hedge\"}}},                        {\"responsive\": true}                    ).then(function(){\n",
              "                            \n",
              "var gd = document.getElementById('e5b345bc-68ff-4ad4-bfc9-47a39e92780d');\n",
              "var x = new MutationObserver(function (mutations, observer) {{\n",
              "        var display = window.getComputedStyle(gd).display;\n",
              "        if (!display || display === 'none') {{\n",
              "            console.log([gd, 'removed!']);\n",
              "            Plotly.purge(gd);\n",
              "            observer.disconnect();\n",
              "        }}\n",
              "}});\n",
              "\n",
              "// Listen for the removal of the full notebook cells\n",
              "var notebookContainer = gd.closest('#notebook-container');\n",
              "if (notebookContainer) {{\n",
              "    x.observe(notebookContainer, {childList: true});\n",
              "}}\n",
              "\n",
              "// Listen for the clearing of the current output cell\n",
              "var outputEl = gd.closest('.output');\n",
              "if (outputEl) {{\n",
              "    x.observe(outputEl, {childList: true});\n",
              "}}\n",
              "\n",
              "                        })                };                            </script>        </div>\n",
              "</body>\n",
              "</html>"
            ]
          },
          "metadata": {}
        },
        {
          "output_type": "display_data",
          "data": {
            "text/html": [
              "<html>\n",
              "<head><meta charset=\"utf-8\" /></head>\n",
              "<body>\n",
              "    <div>            <script src=\"https://cdnjs.cloudflare.com/ajax/libs/mathjax/2.7.5/MathJax.js?config=TeX-AMS-MML_SVG\"></script><script type=\"text/javascript\">if (window.MathJax && window.MathJax.Hub && window.MathJax.Hub.Config) {window.MathJax.Hub.Config({SVG: {font: \"STIX-Web\"}});}</script>                <script type=\"text/javascript\">window.PlotlyConfig = {MathJaxConfig: 'local'};</script>\n",
              "        <script charset=\"utf-8\" src=\"https://cdn.plot.ly/plotly-2.24.1.min.js\"></script>                <div id=\"b0335b47-d22c-45f2-a970-233e68b4a815\" class=\"plotly-graph-div\" style=\"height:400px; width:800px;\"></div>            <script type=\"text/javascript\">                                    window.PLOTLYENV=window.PLOTLYENV || {};                                    if (document.getElementById(\"b0335b47-d22c-45f2-a970-233e68b4a815\")) {                    Plotly.newPlot(                        \"b0335b47-d22c-45f2-a970-233e68b4a815\",                        [{\"line\":{\"dash\":\"dash\"},\"name\":\"Delta hedge\",\"x\":[0,1,2,3,4,5,6,7,8,9,10,11,12,13,14,15,16,17,18,19,20,21,22,23,24,25,26,27,28,29,30,31,32,33,34,35,36,37,38,39,40,41,42,43,44,45,46,47,48,49,50,51,52,53,54,55,56,57,58,59,60,61,62],\"y\":[-0.00011253919589298194,-0.0001519672568569871,-0.0003074809794427156,-0.00034955603467422405,-3.787844430814861e-05,9.665706311852035e-05,-0.0003048852151397141,0.00028330665441409435,-0.00028402128323029373,-0.00019910220435859593,-0.0007934448099511977,-0.000569522859534538,5.0163831841679096e-05,-0.00030733564740626477,-0.0002098079070005035,0.0002277151110707586,-0.0002593921974600266,-0.00013604013505635686,0.00023915637335450118,0.0004239648322872223,0.0005933653760728274,-0.00024912653726113566,-0.0001996800893798884,-0.0007920761791258551,9.381127768370337e-05,0.0004891857582515501,-3.6143906197315256e-05,-0.000507176976779307,-0.00033838346085644436,-0.0002893958415389943,-0.00010551250082930622,-2.2335793972804294e-05,-0.0002091935069397887,0.00022396180505090832,-0.0002930196851955629,-0.0005206038568420922,-2.52681752669831e-05,-0.00024324050249711204,7.341833706372319e-05,0.00012447189931602212,-0.0002684207974345225,0.00045925169877779646,-0.0005395660968364472,-7.519309081164248e-05,-0.0004895229253147993,-0.00014726713925648503,0.0005966117482267317,-0.00014982031874513985,1.787271094377878e-05,-3.0870959430419403e-05,-0.0007119500528957827,0.00044313406519328743,-0.0002180418753798585,-0.00037548253787370587,-0.000496240990182201,-0.000240167458085221,-0.0004298799709391845,0.0006373919060205858,-0.0004036773437468608,-0.0004990117171811685,-0.00046584642507730876,-0.00024513702640022227,-0.000779128131155299],\"type\":\"scatter\"},{\"name\":\"DP hedge\",\"x\":[0,1,2,3,4,5,6,7,8,9,10,11,12,13,14,15,16,17,18,19,20,21,22,23,24,25,26,27,28,29,30,31,32,33,34,35,36,37,38,39,40,41,42,43,44,45,46,47,48,49,50,51,52,53,54,55,56,57,58,59,60,61,62],\"y\":[0.0037930904724789594,0.0011467507008392959,0.0015081628708200172,0.0036061232401445333,0.0015232399527292128,0.0005251812870295719,0.006090612076888853,0.0035203559565794213,0.003266350274113264,0.0030517366050842832,0.0017869824147186825,0.0007301637020734595,0.0013200159050627501,0.007338254690939925,0.005277555309641649,0.0024689236880473713,0.0023506751808749474,0.0021788511811763034,0.004176934184053312,0.006519488239788151,0.0028838770514634225,0.0022547274241553113,0.002721639974276082,0.004708244176266257,0.003464624049577517,0.005646780495856939,0.005945072776242518,0.004548863898123218,0.002991848382170086,0.005055222387811193,0.008431452638470283,0.004272430177233159,0.004103896068598423,0.004903674157407586,0.004322729950491295,0.0036482458462488467,0.0047657848291217594,0.005752699310770473,0.0037403508874439737,0.004338892725602373,0.00566113627761459,0.007651127963681886,0.007803664550667607,0.006589378437386715,0.001279745113838408,0.006366032889853021,0.008059357444871337,0.005260794607824628,0.0028250340904343724,0.004147156752228828,0.00738960770811715,0.004952661857559288,0.004100347703557559,0.00560350929763526,0.0016806830080858357,0.0006980540129164366,0.008279195644958836,0.0044248898153511395,0.007441004359229386,0.005106698326821092,0.0056612204927732595,0.0026975994136281775,0.0014224197535242383],\"type\":\"scatter\"}],                        {\"height\":400,\"title\":{\"text\":\"\",\"x\":0.5},\"width\":800,\"template\":{\"data\":{\"histogram2dcontour\":[{\"type\":\"histogram2dcontour\",\"colorbar\":{\"outlinewidth\":0,\"ticks\":\"\"},\"colorscale\":[[0.0,\"#0d0887\"],[0.1111111111111111,\"#46039f\"],[0.2222222222222222,\"#7201a8\"],[0.3333333333333333,\"#9c179e\"],[0.4444444444444444,\"#bd3786\"],[0.5555555555555556,\"#d8576b\"],[0.6666666666666666,\"#ed7953\"],[0.7777777777777778,\"#fb9f3a\"],[0.8888888888888888,\"#fdca26\"],[1.0,\"#f0f921\"]]}],\"choropleth\":[{\"type\":\"choropleth\",\"colorbar\":{\"outlinewidth\":0,\"ticks\":\"\"}}],\"histogram2d\":[{\"type\":\"histogram2d\",\"colorbar\":{\"outlinewidth\":0,\"ticks\":\"\"},\"colorscale\":[[0.0,\"#0d0887\"],[0.1111111111111111,\"#46039f\"],[0.2222222222222222,\"#7201a8\"],[0.3333333333333333,\"#9c179e\"],[0.4444444444444444,\"#bd3786\"],[0.5555555555555556,\"#d8576b\"],[0.6666666666666666,\"#ed7953\"],[0.7777777777777778,\"#fb9f3a\"],[0.8888888888888888,\"#fdca26\"],[1.0,\"#f0f921\"]]}],\"heatmap\":[{\"type\":\"heatmap\",\"colorbar\":{\"outlinewidth\":0,\"ticks\":\"\"},\"colorscale\":[[0.0,\"#0d0887\"],[0.1111111111111111,\"#46039f\"],[0.2222222222222222,\"#7201a8\"],[0.3333333333333333,\"#9c179e\"],[0.4444444444444444,\"#bd3786\"],[0.5555555555555556,\"#d8576b\"],[0.6666666666666666,\"#ed7953\"],[0.7777777777777778,\"#fb9f3a\"],[0.8888888888888888,\"#fdca26\"],[1.0,\"#f0f921\"]]}],\"heatmapgl\":[{\"type\":\"heatmapgl\",\"colorbar\":{\"outlinewidth\":0,\"ticks\":\"\"},\"colorscale\":[[0.0,\"#0d0887\"],[0.1111111111111111,\"#46039f\"],[0.2222222222222222,\"#7201a8\"],[0.3333333333333333,\"#9c179e\"],[0.4444444444444444,\"#bd3786\"],[0.5555555555555556,\"#d8576b\"],[0.6666666666666666,\"#ed7953\"],[0.7777777777777778,\"#fb9f3a\"],[0.8888888888888888,\"#fdca26\"],[1.0,\"#f0f921\"]]}],\"contourcarpet\":[{\"type\":\"contourcarpet\",\"colorbar\":{\"outlinewidth\":0,\"ticks\":\"\"}}],\"contour\":[{\"type\":\"contour\",\"colorbar\":{\"outlinewidth\":0,\"ticks\":\"\"},\"colorscale\":[[0.0,\"#0d0887\"],[0.1111111111111111,\"#46039f\"],[0.2222222222222222,\"#7201a8\"],[0.3333333333333333,\"#9c179e\"],[0.4444444444444444,\"#bd3786\"],[0.5555555555555556,\"#d8576b\"],[0.6666666666666666,\"#ed7953\"],[0.7777777777777778,\"#fb9f3a\"],[0.8888888888888888,\"#fdca26\"],[1.0,\"#f0f921\"]]}],\"surface\":[{\"type\":\"surface\",\"colorbar\":{\"outlinewidth\":0,\"ticks\":\"\"},\"colorscale\":[[0.0,\"#0d0887\"],[0.1111111111111111,\"#46039f\"],[0.2222222222222222,\"#7201a8\"],[0.3333333333333333,\"#9c179e\"],[0.4444444444444444,\"#bd3786\"],[0.5555555555555556,\"#d8576b\"],[0.6666666666666666,\"#ed7953\"],[0.7777777777777778,\"#fb9f3a\"],[0.8888888888888888,\"#fdca26\"],[1.0,\"#f0f921\"]]}],\"mesh3d\":[{\"type\":\"mesh3d\",\"colorbar\":{\"outlinewidth\":0,\"ticks\":\"\"}}],\"scatter\":[{\"fillpattern\":{\"fillmode\":\"overlay\",\"size\":10,\"solidity\":0.2},\"type\":\"scatter\"}],\"parcoords\":[{\"type\":\"parcoords\",\"line\":{\"colorbar\":{\"outlinewidth\":0,\"ticks\":\"\"}}}],\"scatterpolargl\":[{\"type\":\"scatterpolargl\",\"marker\":{\"colorbar\":{\"outlinewidth\":0,\"ticks\":\"\"}}}],\"bar\":[{\"error_x\":{\"color\":\"#2a3f5f\"},\"error_y\":{\"color\":\"#2a3f5f\"},\"marker\":{\"line\":{\"color\":\"#E5ECF6\",\"width\":0.5},\"pattern\":{\"fillmode\":\"overlay\",\"size\":10,\"solidity\":0.2}},\"type\":\"bar\"}],\"scattergeo\":[{\"type\":\"scattergeo\",\"marker\":{\"colorbar\":{\"outlinewidth\":0,\"ticks\":\"\"}}}],\"scatterpolar\":[{\"type\":\"scatterpolar\",\"marker\":{\"colorbar\":{\"outlinewidth\":0,\"ticks\":\"\"}}}],\"histogram\":[{\"marker\":{\"pattern\":{\"fillmode\":\"overlay\",\"size\":10,\"solidity\":0.2}},\"type\":\"histogram\"}],\"scattergl\":[{\"type\":\"scattergl\",\"marker\":{\"colorbar\":{\"outlinewidth\":0,\"ticks\":\"\"}}}],\"scatter3d\":[{\"type\":\"scatter3d\",\"line\":{\"colorbar\":{\"outlinewidth\":0,\"ticks\":\"\"}},\"marker\":{\"colorbar\":{\"outlinewidth\":0,\"ticks\":\"\"}}}],\"scattermapbox\":[{\"type\":\"scattermapbox\",\"marker\":{\"colorbar\":{\"outlinewidth\":0,\"ticks\":\"\"}}}],\"scatterternary\":[{\"type\":\"scatterternary\",\"marker\":{\"colorbar\":{\"outlinewidth\":0,\"ticks\":\"\"}}}],\"scattercarpet\":[{\"type\":\"scattercarpet\",\"marker\":{\"colorbar\":{\"outlinewidth\":0,\"ticks\":\"\"}}}],\"carpet\":[{\"aaxis\":{\"endlinecolor\":\"#2a3f5f\",\"gridcolor\":\"white\",\"linecolor\":\"white\",\"minorgridcolor\":\"white\",\"startlinecolor\":\"#2a3f5f\"},\"baxis\":{\"endlinecolor\":\"#2a3f5f\",\"gridcolor\":\"white\",\"linecolor\":\"white\",\"minorgridcolor\":\"white\",\"startlinecolor\":\"#2a3f5f\"},\"type\":\"carpet\"}],\"table\":[{\"cells\":{\"fill\":{\"color\":\"#EBF0F8\"},\"line\":{\"color\":\"white\"}},\"header\":{\"fill\":{\"color\":\"#C8D4E3\"},\"line\":{\"color\":\"white\"}},\"type\":\"table\"}],\"barpolar\":[{\"marker\":{\"line\":{\"color\":\"#E5ECF6\",\"width\":0.5},\"pattern\":{\"fillmode\":\"overlay\",\"size\":10,\"solidity\":0.2}},\"type\":\"barpolar\"}],\"pie\":[{\"automargin\":true,\"type\":\"pie\"}]},\"layout\":{\"autotypenumbers\":\"strict\",\"colorway\":[\"#636efa\",\"#EF553B\",\"#00cc96\",\"#ab63fa\",\"#FFA15A\",\"#19d3f3\",\"#FF6692\",\"#B6E880\",\"#FF97FF\",\"#FECB52\"],\"font\":{\"color\":\"#2a3f5f\"},\"hovermode\":\"closest\",\"hoverlabel\":{\"align\":\"left\"},\"paper_bgcolor\":\"white\",\"plot_bgcolor\":\"#E5ECF6\",\"polar\":{\"bgcolor\":\"#E5ECF6\",\"angularaxis\":{\"gridcolor\":\"white\",\"linecolor\":\"white\",\"ticks\":\"\"},\"radialaxis\":{\"gridcolor\":\"white\",\"linecolor\":\"white\",\"ticks\":\"\"}},\"ternary\":{\"bgcolor\":\"#E5ECF6\",\"aaxis\":{\"gridcolor\":\"white\",\"linecolor\":\"white\",\"ticks\":\"\"},\"baxis\":{\"gridcolor\":\"white\",\"linecolor\":\"white\",\"ticks\":\"\"},\"caxis\":{\"gridcolor\":\"white\",\"linecolor\":\"white\",\"ticks\":\"\"}},\"coloraxis\":{\"colorbar\":{\"outlinewidth\":0,\"ticks\":\"\"}},\"colorscale\":{\"sequential\":[[0.0,\"#0d0887\"],[0.1111111111111111,\"#46039f\"],[0.2222222222222222,\"#7201a8\"],[0.3333333333333333,\"#9c179e\"],[0.4444444444444444,\"#bd3786\"],[0.5555555555555556,\"#d8576b\"],[0.6666666666666666,\"#ed7953\"],[0.7777777777777778,\"#fb9f3a\"],[0.8888888888888888,\"#fdca26\"],[1.0,\"#f0f921\"]],\"sequentialminus\":[[0.0,\"#0d0887\"],[0.1111111111111111,\"#46039f\"],[0.2222222222222222,\"#7201a8\"],[0.3333333333333333,\"#9c179e\"],[0.4444444444444444,\"#bd3786\"],[0.5555555555555556,\"#d8576b\"],[0.6666666666666666,\"#ed7953\"],[0.7777777777777778,\"#fb9f3a\"],[0.8888888888888888,\"#fdca26\"],[1.0,\"#f0f921\"]],\"diverging\":[[0,\"#8e0152\"],[0.1,\"#c51b7d\"],[0.2,\"#de77ae\"],[0.3,\"#f1b6da\"],[0.4,\"#fde0ef\"],[0.5,\"#f7f7f7\"],[0.6,\"#e6f5d0\"],[0.7,\"#b8e186\"],[0.8,\"#7fbc41\"],[0.9,\"#4d9221\"],[1,\"#276419\"]]},\"xaxis\":{\"gridcolor\":\"white\",\"linecolor\":\"white\",\"ticks\":\"\",\"title\":{\"standoff\":15},\"zerolinecolor\":\"white\",\"automargin\":true,\"zerolinewidth\":2},\"yaxis\":{\"gridcolor\":\"white\",\"linecolor\":\"white\",\"ticks\":\"\",\"title\":{\"standoff\":15},\"zerolinecolor\":\"white\",\"automargin\":true,\"zerolinewidth\":2},\"scene\":{\"xaxis\":{\"backgroundcolor\":\"#E5ECF6\",\"gridcolor\":\"white\",\"linecolor\":\"white\",\"showbackground\":true,\"ticks\":\"\",\"zerolinecolor\":\"white\",\"gridwidth\":2},\"yaxis\":{\"backgroundcolor\":\"#E5ECF6\",\"gridcolor\":\"white\",\"linecolor\":\"white\",\"showbackground\":true,\"ticks\":\"\",\"zerolinecolor\":\"white\",\"gridwidth\":2},\"zaxis\":{\"backgroundcolor\":\"#E5ECF6\",\"gridcolor\":\"white\",\"linecolor\":\"white\",\"showbackground\":true,\"ticks\":\"\",\"zerolinecolor\":\"white\",\"gridwidth\":2}},\"shapedefaults\":{\"line\":{\"color\":\"#2a3f5f\"}},\"annotationdefaults\":{\"arrowcolor\":\"#2a3f5f\",\"arrowhead\":0,\"arrowwidth\":1},\"geo\":{\"bgcolor\":\"white\",\"landcolor\":\"#E5ECF6\",\"subunitcolor\":\"white\",\"showland\":true,\"showlakes\":true,\"lakecolor\":\"white\"},\"title\":{\"x\":0.05},\"mapbox\":{\"style\":\"light\"}}},\"xaxis\":{\"title\":{\"text\":\"Timestep\"}},\"yaxis\":{\"title\":{\"text\":\"Reward\"}}},                        {\"responsive\": true}                    ).then(function(){\n",
              "                            \n",
              "var gd = document.getElementById('b0335b47-d22c-45f2-a970-233e68b4a815');\n",
              "var x = new MutationObserver(function (mutations, observer) {{\n",
              "        var display = window.getComputedStyle(gd).display;\n",
              "        if (!display || display === 'none') {{\n",
              "            console.log([gd, 'removed!']);\n",
              "            Plotly.purge(gd);\n",
              "            observer.disconnect();\n",
              "        }}\n",
              "}});\n",
              "\n",
              "// Listen for the removal of the full notebook cells\n",
              "var notebookContainer = gd.closest('#notebook-container');\n",
              "if (notebookContainer) {{\n",
              "    x.observe(notebookContainer, {childList: true});\n",
              "}}\n",
              "\n",
              "// Listen for the clearing of the current output cell\n",
              "var outputEl = gd.closest('.output');\n",
              "if (outputEl) {{\n",
              "    x.observe(outputEl, {childList: true});\n",
              "}}\n",
              "\n",
              "                        })                };                            </script>        </div>\n",
              "</body>\n",
              "</html>"
            ]
          },
          "metadata": {}
        }
      ],
      "source": [
        "###compare the action/hedge with delta hedge\n",
        "data=[\n",
        "    go.Scatter(x=delta_df_train.columns[:num_of_timestep], y=-1*delta_df_train.mean(axis=0).values[:num_of_timestep], line=dict(dash='dash'), name='Delta hedge'),\n",
        "    go.Scatter(x=opt_act.columns, y=opt_act.mean(axis=0).values, name='DP hedge'),\n",
        "]\n",
        "layout=go.Layout(\n",
        "        title=go.layout.Title(text='Average hedge each timestep', x=0.5),\n",
        "        width=800,\n",
        "        height=400\n",
        "    )\n",
        "fig = go.Figure(data=data, layout=layout)\n",
        "fig.update_layout(xaxis_title=\"Timestep\", yaxis_title=\"Hedge\")\n",
        "fig.show()\n",
        "\n",
        "data=[\n",
        "    go.Scatter(x=delta_reward_calc.columns, y=delta_reward_calc.mean(axis=0).values, line=dict(dash='dash'), name='Delta hedge'),\n",
        "    go.Scatter(x=reward_df.columns, y=reward_df.mean(axis=0).values, name='DP hedge'),\n",
        "]\n",
        "layout=go.Layout(\n",
        "        title=go.layout.Title(text='', x=0.5), ##Average reward each timestep\n",
        "        width=800,\n",
        "        height=400\n",
        "    )\n",
        "fig = go.Figure(data=data, layout=layout)\n",
        "fig.update_layout(xaxis_title=\"Timestep\", yaxis_title=\"Reward\")\n",
        "fig.show()\n"
      ]
    },
    {
      "cell_type": "code",
      "source": [
        "###we check what is reward of next step with opt_act[0].unique() and delta hedge\n",
        "def calc_one_step_reward(hedge_qty, t, ds, dc, s_tilde, c_tilde, risk_lambda):\n",
        "  t = 0\n",
        "  reward =  hedge_qty * ds.loc[:,t] + dc.loc[:,t] \\\n",
        "            - risk_lambda*(hedge_qty**2 * s_tilde.loc[:,t]**2 \\\n",
        "            + 2 *hedge_qty* s_tilde.loc[:,t]*c_tilde.loc[:,t]\\\n",
        "            + c_tilde.loc[:,t]**2)\n",
        "  return reward"
      ],
      "metadata": {
        "id": "vsDNa54K62Oj"
      },
      "id": "vsDNa54K62Oj",
      "execution_count": null,
      "outputs": []
    },
    {
      "cell_type": "code",
      "source": [
        "hedge_qty_qlbs = opt_act[0].unique()\n",
        "hedge_qty_delta = -1*delta_df_test[0].unique()\n",
        "r_qlbs = calc_one_step_reward(hedge_qty_qlbs, 0,\n",
        "                    ds=delta_s_test, dc=delta_c_test,\n",
        "                    s_tilde=delta_s_tilde_test, c_tilde=delta_c_tilde_test,\n",
        "                    risk_lambda=risk_lambda)\n",
        "r_delta = calc_one_step_reward(hedge_qty_delta, 0,\n",
        "                    ds=delta_s_test, dc=delta_c_test,\n",
        "                    s_tilde=delta_s_tilde_test, c_tilde=delta_c_tilde_test,\n",
        "                    risk_lambda=risk_lambda)"
      ],
      "metadata": {
        "id": "ZHYtl4sG8Y_B"
      },
      "id": "ZHYtl4sG8Y_B",
      "execution_count": null,
      "outputs": []
    },
    {
      "cell_type": "code",
      "source": [
        "r_qlbs.mean(), r_delta.mean()"
      ],
      "metadata": {
        "colab": {
          "base_uri": "https://localhost:8080/"
        },
        "id": "5Yt4uM9S8yK_",
        "outputId": "aaf2be8d-afd5-4eb1-a254-75584528d21c"
      },
      "id": "5Yt4uM9S8yK_",
      "execution_count": null,
      "outputs": [
        {
          "output_type": "execute_result",
          "data": {
            "text/plain": [
              "(-0.004505928198377556, -0.00017957202743091065)"
            ]
          },
          "metadata": {},
          "execution_count": 28
        }
      ]
    },
    {
      "cell_type": "code",
      "source": [],
      "metadata": {
        "id": "jIeZ0mOP9th7"
      },
      "id": "jIeZ0mOP9th7",
      "execution_count": null,
      "outputs": []
    }
  ],
  "metadata": {
    "kernelspec": {
      "display_name": "Python 3",
      "name": "python3"
    },
    "language_info": {
      "codemirror_mode": {
        "name": "ipython",
        "version": 3
      },
      "file_extension": ".py",
      "mimetype": "text/x-python",
      "name": "python",
      "nbconvert_exporter": "python",
      "pygments_lexer": "ipython3",
      "version": "3.9.7"
    },
    "colab": {
      "provenance": []
    }
  },
  "nbformat": 4,
  "nbformat_minor": 5
}