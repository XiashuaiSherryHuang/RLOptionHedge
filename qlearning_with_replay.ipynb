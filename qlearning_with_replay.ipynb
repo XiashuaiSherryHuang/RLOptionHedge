{
  "nbformat": 4,
  "nbformat_minor": 0,
  "metadata": {
    "colab": {
      "provenance": [],
      "machine_shape": "hm",
      "toc_visible": true
    },
    "kernelspec": {
      "name": "python3",
      "display_name": "Python 3"
    },
    "language_info": {
      "name": "python"
    },
    "widgets": {
      "application/vnd.jupyter.widget-state+json": {
        "1e5cea66c8e34a538f608da22ee10a83": {
          "model_module": "@jupyter-widgets/controls",
          "model_name": "HBoxModel",
          "model_module_version": "1.5.0",
          "state": {
            "_dom_classes": [],
            "_model_module": "@jupyter-widgets/controls",
            "_model_module_version": "1.5.0",
            "_model_name": "HBoxModel",
            "_view_count": null,
            "_view_module": "@jupyter-widgets/controls",
            "_view_module_version": "1.5.0",
            "_view_name": "HBoxView",
            "box_style": "",
            "children": [
              "IPY_MODEL_f574a59436974550b6d27337a6728516",
              "IPY_MODEL_2af491330f8a412881d8a86f802d5e69",
              "IPY_MODEL_fafcad3e01464e61a77ecf8c2c3c4571"
            ],
            "layout": "IPY_MODEL_8a6bab4fc90a419b88484b89d485ac52"
          }
        },
        "f574a59436974550b6d27337a6728516": {
          "model_module": "@jupyter-widgets/controls",
          "model_name": "HTMLModel",
          "model_module_version": "1.5.0",
          "state": {
            "_dom_classes": [],
            "_model_module": "@jupyter-widgets/controls",
            "_model_module_version": "1.5.0",
            "_model_name": "HTMLModel",
            "_view_count": null,
            "_view_module": "@jupyter-widgets/controls",
            "_view_module_version": "1.5.0",
            "_view_name": "HTMLView",
            "description": "",
            "description_tooltip": null,
            "layout": "IPY_MODEL_9d55e04487a34ca1bd2aa43e79144e70",
            "placeholder": "​",
            "style": "IPY_MODEL_7b5248f355064d81a3c26ab04c953bb1",
            "value": "  0%"
          }
        },
        "2af491330f8a412881d8a86f802d5e69": {
          "model_module": "@jupyter-widgets/controls",
          "model_name": "FloatProgressModel",
          "model_module_version": "1.5.0",
          "state": {
            "_dom_classes": [],
            "_model_module": "@jupyter-widgets/controls",
            "_model_module_version": "1.5.0",
            "_model_name": "FloatProgressModel",
            "_view_count": null,
            "_view_module": "@jupyter-widgets/controls",
            "_view_module_version": "1.5.0",
            "_view_name": "ProgressView",
            "bar_style": "danger",
            "description": "",
            "description_tooltip": null,
            "layout": "IPY_MODEL_212e978624784f5981f8b4c6196bac72",
            "max": 5,
            "min": 0,
            "orientation": "horizontal",
            "style": "IPY_MODEL_a6d1b5dac0e345c7b1dd31f165746cf4",
            "value": 0
          }
        },
        "fafcad3e01464e61a77ecf8c2c3c4571": {
          "model_module": "@jupyter-widgets/controls",
          "model_name": "HTMLModel",
          "model_module_version": "1.5.0",
          "state": {
            "_dom_classes": [],
            "_model_module": "@jupyter-widgets/controls",
            "_model_module_version": "1.5.0",
            "_model_name": "HTMLModel",
            "_view_count": null,
            "_view_module": "@jupyter-widgets/controls",
            "_view_module_version": "1.5.0",
            "_view_name": "HTMLView",
            "description": "",
            "description_tooltip": null,
            "layout": "IPY_MODEL_1b0e644bd1804743ba16a244708b95b3",
            "placeholder": "​",
            "style": "IPY_MODEL_e2a75a5c12d44a56b59ae9f7ec102604",
            "value": " 0/5 [07:54&lt;?, ?it/s]"
          }
        },
        "8a6bab4fc90a419b88484b89d485ac52": {
          "model_module": "@jupyter-widgets/base",
          "model_name": "LayoutModel",
          "model_module_version": "1.2.0",
          "state": {
            "_model_module": "@jupyter-widgets/base",
            "_model_module_version": "1.2.0",
            "_model_name": "LayoutModel",
            "_view_count": null,
            "_view_module": "@jupyter-widgets/base",
            "_view_module_version": "1.2.0",
            "_view_name": "LayoutView",
            "align_content": null,
            "align_items": null,
            "align_self": null,
            "border": null,
            "bottom": null,
            "display": null,
            "flex": null,
            "flex_flow": null,
            "grid_area": null,
            "grid_auto_columns": null,
            "grid_auto_flow": null,
            "grid_auto_rows": null,
            "grid_column": null,
            "grid_gap": null,
            "grid_row": null,
            "grid_template_areas": null,
            "grid_template_columns": null,
            "grid_template_rows": null,
            "height": null,
            "justify_content": null,
            "justify_items": null,
            "left": null,
            "margin": null,
            "max_height": null,
            "max_width": null,
            "min_height": null,
            "min_width": null,
            "object_fit": null,
            "object_position": null,
            "order": null,
            "overflow": null,
            "overflow_x": null,
            "overflow_y": null,
            "padding": null,
            "right": null,
            "top": null,
            "visibility": null,
            "width": null
          }
        },
        "9d55e04487a34ca1bd2aa43e79144e70": {
          "model_module": "@jupyter-widgets/base",
          "model_name": "LayoutModel",
          "model_module_version": "1.2.0",
          "state": {
            "_model_module": "@jupyter-widgets/base",
            "_model_module_version": "1.2.0",
            "_model_name": "LayoutModel",
            "_view_count": null,
            "_view_module": "@jupyter-widgets/base",
            "_view_module_version": "1.2.0",
            "_view_name": "LayoutView",
            "align_content": null,
            "align_items": null,
            "align_self": null,
            "border": null,
            "bottom": null,
            "display": null,
            "flex": null,
            "flex_flow": null,
            "grid_area": null,
            "grid_auto_columns": null,
            "grid_auto_flow": null,
            "grid_auto_rows": null,
            "grid_column": null,
            "grid_gap": null,
            "grid_row": null,
            "grid_template_areas": null,
            "grid_template_columns": null,
            "grid_template_rows": null,
            "height": null,
            "justify_content": null,
            "justify_items": null,
            "left": null,
            "margin": null,
            "max_height": null,
            "max_width": null,
            "min_height": null,
            "min_width": null,
            "object_fit": null,
            "object_position": null,
            "order": null,
            "overflow": null,
            "overflow_x": null,
            "overflow_y": null,
            "padding": null,
            "right": null,
            "top": null,
            "visibility": null,
            "width": null
          }
        },
        "7b5248f355064d81a3c26ab04c953bb1": {
          "model_module": "@jupyter-widgets/controls",
          "model_name": "DescriptionStyleModel",
          "model_module_version": "1.5.0",
          "state": {
            "_model_module": "@jupyter-widgets/controls",
            "_model_module_version": "1.5.0",
            "_model_name": "DescriptionStyleModel",
            "_view_count": null,
            "_view_module": "@jupyter-widgets/base",
            "_view_module_version": "1.2.0",
            "_view_name": "StyleView",
            "description_width": ""
          }
        },
        "212e978624784f5981f8b4c6196bac72": {
          "model_module": "@jupyter-widgets/base",
          "model_name": "LayoutModel",
          "model_module_version": "1.2.0",
          "state": {
            "_model_module": "@jupyter-widgets/base",
            "_model_module_version": "1.2.0",
            "_model_name": "LayoutModel",
            "_view_count": null,
            "_view_module": "@jupyter-widgets/base",
            "_view_module_version": "1.2.0",
            "_view_name": "LayoutView",
            "align_content": null,
            "align_items": null,
            "align_self": null,
            "border": null,
            "bottom": null,
            "display": null,
            "flex": null,
            "flex_flow": null,
            "grid_area": null,
            "grid_auto_columns": null,
            "grid_auto_flow": null,
            "grid_auto_rows": null,
            "grid_column": null,
            "grid_gap": null,
            "grid_row": null,
            "grid_template_areas": null,
            "grid_template_columns": null,
            "grid_template_rows": null,
            "height": null,
            "justify_content": null,
            "justify_items": null,
            "left": null,
            "margin": null,
            "max_height": null,
            "max_width": null,
            "min_height": null,
            "min_width": null,
            "object_fit": null,
            "object_position": null,
            "order": null,
            "overflow": null,
            "overflow_x": null,
            "overflow_y": null,
            "padding": null,
            "right": null,
            "top": null,
            "visibility": null,
            "width": null
          }
        },
        "a6d1b5dac0e345c7b1dd31f165746cf4": {
          "model_module": "@jupyter-widgets/controls",
          "model_name": "ProgressStyleModel",
          "model_module_version": "1.5.0",
          "state": {
            "_model_module": "@jupyter-widgets/controls",
            "_model_module_version": "1.5.0",
            "_model_name": "ProgressStyleModel",
            "_view_count": null,
            "_view_module": "@jupyter-widgets/base",
            "_view_module_version": "1.2.0",
            "_view_name": "StyleView",
            "bar_color": null,
            "description_width": ""
          }
        },
        "1b0e644bd1804743ba16a244708b95b3": {
          "model_module": "@jupyter-widgets/base",
          "model_name": "LayoutModel",
          "model_module_version": "1.2.0",
          "state": {
            "_model_module": "@jupyter-widgets/base",
            "_model_module_version": "1.2.0",
            "_model_name": "LayoutModel",
            "_view_count": null,
            "_view_module": "@jupyter-widgets/base",
            "_view_module_version": "1.2.0",
            "_view_name": "LayoutView",
            "align_content": null,
            "align_items": null,
            "align_self": null,
            "border": null,
            "bottom": null,
            "display": null,
            "flex": null,
            "flex_flow": null,
            "grid_area": null,
            "grid_auto_columns": null,
            "grid_auto_flow": null,
            "grid_auto_rows": null,
            "grid_column": null,
            "grid_gap": null,
            "grid_row": null,
            "grid_template_areas": null,
            "grid_template_columns": null,
            "grid_template_rows": null,
            "height": null,
            "justify_content": null,
            "justify_items": null,
            "left": null,
            "margin": null,
            "max_height": null,
            "max_width": null,
            "min_height": null,
            "min_width": null,
            "object_fit": null,
            "object_position": null,
            "order": null,
            "overflow": null,
            "overflow_x": null,
            "overflow_y": null,
            "padding": null,
            "right": null,
            "top": null,
            "visibility": null,
            "width": null
          }
        },
        "e2a75a5c12d44a56b59ae9f7ec102604": {
          "model_module": "@jupyter-widgets/controls",
          "model_name": "DescriptionStyleModel",
          "model_module_version": "1.5.0",
          "state": {
            "_model_module": "@jupyter-widgets/controls",
            "_model_module_version": "1.5.0",
            "_model_name": "DescriptionStyleModel",
            "_view_count": null,
            "_view_module": "@jupyter-widgets/base",
            "_view_module_version": "1.2.0",
            "_view_name": "StyleView",
            "description_width": ""
          }
        },
        "d4f59b7f02fc49f7a1eb18390f34b5c3": {
          "model_module": "@jupyter-widgets/controls",
          "model_name": "HBoxModel",
          "model_module_version": "1.5.0",
          "state": {
            "_dom_classes": [],
            "_model_module": "@jupyter-widgets/controls",
            "_model_module_version": "1.5.0",
            "_model_name": "HBoxModel",
            "_view_count": null,
            "_view_module": "@jupyter-widgets/controls",
            "_view_module_version": "1.5.0",
            "_view_name": "HBoxView",
            "box_style": "",
            "children": [
              "IPY_MODEL_87d057bb1bb94ee09fc07defa5b47033",
              "IPY_MODEL_4a07c8c260844a48ac3cd70a072b4255",
              "IPY_MODEL_3d1ed880b6e1458cb2e5d21ddf4f934b"
            ],
            "layout": "IPY_MODEL_9e53c6f4823d453ba2ffeb01372f572f"
          }
        },
        "87d057bb1bb94ee09fc07defa5b47033": {
          "model_module": "@jupyter-widgets/controls",
          "model_name": "HTMLModel",
          "model_module_version": "1.5.0",
          "state": {
            "_dom_classes": [],
            "_model_module": "@jupyter-widgets/controls",
            "_model_module_version": "1.5.0",
            "_model_name": "HTMLModel",
            "_view_count": null,
            "_view_module": "@jupyter-widgets/controls",
            "_view_module_version": "1.5.0",
            "_view_name": "HTMLView",
            "description": "",
            "description_tooltip": null,
            "layout": "IPY_MODEL_4e4f97f19c584604958822a292d6aafd",
            "placeholder": "​",
            "style": "IPY_MODEL_85858143aade40f5a591fb4ee6889668",
            "value": "100%"
          }
        },
        "4a07c8c260844a48ac3cd70a072b4255": {
          "model_module": "@jupyter-widgets/controls",
          "model_name": "FloatProgressModel",
          "model_module_version": "1.5.0",
          "state": {
            "_dom_classes": [],
            "_model_module": "@jupyter-widgets/controls",
            "_model_module_version": "1.5.0",
            "_model_name": "FloatProgressModel",
            "_view_count": null,
            "_view_module": "@jupyter-widgets/controls",
            "_view_module_version": "1.5.0",
            "_view_name": "ProgressView",
            "bar_style": "success",
            "description": "",
            "description_tooltip": null,
            "layout": "IPY_MODEL_e06b55b3952848779aa8e1f0cca64f42",
            "max": 10,
            "min": 0,
            "orientation": "horizontal",
            "style": "IPY_MODEL_308c87301ca745c38ae8f2db0933f37d",
            "value": 10
          }
        },
        "3d1ed880b6e1458cb2e5d21ddf4f934b": {
          "model_module": "@jupyter-widgets/controls",
          "model_name": "HTMLModel",
          "model_module_version": "1.5.0",
          "state": {
            "_dom_classes": [],
            "_model_module": "@jupyter-widgets/controls",
            "_model_module_version": "1.5.0",
            "_model_name": "HTMLModel",
            "_view_count": null,
            "_view_module": "@jupyter-widgets/controls",
            "_view_module_version": "1.5.0",
            "_view_name": "HTMLView",
            "description": "",
            "description_tooltip": null,
            "layout": "IPY_MODEL_538037f0c5c94e2598643938aa515ab8",
            "placeholder": "​",
            "style": "IPY_MODEL_e0882fc1aa0043508f41edc2a4d0e8f1",
            "value": " 10/10 [08:59&lt;00:00, 54.09s/it]"
          }
        },
        "9e53c6f4823d453ba2ffeb01372f572f": {
          "model_module": "@jupyter-widgets/base",
          "model_name": "LayoutModel",
          "model_module_version": "1.2.0",
          "state": {
            "_model_module": "@jupyter-widgets/base",
            "_model_module_version": "1.2.0",
            "_model_name": "LayoutModel",
            "_view_count": null,
            "_view_module": "@jupyter-widgets/base",
            "_view_module_version": "1.2.0",
            "_view_name": "LayoutView",
            "align_content": null,
            "align_items": null,
            "align_self": null,
            "border": null,
            "bottom": null,
            "display": null,
            "flex": null,
            "flex_flow": null,
            "grid_area": null,
            "grid_auto_columns": null,
            "grid_auto_flow": null,
            "grid_auto_rows": null,
            "grid_column": null,
            "grid_gap": null,
            "grid_row": null,
            "grid_template_areas": null,
            "grid_template_columns": null,
            "grid_template_rows": null,
            "height": null,
            "justify_content": null,
            "justify_items": null,
            "left": null,
            "margin": null,
            "max_height": null,
            "max_width": null,
            "min_height": null,
            "min_width": null,
            "object_fit": null,
            "object_position": null,
            "order": null,
            "overflow": null,
            "overflow_x": null,
            "overflow_y": null,
            "padding": null,
            "right": null,
            "top": null,
            "visibility": null,
            "width": null
          }
        },
        "4e4f97f19c584604958822a292d6aafd": {
          "model_module": "@jupyter-widgets/base",
          "model_name": "LayoutModel",
          "model_module_version": "1.2.0",
          "state": {
            "_model_module": "@jupyter-widgets/base",
            "_model_module_version": "1.2.0",
            "_model_name": "LayoutModel",
            "_view_count": null,
            "_view_module": "@jupyter-widgets/base",
            "_view_module_version": "1.2.0",
            "_view_name": "LayoutView",
            "align_content": null,
            "align_items": null,
            "align_self": null,
            "border": null,
            "bottom": null,
            "display": null,
            "flex": null,
            "flex_flow": null,
            "grid_area": null,
            "grid_auto_columns": null,
            "grid_auto_flow": null,
            "grid_auto_rows": null,
            "grid_column": null,
            "grid_gap": null,
            "grid_row": null,
            "grid_template_areas": null,
            "grid_template_columns": null,
            "grid_template_rows": null,
            "height": null,
            "justify_content": null,
            "justify_items": null,
            "left": null,
            "margin": null,
            "max_height": null,
            "max_width": null,
            "min_height": null,
            "min_width": null,
            "object_fit": null,
            "object_position": null,
            "order": null,
            "overflow": null,
            "overflow_x": null,
            "overflow_y": null,
            "padding": null,
            "right": null,
            "top": null,
            "visibility": null,
            "width": null
          }
        },
        "85858143aade40f5a591fb4ee6889668": {
          "model_module": "@jupyter-widgets/controls",
          "model_name": "DescriptionStyleModel",
          "model_module_version": "1.5.0",
          "state": {
            "_model_module": "@jupyter-widgets/controls",
            "_model_module_version": "1.5.0",
            "_model_name": "DescriptionStyleModel",
            "_view_count": null,
            "_view_module": "@jupyter-widgets/base",
            "_view_module_version": "1.2.0",
            "_view_name": "StyleView",
            "description_width": ""
          }
        },
        "e06b55b3952848779aa8e1f0cca64f42": {
          "model_module": "@jupyter-widgets/base",
          "model_name": "LayoutModel",
          "model_module_version": "1.2.0",
          "state": {
            "_model_module": "@jupyter-widgets/base",
            "_model_module_version": "1.2.0",
            "_model_name": "LayoutModel",
            "_view_count": null,
            "_view_module": "@jupyter-widgets/base",
            "_view_module_version": "1.2.0",
            "_view_name": "LayoutView",
            "align_content": null,
            "align_items": null,
            "align_self": null,
            "border": null,
            "bottom": null,
            "display": null,
            "flex": null,
            "flex_flow": null,
            "grid_area": null,
            "grid_auto_columns": null,
            "grid_auto_flow": null,
            "grid_auto_rows": null,
            "grid_column": null,
            "grid_gap": null,
            "grid_row": null,
            "grid_template_areas": null,
            "grid_template_columns": null,
            "grid_template_rows": null,
            "height": null,
            "justify_content": null,
            "justify_items": null,
            "left": null,
            "margin": null,
            "max_height": null,
            "max_width": null,
            "min_height": null,
            "min_width": null,
            "object_fit": null,
            "object_position": null,
            "order": null,
            "overflow": null,
            "overflow_x": null,
            "overflow_y": null,
            "padding": null,
            "right": null,
            "top": null,
            "visibility": null,
            "width": null
          }
        },
        "308c87301ca745c38ae8f2db0933f37d": {
          "model_module": "@jupyter-widgets/controls",
          "model_name": "ProgressStyleModel",
          "model_module_version": "1.5.0",
          "state": {
            "_model_module": "@jupyter-widgets/controls",
            "_model_module_version": "1.5.0",
            "_model_name": "ProgressStyleModel",
            "_view_count": null,
            "_view_module": "@jupyter-widgets/base",
            "_view_module_version": "1.2.0",
            "_view_name": "StyleView",
            "bar_color": null,
            "description_width": ""
          }
        },
        "538037f0c5c94e2598643938aa515ab8": {
          "model_module": "@jupyter-widgets/base",
          "model_name": "LayoutModel",
          "model_module_version": "1.2.0",
          "state": {
            "_model_module": "@jupyter-widgets/base",
            "_model_module_version": "1.2.0",
            "_model_name": "LayoutModel",
            "_view_count": null,
            "_view_module": "@jupyter-widgets/base",
            "_view_module_version": "1.2.0",
            "_view_name": "LayoutView",
            "align_content": null,
            "align_items": null,
            "align_self": null,
            "border": null,
            "bottom": null,
            "display": null,
            "flex": null,
            "flex_flow": null,
            "grid_area": null,
            "grid_auto_columns": null,
            "grid_auto_flow": null,
            "grid_auto_rows": null,
            "grid_column": null,
            "grid_gap": null,
            "grid_row": null,
            "grid_template_areas": null,
            "grid_template_columns": null,
            "grid_template_rows": null,
            "height": null,
            "justify_content": null,
            "justify_items": null,
            "left": null,
            "margin": null,
            "max_height": null,
            "max_width": null,
            "min_height": null,
            "min_width": null,
            "object_fit": null,
            "object_position": null,
            "order": null,
            "overflow": null,
            "overflow_x": null,
            "overflow_y": null,
            "padding": null,
            "right": null,
            "top": null,
            "visibility": null,
            "width": null
          }
        },
        "e0882fc1aa0043508f41edc2a4d0e8f1": {
          "model_module": "@jupyter-widgets/controls",
          "model_name": "DescriptionStyleModel",
          "model_module_version": "1.5.0",
          "state": {
            "_model_module": "@jupyter-widgets/controls",
            "_model_module_version": "1.5.0",
            "_model_name": "DescriptionStyleModel",
            "_view_count": null,
            "_view_module": "@jupyter-widgets/base",
            "_view_module_version": "1.2.0",
            "_view_name": "StyleView",
            "description_width": ""
          }
        },
        "222d20bedd3441feac5a016efa451f95": {
          "model_module": "@jupyter-widgets/controls",
          "model_name": "HBoxModel",
          "model_module_version": "1.5.0",
          "state": {
            "_dom_classes": [],
            "_model_module": "@jupyter-widgets/controls",
            "_model_module_version": "1.5.0",
            "_model_name": "HBoxModel",
            "_view_count": null,
            "_view_module": "@jupyter-widgets/controls",
            "_view_module_version": "1.5.0",
            "_view_name": "HBoxView",
            "box_style": "",
            "children": [
              "IPY_MODEL_1a220cdd84434cb7a96e2b1e6af9bee8",
              "IPY_MODEL_a14b7b409cc14bc2b89378b84417f4f5",
              "IPY_MODEL_aac6e4bcd79a4b6db99160f41e32c23d"
            ],
            "layout": "IPY_MODEL_295e06b7682e4f489c8f86e5200ac801"
          }
        },
        "1a220cdd84434cb7a96e2b1e6af9bee8": {
          "model_module": "@jupyter-widgets/controls",
          "model_name": "HTMLModel",
          "model_module_version": "1.5.0",
          "state": {
            "_dom_classes": [],
            "_model_module": "@jupyter-widgets/controls",
            "_model_module_version": "1.5.0",
            "_model_name": "HTMLModel",
            "_view_count": null,
            "_view_module": "@jupyter-widgets/controls",
            "_view_module_version": "1.5.0",
            "_view_name": "HTMLView",
            "description": "",
            "description_tooltip": null,
            "layout": "IPY_MODEL_d7c10e80b5644497b7549b762b9dc209",
            "placeholder": "​",
            "style": "IPY_MODEL_023cb67248834e38bcff45a9e6cf0312",
            "value": "100%"
          }
        },
        "a14b7b409cc14bc2b89378b84417f4f5": {
          "model_module": "@jupyter-widgets/controls",
          "model_name": "FloatProgressModel",
          "model_module_version": "1.5.0",
          "state": {
            "_dom_classes": [],
            "_model_module": "@jupyter-widgets/controls",
            "_model_module_version": "1.5.0",
            "_model_name": "FloatProgressModel",
            "_view_count": null,
            "_view_module": "@jupyter-widgets/controls",
            "_view_module_version": "1.5.0",
            "_view_name": "ProgressView",
            "bar_style": "success",
            "description": "",
            "description_tooltip": null,
            "layout": "IPY_MODEL_04aa9f6f9db24f1b8b029b3a18f4dd52",
            "max": 10,
            "min": 0,
            "orientation": "horizontal",
            "style": "IPY_MODEL_f4d1dcd144c04e4d89c98344485c383d",
            "value": 10
          }
        },
        "aac6e4bcd79a4b6db99160f41e32c23d": {
          "model_module": "@jupyter-widgets/controls",
          "model_name": "HTMLModel",
          "model_module_version": "1.5.0",
          "state": {
            "_dom_classes": [],
            "_model_module": "@jupyter-widgets/controls",
            "_model_module_version": "1.5.0",
            "_model_name": "HTMLModel",
            "_view_count": null,
            "_view_module": "@jupyter-widgets/controls",
            "_view_module_version": "1.5.0",
            "_view_name": "HTMLView",
            "description": "",
            "description_tooltip": null,
            "layout": "IPY_MODEL_7c8c60268a6a4e2f83998c0797abbee2",
            "placeholder": "​",
            "style": "IPY_MODEL_731b0623977d4b2da9164b33d8322458",
            "value": " 10/10 [00:00&lt;00:00, 53.55it/s]"
          }
        },
        "295e06b7682e4f489c8f86e5200ac801": {
          "model_module": "@jupyter-widgets/base",
          "model_name": "LayoutModel",
          "model_module_version": "1.2.0",
          "state": {
            "_model_module": "@jupyter-widgets/base",
            "_model_module_version": "1.2.0",
            "_model_name": "LayoutModel",
            "_view_count": null,
            "_view_module": "@jupyter-widgets/base",
            "_view_module_version": "1.2.0",
            "_view_name": "LayoutView",
            "align_content": null,
            "align_items": null,
            "align_self": null,
            "border": null,
            "bottom": null,
            "display": null,
            "flex": null,
            "flex_flow": null,
            "grid_area": null,
            "grid_auto_columns": null,
            "grid_auto_flow": null,
            "grid_auto_rows": null,
            "grid_column": null,
            "grid_gap": null,
            "grid_row": null,
            "grid_template_areas": null,
            "grid_template_columns": null,
            "grid_template_rows": null,
            "height": null,
            "justify_content": null,
            "justify_items": null,
            "left": null,
            "margin": null,
            "max_height": null,
            "max_width": null,
            "min_height": null,
            "min_width": null,
            "object_fit": null,
            "object_position": null,
            "order": null,
            "overflow": null,
            "overflow_x": null,
            "overflow_y": null,
            "padding": null,
            "right": null,
            "top": null,
            "visibility": null,
            "width": null
          }
        },
        "d7c10e80b5644497b7549b762b9dc209": {
          "model_module": "@jupyter-widgets/base",
          "model_name": "LayoutModel",
          "model_module_version": "1.2.0",
          "state": {
            "_model_module": "@jupyter-widgets/base",
            "_model_module_version": "1.2.0",
            "_model_name": "LayoutModel",
            "_view_count": null,
            "_view_module": "@jupyter-widgets/base",
            "_view_module_version": "1.2.0",
            "_view_name": "LayoutView",
            "align_content": null,
            "align_items": null,
            "align_self": null,
            "border": null,
            "bottom": null,
            "display": null,
            "flex": null,
            "flex_flow": null,
            "grid_area": null,
            "grid_auto_columns": null,
            "grid_auto_flow": null,
            "grid_auto_rows": null,
            "grid_column": null,
            "grid_gap": null,
            "grid_row": null,
            "grid_template_areas": null,
            "grid_template_columns": null,
            "grid_template_rows": null,
            "height": null,
            "justify_content": null,
            "justify_items": null,
            "left": null,
            "margin": null,
            "max_height": null,
            "max_width": null,
            "min_height": null,
            "min_width": null,
            "object_fit": null,
            "object_position": null,
            "order": null,
            "overflow": null,
            "overflow_x": null,
            "overflow_y": null,
            "padding": null,
            "right": null,
            "top": null,
            "visibility": null,
            "width": null
          }
        },
        "023cb67248834e38bcff45a9e6cf0312": {
          "model_module": "@jupyter-widgets/controls",
          "model_name": "DescriptionStyleModel",
          "model_module_version": "1.5.0",
          "state": {
            "_model_module": "@jupyter-widgets/controls",
            "_model_module_version": "1.5.0",
            "_model_name": "DescriptionStyleModel",
            "_view_count": null,
            "_view_module": "@jupyter-widgets/base",
            "_view_module_version": "1.2.0",
            "_view_name": "StyleView",
            "description_width": ""
          }
        },
        "04aa9f6f9db24f1b8b029b3a18f4dd52": {
          "model_module": "@jupyter-widgets/base",
          "model_name": "LayoutModel",
          "model_module_version": "1.2.0",
          "state": {
            "_model_module": "@jupyter-widgets/base",
            "_model_module_version": "1.2.0",
            "_model_name": "LayoutModel",
            "_view_count": null,
            "_view_module": "@jupyter-widgets/base",
            "_view_module_version": "1.2.0",
            "_view_name": "LayoutView",
            "align_content": null,
            "align_items": null,
            "align_self": null,
            "border": null,
            "bottom": null,
            "display": null,
            "flex": null,
            "flex_flow": null,
            "grid_area": null,
            "grid_auto_columns": null,
            "grid_auto_flow": null,
            "grid_auto_rows": null,
            "grid_column": null,
            "grid_gap": null,
            "grid_row": null,
            "grid_template_areas": null,
            "grid_template_columns": null,
            "grid_template_rows": null,
            "height": null,
            "justify_content": null,
            "justify_items": null,
            "left": null,
            "margin": null,
            "max_height": null,
            "max_width": null,
            "min_height": null,
            "min_width": null,
            "object_fit": null,
            "object_position": null,
            "order": null,
            "overflow": null,
            "overflow_x": null,
            "overflow_y": null,
            "padding": null,
            "right": null,
            "top": null,
            "visibility": null,
            "width": null
          }
        },
        "f4d1dcd144c04e4d89c98344485c383d": {
          "model_module": "@jupyter-widgets/controls",
          "model_name": "ProgressStyleModel",
          "model_module_version": "1.5.0",
          "state": {
            "_model_module": "@jupyter-widgets/controls",
            "_model_module_version": "1.5.0",
            "_model_name": "ProgressStyleModel",
            "_view_count": null,
            "_view_module": "@jupyter-widgets/base",
            "_view_module_version": "1.2.0",
            "_view_name": "StyleView",
            "bar_color": null,
            "description_width": ""
          }
        },
        "7c8c60268a6a4e2f83998c0797abbee2": {
          "model_module": "@jupyter-widgets/base",
          "model_name": "LayoutModel",
          "model_module_version": "1.2.0",
          "state": {
            "_model_module": "@jupyter-widgets/base",
            "_model_module_version": "1.2.0",
            "_model_name": "LayoutModel",
            "_view_count": null,
            "_view_module": "@jupyter-widgets/base",
            "_view_module_version": "1.2.0",
            "_view_name": "LayoutView",
            "align_content": null,
            "align_items": null,
            "align_self": null,
            "border": null,
            "bottom": null,
            "display": null,
            "flex": null,
            "flex_flow": null,
            "grid_area": null,
            "grid_auto_columns": null,
            "grid_auto_flow": null,
            "grid_auto_rows": null,
            "grid_column": null,
            "grid_gap": null,
            "grid_row": null,
            "grid_template_areas": null,
            "grid_template_columns": null,
            "grid_template_rows": null,
            "height": null,
            "justify_content": null,
            "justify_items": null,
            "left": null,
            "margin": null,
            "max_height": null,
            "max_width": null,
            "min_height": null,
            "min_width": null,
            "object_fit": null,
            "object_position": null,
            "order": null,
            "overflow": null,
            "overflow_x": null,
            "overflow_y": null,
            "padding": null,
            "right": null,
            "top": null,
            "visibility": null,
            "width": null
          }
        },
        "731b0623977d4b2da9164b33d8322458": {
          "model_module": "@jupyter-widgets/controls",
          "model_name": "DescriptionStyleModel",
          "model_module_version": "1.5.0",
          "state": {
            "_model_module": "@jupyter-widgets/controls",
            "_model_module_version": "1.5.0",
            "_model_name": "DescriptionStyleModel",
            "_view_count": null,
            "_view_module": "@jupyter-widgets/base",
            "_view_module_version": "1.2.0",
            "_view_name": "StyleView",
            "description_width": ""
          }
        }
      }
    },
    "accelerator": "TPU"
  },
  "cells": [
    {
      "cell_type": "code",
      "execution_count": 1,
      "metadata": {
        "id": "jwQcWwHHxKg9"
      },
      "outputs": [],
      "source": [
        "import numpy as np\n",
        "import pandas as pd\n",
        "import random\n",
        "from scipy.stats import norm\n",
        "from collections import deque, namedtuple\n",
        "\n",
        "import plotly.express as px\n",
        "import plotly.graph_objs as go\n",
        "\n",
        "import keras\n",
        "import tensorflow as tf\n",
        "from keras.models import Sequential\n",
        "from keras.layers import Dense\n",
        "from tqdm.auto import tqdm"
      ]
    },
    {
      "cell_type": "code",
      "source": [
        "###https://github.com/johntfoster/bspline\n",
        "!pip install bspline\n",
        "import bspline"
      ],
      "metadata": {
        "colab": {
          "base_uri": "https://localhost:8080/"
        },
        "id": "ZLW7ysx-unum",
        "outputId": "3465b853-ebaf-4254-d733-c51b426c55c6"
      },
      "execution_count": 2,
      "outputs": [
        {
          "output_type": "stream",
          "name": "stdout",
          "text": [
            "Collecting bspline\n",
            "  Downloading bspline-0.1.1.tar.gz (84 kB)\n",
            "\u001b[2K     \u001b[90m━━━━━━━━━━━━━━━━━━━━━━━━━━━━━━━━━━━━━━━━\u001b[0m \u001b[32m84.2/84.2 kB\u001b[0m \u001b[31m1.1 MB/s\u001b[0m eta \u001b[36m0:00:00\u001b[0m\n",
            "\u001b[?25h  Preparing metadata (setup.py) ... \u001b[?25l\u001b[?25hdone\n",
            "Requirement already satisfied: numpy in /usr/local/lib/python3.10/dist-packages (from bspline) (1.23.5)\n",
            "Building wheels for collected packages: bspline\n",
            "  Building wheel for bspline (setup.py) ... \u001b[?25l\u001b[?25hdone\n",
            "  Created wheel for bspline: filename=bspline-0.1.1-py3-none-any.whl size=84483 sha256=29b719f5c3f891e7d9feaab184926880f81059b31a825f1bdf1bac0aa398f048\n",
            "  Stored in directory: /root/.cache/pip/wheels/3c/ab/0a/70927853a6d9166bc777922736063a6f99c43a327c802f9326\n",
            "Successfully built bspline\n",
            "Installing collected packages: bspline\n",
            "Successfully installed bspline-0.1.1\n"
          ]
        }
      ]
    },
    {
      "cell_type": "code",
      "source": [
        "def terminal_payoff(st, k, exercise_type='c'):\n",
        "    '''\n",
        "    Calculate terminal payoff for a call/put option\n",
        "    Args:\n",
        "        st: final stock price\n",
        "        k: strike\n",
        "        exercise_type: 'c' for call and 'p' for put\n",
        "    Examples:\n",
        "        st_eg = np.linspace(1, 100, 100)\n",
        "        payoff_eg = terminal_payoff(st_eg, 50)\n",
        "        fig = px.scatter(x=st_eg, y=payoff_eg, title='Terminal Payoff w/ Stock Price for Call Option')\n",
        "        fig.show()\n",
        "    '''\n",
        "    return np.maximum(st - k, 0) if exercise_type == 'c' else np.maximum(k - st, 0)"
      ],
      "metadata": {
        "id": "C2Rk3qCrBjhQ"
      },
      "execution_count": 3,
      "outputs": []
    },
    {
      "cell_type": "code",
      "source": [
        "def delta_calc(s, k, maturity, r, sigma, exercise_type='c'):\n",
        "    '''\n",
        "    Calculate delta of a call/put option based on BSM formula, specifically N(d1)\n",
        "    Args:\n",
        "        ercise_type: 'c' for call and 'p' for put\n",
        "    Examples:\n",
        "        s_eg = np.linspace(1, 100, 100)\n",
        "        d_eg = delta_calc(s_eg, k=50, maturity=1.0, r=0.03, sigma=0.18)\n",
        "\n",
        "        fig = px.scatter(x=s_eg, y=d_eg, title='Delta w/ Stock Price for Call Option')\n",
        "        fig.show()\n",
        "    '''\n",
        "    d1 = (np.log(s / k) + (r + 0.5 * sigma ** 2) * maturity) / (sigma * np.sqrt(maturity))\n",
        "    if exercise_type == 'c':\n",
        "        delta_calc = norm.cdf(d1, loc=0, scale=1)\n",
        "    else:\n",
        "        delta_calc = -norm.cdf(-d1, loc=0, scale=1)\n",
        "    return delta_calc"
      ],
      "metadata": {
        "id": "yZFQZQSrBlQ5"
      },
      "execution_count": 4,
      "outputs": []
    },
    {
      "cell_type": "code",
      "source": [
        "def black_scholes(s, k, maturity, r, sigma, exercise_type='c'):\n",
        "    '''\n",
        "    Calculate price of a call/put option based on BSM formula\n",
        "    Args:\n",
        "        ercise_type: 'c' for call and 'p' for put\n",
        "    Examples:\n",
        "        s_eg = np.linspace(1, 100, 100)\n",
        "        p_eg = black_scholes(s_eg, k=50, maturity=1.0, r=0.03, sigma=0.18)\n",
        "\n",
        "        fig = px.scatter(x=s_eg, y=p_eg, title='Price w/ Stock Price for Call Option')\n",
        "        fig.show()\n",
        "    '''\n",
        "    d1 = (np.log(s / k) + (r + 0.5 * sigma ** 2) * maturity) / (sigma * np.sqrt(maturity))\n",
        "    d2 = d1 - sigma * np.sqrt(maturity)\n",
        "\n",
        "    if exercise_type == 'c':\n",
        "        price = s * norm.cdf(d1, loc=0, scale=1) - k * np.exp(-r * maturity) * norm.cdf(d2, loc=0, scale=1)\n",
        "    else:\n",
        "        price = k * np.exp(-r * maturity) * norm.cdf(-d2, loc=0, scale=1) - s * norm.cdf(-d1, loc=0, scale=1)\n",
        "    return price"
      ],
      "metadata": {
        "id": "_VOBJRnTBoo6"
      },
      "execution_count": 5,
      "outputs": []
    },
    {
      "cell_type": "code",
      "source": [
        "def show_sel_path(input_df, sel_path, value_name='Value'):\n",
        "    df = input_df.reset_index().rename(columns={'index':'path_id'})\n",
        "    df = df.melt(id_vars=['path_id'], value_vars=input_df.columns, var_name='Time Steps', value_name=value_name)\n",
        "\n",
        "    fig = px.line(df[df['path_id'].isin(sel_path)], x='Time Steps', y=value_name, color='path_id')\n",
        "    return fig"
      ],
      "metadata": {
        "id": "e2YzzYttdeOQ"
      },
      "execution_count": 6,
      "outputs": []
    },
    {
      "cell_type": "code",
      "source": [
        "np.random.seed(100)\n",
        "num_of_path = 2**14-1 # number of paths\n",
        "\n",
        "s0 = 100  # initial stock price\n",
        "mu = 0.05  # drift\n",
        "sigma = 0.15  # constant volatility\n",
        "r = 0.03  # interest rate\n",
        "expiry = 0.25  # expiry, 3-month\n",
        "num_of_timestep = 63  # number of time steps expiry*1/252\n",
        "delta_t = expiry / num_of_timestep  # time interval, daily 1/252\n",
        "strike = s0  # assume at-the-money option\n",
        "exercise_type = 'c' # 'c' for call option and 'p' for put option\n",
        "\n",
        "gamma = np.exp(- r * delta_t)  # discount factor\n",
        "risk_aversion = 0.1 # risk aversion  \\kappa\n",
        "risk_lambda = risk_aversion / 2.0 # 0.001  #\\lambda\n",
        "\n",
        "data_cutoff = int(num_of_path * 0.7) #split data into training and test"
      ],
      "metadata": {
        "id": "SZCpx6_PxQBq"
      },
      "execution_count": 7,
      "outputs": []
    },
    {
      "cell_type": "code",
      "source": [
        "# standard normal random variable Z\n",
        "rand_number = pd.DataFrame(np.random.randn(num_of_path, num_of_timestep), index=range(1, num_of_path + 1),\n",
        "                           columns=range(1, num_of_timestep + 1))\n",
        "\n",
        "# stock price, rows are MC paths, columns are time steps\n",
        "spot_df = pd.DataFrame([], index=range(1, num_of_path + 1), columns=range(num_of_timestep + 1))\n",
        "spot_df[0] = s0\n",
        "for t in range(1, num_of_timestep + 1):\n",
        "    spot_df[t] = spot_df[t - 1] * np.exp((mu - 0.5 * sigma**2) * delta_t + sigma * np.sqrt(delta_t) * rand_number[t])"
      ],
      "metadata": {
        "id": "UONWJ63fYUIY"
      },
      "execution_count": 8,
      "outputs": []
    },
    {
      "cell_type": "code",
      "source": [
        "delta_df = pd.DataFrame([], index=range(1, num_of_path + 1), columns=range(num_of_timestep + 1))\n",
        "for t in range(num_of_timestep + 1):\n",
        "    delta_df.loc[:,t] = delta_calc(spot_df.loc[:,t], strike, expiry - delta_t * t, r, sigma, exercise_type)"
      ],
      "metadata": {
        "colab": {
          "base_uri": "https://localhost:8080/"
        },
        "id": "QjVmYrUyCsJy",
        "outputId": "193adb5c-5b24-44ec-aa9b-3c0cc96bac0a"
      },
      "execution_count": 9,
      "outputs": [
        {
          "output_type": "stream",
          "name": "stderr",
          "text": [
            "<ipython-input-9-c360fc2313dc>:3: DeprecationWarning: In a future version, `df.iloc[:, i] = newvals` will attempt to set the values inplace instead of always setting a new array. To retain the old behavior, use either `df[df.columns[i]] = newvals` or, if columns are non-unique, `df.isetitem(i, newvals)`\n",
            "  delta_df.loc[:,t] = delta_calc(spot_df.loc[:,t], strike, expiry - delta_t * t, r, sigma, exercise_type)\n"
          ]
        }
      ]
    },
    {
      "cell_type": "code",
      "source": [
        "option_value_df = pd.DataFrame([], index=range(1, num_of_path + 1), columns=range(num_of_timestep + 1))\n",
        "for t in range(num_of_timestep):\n",
        "    option_value_df.loc[:,t] = black_scholes(spot_df.loc[:,t], strike, expiry - delta_t * t, r, sigma, exercise_type)\n",
        "option_value_df.iloc[:,-1] = terminal_payoff(spot_df.iloc[:,-1], strike, exercise_type)"
      ],
      "metadata": {
        "colab": {
          "base_uri": "https://localhost:8080/"
        },
        "id": "aE8tdVNXKdKv",
        "outputId": "44d9054c-0b1c-4e64-9b3c-b19a7b950df8"
      },
      "execution_count": 10,
      "outputs": [
        {
          "output_type": "stream",
          "name": "stderr",
          "text": [
            "<ipython-input-10-4ac0524e3e4a>:3: DeprecationWarning: In a future version, `df.iloc[:, i] = newvals` will attempt to set the values inplace instead of always setting a new array. To retain the old behavior, use either `df[df.columns[i]] = newvals` or, if columns are non-unique, `df.isetitem(i, newvals)`\n",
            "  option_value_df.loc[:,t] = black_scholes(spot_df.loc[:,t], strike, expiry - delta_t * t, r, sigma, exercise_type)\n",
            "<ipython-input-10-4ac0524e3e4a>:4: DeprecationWarning: In a future version, `df.iloc[:, i] = newvals` will attempt to set the values inplace instead of always setting a new array. To retain the old behavior, use either `df[df.columns[i]] = newvals` or, if columns are non-unique, `df.isetitem(i, newvals)`\n",
            "  option_value_df.iloc[:,-1] = terminal_payoff(spot_df.iloc[:,-1], strike, exercise_type)\n"
          ]
        }
      ]
    },
    {
      "cell_type": "code",
      "source": [
        "sel_path = np.random.choice(num_of_path, 5)\n",
        "display(show_sel_path(spot_df, sel_path, 'Spot'))\n",
        "display(show_sel_path(delta_df, sel_path, 'Delta'))\n",
        "display(show_sel_path(option_value_df, sel_path, 'Option Value'))"
      ],
      "metadata": {
        "colab": {
          "base_uri": "https://localhost:8080/",
          "height": 1000
        },
        "id": "d8vSTkcRxTqT",
        "outputId": "302c38e5-1ef6-48fc-9731-d28a72c96b93"
      },
      "execution_count": 11,
      "outputs": [
        {
          "output_type": "display_data",
          "data": {
            "text/html": [
              "<html>\n",
              "<head><meta charset=\"utf-8\" /></head>\n",
              "<body>\n",
              "    <div>            <script src=\"https://cdnjs.cloudflare.com/ajax/libs/mathjax/2.7.5/MathJax.js?config=TeX-AMS-MML_SVG\"></script><script type=\"text/javascript\">if (window.MathJax && window.MathJax.Hub && window.MathJax.Hub.Config) {window.MathJax.Hub.Config({SVG: {font: \"STIX-Web\"}});}</script>                <script type=\"text/javascript\">window.PlotlyConfig = {MathJaxConfig: 'local'};</script>\n",
              "        <script charset=\"utf-8\" src=\"https://cdn.plot.ly/plotly-2.24.1.min.js\"></script>                <div id=\"bd13f7ad-dcc1-453b-858c-437cb065eef3\" class=\"plotly-graph-div\" style=\"height:525px; width:100%;\"></div>            <script type=\"text/javascript\">                                    window.PLOTLYENV=window.PLOTLYENV || {};                                    if (document.getElementById(\"bd13f7ad-dcc1-453b-858c-437cb065eef3\")) {                    Plotly.newPlot(                        \"bd13f7ad-dcc1-453b-858c-437cb065eef3\",                        [{\"hovertemplate\":\"path_id=152\\u003cbr\\u003eTime Steps=%{x}\\u003cbr\\u003eSpot=%{y}\\u003cextra\\u003e\\u003c\\u002fextra\\u003e\",\"legendgroup\":\"152\",\"line\":{\"color\":\"#636efa\",\"dash\":\"solid\"},\"marker\":{\"symbol\":\"circle\"},\"mode\":\"lines\",\"name\":\"152\",\"orientation\":\"v\",\"showlegend\":true,\"x\":[0,1,2,3,4,5,6,7,8,9,10,11,12,13,14,15,16,17,18,19,20,21,22,23,24,25,26,27,28,29,30,31,32,33,34,35,36,37,38,39,40,41,42,43,44,45,46,47,48,49,50,51,52,53,54,55,56,57,58,59,60,61,62,63],\"xaxis\":\"x\",\"y\":[100.0,99.29795942303686,100.80730788628095,100.38451035368543,101.60962791190677,102.58219794656432,102.8048782783548,102.40821981011854,103.8667669298191,105.12184631141741,107.32997650101152,106.86814594615569,105.9093664765835,106.90045091459146,105.878162142271,104.06340378023458,104.84870657946244,104.47448160006684,103.88869534408974,105.39802482906403,105.624870149486,105.4119986936237,106.85238188460414,106.50469560189798,108.46876101414276,106.42168877217551,105.81125708741715,107.07438543711298,105.86565477646569,107.78684152411061,107.72661504322807,107.80955237425565,105.90131821818768,107.20804163460691,105.23754377729378,106.76862257770114,107.76472521414976,107.22017918681622,106.92544394071348,108.18836067513782,108.04608906507086,108.94657408572593,109.8428218404146,109.06677496207354,109.511369078314,109.14011581770585,108.20301832983122,107.42621941905239,106.78070159511387,106.02424601550007,105.0729120928427,105.40168208657754,104.69784578018765,103.54591363502936,101.98077989519709,102.79093620509728,102.52690996779526,102.43540736712855,102.77107541372732,101.20112437007016,99.58014592658232,99.80460580578826,100.79178907345212,100.66587776088251],\"yaxis\":\"y\",\"type\":\"scatter\"},{\"hovertemplate\":\"path_id=2029\\u003cbr\\u003eTime Steps=%{x}\\u003cbr\\u003eSpot=%{y}\\u003cextra\\u003e\\u003c\\u002fextra\\u003e\",\"legendgroup\":\"2029\",\"line\":{\"color\":\"#EF553B\",\"dash\":\"solid\"},\"marker\":{\"symbol\":\"circle\"},\"mode\":\"lines\",\"name\":\"2029\",\"orientation\":\"v\",\"showlegend\":true,\"x\":[0,1,2,3,4,5,6,7,8,9,10,11,12,13,14,15,16,17,18,19,20,21,22,23,24,25,26,27,28,29,30,31,32,33,34,35,36,37,38,39,40,41,42,43,44,45,46,47,48,49,50,51,52,53,54,55,56,57,58,59,60,61,62,63],\"xaxis\":\"x\",\"y\":[100.0,99.51350345424481,99.63492834829452,100.68347180905891,99.77712186396188,98.89564761461509,99.49432092055805,99.02400837423404,98.47299570209125,98.02135740776396,97.68084888661197,96.95921557180004,96.8770872764474,96.71392680235252,98.39961844210232,99.66322035321203,99.28126506898548,99.25412788275906,98.19176074861626,97.30116590098478,98.30378302903955,98.13247955636346,98.46606167087052,96.89762021941519,98.29702361009181,98.1609424106177,97.240460390373,96.97397169117207,97.30425509348674,97.22052849608389,97.90825154239228,99.18310637182508,99.71184597071131,99.7279427552827,99.41457537674556,100.40132019453647,100.67976515058456,101.74376898050534,101.31077104941588,100.95989496675702,101.68227408917076,100.34771641528891,99.48398185045733,97.15576494102552,96.18731122612067,97.13552829567338,96.85823710834168,96.95275905122324,99.45618919525354,99.74549677262664,99.5544338937927,100.10302772758077,101.11930377746427,100.92210680410099,100.45672574184212,102.07712262776998,102.61354778368558,103.40441965529322,102.42809972784691,101.79134314202508,102.26862964041895,101.46752968876861,100.80435062748212,100.06844832925124],\"yaxis\":\"y\",\"type\":\"scatter\"},{\"hovertemplate\":\"path_id=6221\\u003cbr\\u003eTime Steps=%{x}\\u003cbr\\u003eSpot=%{y}\\u003cextra\\u003e\\u003c\\u002fextra\\u003e\",\"legendgroup\":\"6221\",\"line\":{\"color\":\"#00cc96\",\"dash\":\"solid\"},\"marker\":{\"symbol\":\"circle\"},\"mode\":\"lines\",\"name\":\"6221\",\"orientation\":\"v\",\"showlegend\":true,\"x\":[0,1,2,3,4,5,6,7,8,9,10,11,12,13,14,15,16,17,18,19,20,21,22,23,24,25,26,27,28,29,30,31,32,33,34,35,36,37,38,39,40,41,42,43,44,45,46,47,48,49,50,51,52,53,54,55,56,57,58,59,60,61,62,63],\"xaxis\":\"x\",\"y\":[100.0,100.66633999802845,99.27982946555599,99.54547095892866,100.49266315325382,100.47696497299806,101.32745113501973,101.54075671854714,102.24541813171193,101.96565890870633,101.98637436866527,104.46393996770236,104.40635453611333,103.20962087370293,102.99222670790839,103.1085443486582,103.89435660238576,104.04432211625797,102.73086019527251,103.92607849389267,103.56775714369931,103.87555460914609,102.9665435549109,104.8001265359955,105.51723433433148,105.32904514419974,105.77706769507374,106.24287239255456,106.01462364999854,106.94089482012677,107.21880189027529,107.25564896026967,108.13759626454033,107.02805481641434,106.41924442866188,106.89770725922924,106.93204233642469,108.11880588347046,107.09578367433805,106.82406576544017,105.41879057421419,104.4208046582292,103.94836248999579,103.26486454300843,103.3291626133967,103.81863089478298,102.85491925147177,104.05651600460835,106.34414041683235,106.28102980575366,105.96409094860705,106.33618180423517,106.75980807060859,106.30746563787162,106.85661790316092,107.80320210190479,108.23701956286703,107.55152928407412,107.57305486895,107.4780331573917,108.3981726757315,109.27145012948249,109.46312061276734,109.04662528925289],\"yaxis\":\"y\",\"type\":\"scatter\"},{\"hovertemplate\":\"path_id=6616\\u003cbr\\u003eTime Steps=%{x}\\u003cbr\\u003eSpot=%{y}\\u003cextra\\u003e\\u003c\\u002fextra\\u003e\",\"legendgroup\":\"6616\",\"line\":{\"color\":\"#ab63fa\",\"dash\":\"solid\"},\"marker\":{\"symbol\":\"circle\"},\"mode\":\"lines\",\"name\":\"6616\",\"orientation\":\"v\",\"showlegend\":true,\"x\":[0,1,2,3,4,5,6,7,8,9,10,11,12,13,14,15,16,17,18,19,20,21,22,23,24,25,26,27,28,29,30,31,32,33,34,35,36,37,38,39,40,41,42,43,44,45,46,47,48,49,50,51,52,53,54,55,56,57,58,59,60,61,62,63],\"xaxis\":\"x\",\"y\":[100.0,100.92895054435877,101.88935141372211,101.07873077988059,100.90043581312442,100.61242872835517,100.31671765146004,100.6251307494917,101.66969348720019,101.65559070313681,101.43993989799489,101.47955273704764,101.45461989825142,100.49505276208328,102.05890221420366,102.09392722132698,103.10714998559364,104.68137023624624,104.65211340380111,105.10594380465412,107.21387588056052,106.63590115718085,107.80665103626725,107.17927396246014,108.68586939594557,107.89862650815768,106.42870042014293,106.36065407409471,106.97353370096421,107.83048121887363,106.99973037166619,106.11614628484911,105.52661769902019,107.57608700490347,108.79541101030806,108.90718824303298,110.51212433801899,109.20418857227143,109.92806194863313,110.65009948323986,111.13195592610467,111.72881407736753,111.54076692179599,110.8870830696695,110.42589068389867,111.5073616087043,111.42344848254119,108.51150188202239,107.1890312935182,107.99595562162455,108.47029898444514,107.27470452861502,107.18086063437802,106.31410132489572,107.74402298955263,108.51174590572997,107.88877363975624,109.04137759860943,108.8932059518844,108.47953426045743,108.50609209911728,108.18457446968318,107.68922830780147,107.08003409171765],\"yaxis\":\"y\",\"type\":\"scatter\"},{\"hovertemplate\":\"path_id=10000\\u003cbr\\u003eTime Steps=%{x}\\u003cbr\\u003eSpot=%{y}\\u003cextra\\u003e\\u003c\\u002fextra\\u003e\",\"legendgroup\":\"10000\",\"line\":{\"color\":\"#FFA15A\",\"dash\":\"solid\"},\"marker\":{\"symbol\":\"circle\"},\"mode\":\"lines\",\"name\":\"10000\",\"orientation\":\"v\",\"showlegend\":true,\"x\":[0,1,2,3,4,5,6,7,8,9,10,11,12,13,14,15,16,17,18,19,20,21,22,23,24,25,26,27,28,29,30,31,32,33,34,35,36,37,38,39,40,41,42,43,44,45,46,47,48,49,50,51,52,53,54,55,56,57,58,59,60,61,62,63],\"xaxis\":\"x\",\"y\":[100.0,99.18071361139279,100.64108492238095,101.97183261357023,101.89013289611009,102.70371404296115,104.0389855042403,104.8862815988754,105.15267332803549,106.11525524185993,107.12312174112769,106.9806242876394,109.22455567163516,107.38917407667941,108.59064517514015,107.46635416823237,107.42658743053889,109.02159309117346,107.02423524249436,106.11708789959653,106.98538046600393,106.44699461963361,104.0814668814579,103.10736477342185,101.70961523635175,101.36074995484775,100.591535616417,99.94395840068559,100.61376500695923,100.68051838201983,100.57509873410056,101.65163420805708,100.7380627578589,103.83555905326601,103.61710621782456,105.37408460956968,105.52327583193836,106.41789695248386,106.0995820599493,106.35337286570245,107.08282600192715,106.92283835109761,107.0268506127659,105.584249308113,104.57736395668798,103.86008808611062,103.63155143104011,105.34128154733463,105.9712226676975,105.0349560936041,105.41377284119642,106.85283650442571,107.41975545569147,108.6348228250258,108.56587422476122,106.40830966269161,105.7110782028087,105.9840738403942,105.3100654467247,104.63356265157638,103.95310959433142,102.56011567721187,103.034987090546,104.29544726289576],\"yaxis\":\"y\",\"type\":\"scatter\"}],                        {\"template\":{\"data\":{\"histogram2dcontour\":[{\"type\":\"histogram2dcontour\",\"colorbar\":{\"outlinewidth\":0,\"ticks\":\"\"},\"colorscale\":[[0.0,\"#0d0887\"],[0.1111111111111111,\"#46039f\"],[0.2222222222222222,\"#7201a8\"],[0.3333333333333333,\"#9c179e\"],[0.4444444444444444,\"#bd3786\"],[0.5555555555555556,\"#d8576b\"],[0.6666666666666666,\"#ed7953\"],[0.7777777777777778,\"#fb9f3a\"],[0.8888888888888888,\"#fdca26\"],[1.0,\"#f0f921\"]]}],\"choropleth\":[{\"type\":\"choropleth\",\"colorbar\":{\"outlinewidth\":0,\"ticks\":\"\"}}],\"histogram2d\":[{\"type\":\"histogram2d\",\"colorbar\":{\"outlinewidth\":0,\"ticks\":\"\"},\"colorscale\":[[0.0,\"#0d0887\"],[0.1111111111111111,\"#46039f\"],[0.2222222222222222,\"#7201a8\"],[0.3333333333333333,\"#9c179e\"],[0.4444444444444444,\"#bd3786\"],[0.5555555555555556,\"#d8576b\"],[0.6666666666666666,\"#ed7953\"],[0.7777777777777778,\"#fb9f3a\"],[0.8888888888888888,\"#fdca26\"],[1.0,\"#f0f921\"]]}],\"heatmap\":[{\"type\":\"heatmap\",\"colorbar\":{\"outlinewidth\":0,\"ticks\":\"\"},\"colorscale\":[[0.0,\"#0d0887\"],[0.1111111111111111,\"#46039f\"],[0.2222222222222222,\"#7201a8\"],[0.3333333333333333,\"#9c179e\"],[0.4444444444444444,\"#bd3786\"],[0.5555555555555556,\"#d8576b\"],[0.6666666666666666,\"#ed7953\"],[0.7777777777777778,\"#fb9f3a\"],[0.8888888888888888,\"#fdca26\"],[1.0,\"#f0f921\"]]}],\"heatmapgl\":[{\"type\":\"heatmapgl\",\"colorbar\":{\"outlinewidth\":0,\"ticks\":\"\"},\"colorscale\":[[0.0,\"#0d0887\"],[0.1111111111111111,\"#46039f\"],[0.2222222222222222,\"#7201a8\"],[0.3333333333333333,\"#9c179e\"],[0.4444444444444444,\"#bd3786\"],[0.5555555555555556,\"#d8576b\"],[0.6666666666666666,\"#ed7953\"],[0.7777777777777778,\"#fb9f3a\"],[0.8888888888888888,\"#fdca26\"],[1.0,\"#f0f921\"]]}],\"contourcarpet\":[{\"type\":\"contourcarpet\",\"colorbar\":{\"outlinewidth\":0,\"ticks\":\"\"}}],\"contour\":[{\"type\":\"contour\",\"colorbar\":{\"outlinewidth\":0,\"ticks\":\"\"},\"colorscale\":[[0.0,\"#0d0887\"],[0.1111111111111111,\"#46039f\"],[0.2222222222222222,\"#7201a8\"],[0.3333333333333333,\"#9c179e\"],[0.4444444444444444,\"#bd3786\"],[0.5555555555555556,\"#d8576b\"],[0.6666666666666666,\"#ed7953\"],[0.7777777777777778,\"#fb9f3a\"],[0.8888888888888888,\"#fdca26\"],[1.0,\"#f0f921\"]]}],\"surface\":[{\"type\":\"surface\",\"colorbar\":{\"outlinewidth\":0,\"ticks\":\"\"},\"colorscale\":[[0.0,\"#0d0887\"],[0.1111111111111111,\"#46039f\"],[0.2222222222222222,\"#7201a8\"],[0.3333333333333333,\"#9c179e\"],[0.4444444444444444,\"#bd3786\"],[0.5555555555555556,\"#d8576b\"],[0.6666666666666666,\"#ed7953\"],[0.7777777777777778,\"#fb9f3a\"],[0.8888888888888888,\"#fdca26\"],[1.0,\"#f0f921\"]]}],\"mesh3d\":[{\"type\":\"mesh3d\",\"colorbar\":{\"outlinewidth\":0,\"ticks\":\"\"}}],\"scatter\":[{\"fillpattern\":{\"fillmode\":\"overlay\",\"size\":10,\"solidity\":0.2},\"type\":\"scatter\"}],\"parcoords\":[{\"type\":\"parcoords\",\"line\":{\"colorbar\":{\"outlinewidth\":0,\"ticks\":\"\"}}}],\"scatterpolargl\":[{\"type\":\"scatterpolargl\",\"marker\":{\"colorbar\":{\"outlinewidth\":0,\"ticks\":\"\"}}}],\"bar\":[{\"error_x\":{\"color\":\"#2a3f5f\"},\"error_y\":{\"color\":\"#2a3f5f\"},\"marker\":{\"line\":{\"color\":\"#E5ECF6\",\"width\":0.5},\"pattern\":{\"fillmode\":\"overlay\",\"size\":10,\"solidity\":0.2}},\"type\":\"bar\"}],\"scattergeo\":[{\"type\":\"scattergeo\",\"marker\":{\"colorbar\":{\"outlinewidth\":0,\"ticks\":\"\"}}}],\"scatterpolar\":[{\"type\":\"scatterpolar\",\"marker\":{\"colorbar\":{\"outlinewidth\":0,\"ticks\":\"\"}}}],\"histogram\":[{\"marker\":{\"pattern\":{\"fillmode\":\"overlay\",\"size\":10,\"solidity\":0.2}},\"type\":\"histogram\"}],\"scattergl\":[{\"type\":\"scattergl\",\"marker\":{\"colorbar\":{\"outlinewidth\":0,\"ticks\":\"\"}}}],\"scatter3d\":[{\"type\":\"scatter3d\",\"line\":{\"colorbar\":{\"outlinewidth\":0,\"ticks\":\"\"}},\"marker\":{\"colorbar\":{\"outlinewidth\":0,\"ticks\":\"\"}}}],\"scattermapbox\":[{\"type\":\"scattermapbox\",\"marker\":{\"colorbar\":{\"outlinewidth\":0,\"ticks\":\"\"}}}],\"scatterternary\":[{\"type\":\"scatterternary\",\"marker\":{\"colorbar\":{\"outlinewidth\":0,\"ticks\":\"\"}}}],\"scattercarpet\":[{\"type\":\"scattercarpet\",\"marker\":{\"colorbar\":{\"outlinewidth\":0,\"ticks\":\"\"}}}],\"carpet\":[{\"aaxis\":{\"endlinecolor\":\"#2a3f5f\",\"gridcolor\":\"white\",\"linecolor\":\"white\",\"minorgridcolor\":\"white\",\"startlinecolor\":\"#2a3f5f\"},\"baxis\":{\"endlinecolor\":\"#2a3f5f\",\"gridcolor\":\"white\",\"linecolor\":\"white\",\"minorgridcolor\":\"white\",\"startlinecolor\":\"#2a3f5f\"},\"type\":\"carpet\"}],\"table\":[{\"cells\":{\"fill\":{\"color\":\"#EBF0F8\"},\"line\":{\"color\":\"white\"}},\"header\":{\"fill\":{\"color\":\"#C8D4E3\"},\"line\":{\"color\":\"white\"}},\"type\":\"table\"}],\"barpolar\":[{\"marker\":{\"line\":{\"color\":\"#E5ECF6\",\"width\":0.5},\"pattern\":{\"fillmode\":\"overlay\",\"size\":10,\"solidity\":0.2}},\"type\":\"barpolar\"}],\"pie\":[{\"automargin\":true,\"type\":\"pie\"}]},\"layout\":{\"autotypenumbers\":\"strict\",\"colorway\":[\"#636efa\",\"#EF553B\",\"#00cc96\",\"#ab63fa\",\"#FFA15A\",\"#19d3f3\",\"#FF6692\",\"#B6E880\",\"#FF97FF\",\"#FECB52\"],\"font\":{\"color\":\"#2a3f5f\"},\"hovermode\":\"closest\",\"hoverlabel\":{\"align\":\"left\"},\"paper_bgcolor\":\"white\",\"plot_bgcolor\":\"#E5ECF6\",\"polar\":{\"bgcolor\":\"#E5ECF6\",\"angularaxis\":{\"gridcolor\":\"white\",\"linecolor\":\"white\",\"ticks\":\"\"},\"radialaxis\":{\"gridcolor\":\"white\",\"linecolor\":\"white\",\"ticks\":\"\"}},\"ternary\":{\"bgcolor\":\"#E5ECF6\",\"aaxis\":{\"gridcolor\":\"white\",\"linecolor\":\"white\",\"ticks\":\"\"},\"baxis\":{\"gridcolor\":\"white\",\"linecolor\":\"white\",\"ticks\":\"\"},\"caxis\":{\"gridcolor\":\"white\",\"linecolor\":\"white\",\"ticks\":\"\"}},\"coloraxis\":{\"colorbar\":{\"outlinewidth\":0,\"ticks\":\"\"}},\"colorscale\":{\"sequential\":[[0.0,\"#0d0887\"],[0.1111111111111111,\"#46039f\"],[0.2222222222222222,\"#7201a8\"],[0.3333333333333333,\"#9c179e\"],[0.4444444444444444,\"#bd3786\"],[0.5555555555555556,\"#d8576b\"],[0.6666666666666666,\"#ed7953\"],[0.7777777777777778,\"#fb9f3a\"],[0.8888888888888888,\"#fdca26\"],[1.0,\"#f0f921\"]],\"sequentialminus\":[[0.0,\"#0d0887\"],[0.1111111111111111,\"#46039f\"],[0.2222222222222222,\"#7201a8\"],[0.3333333333333333,\"#9c179e\"],[0.4444444444444444,\"#bd3786\"],[0.5555555555555556,\"#d8576b\"],[0.6666666666666666,\"#ed7953\"],[0.7777777777777778,\"#fb9f3a\"],[0.8888888888888888,\"#fdca26\"],[1.0,\"#f0f921\"]],\"diverging\":[[0,\"#8e0152\"],[0.1,\"#c51b7d\"],[0.2,\"#de77ae\"],[0.3,\"#f1b6da\"],[0.4,\"#fde0ef\"],[0.5,\"#f7f7f7\"],[0.6,\"#e6f5d0\"],[0.7,\"#b8e186\"],[0.8,\"#7fbc41\"],[0.9,\"#4d9221\"],[1,\"#276419\"]]},\"xaxis\":{\"gridcolor\":\"white\",\"linecolor\":\"white\",\"ticks\":\"\",\"title\":{\"standoff\":15},\"zerolinecolor\":\"white\",\"automargin\":true,\"zerolinewidth\":2},\"yaxis\":{\"gridcolor\":\"white\",\"linecolor\":\"white\",\"ticks\":\"\",\"title\":{\"standoff\":15},\"zerolinecolor\":\"white\",\"automargin\":true,\"zerolinewidth\":2},\"scene\":{\"xaxis\":{\"backgroundcolor\":\"#E5ECF6\",\"gridcolor\":\"white\",\"linecolor\":\"white\",\"showbackground\":true,\"ticks\":\"\",\"zerolinecolor\":\"white\",\"gridwidth\":2},\"yaxis\":{\"backgroundcolor\":\"#E5ECF6\",\"gridcolor\":\"white\",\"linecolor\":\"white\",\"showbackground\":true,\"ticks\":\"\",\"zerolinecolor\":\"white\",\"gridwidth\":2},\"zaxis\":{\"backgroundcolor\":\"#E5ECF6\",\"gridcolor\":\"white\",\"linecolor\":\"white\",\"showbackground\":true,\"ticks\":\"\",\"zerolinecolor\":\"white\",\"gridwidth\":2}},\"shapedefaults\":{\"line\":{\"color\":\"#2a3f5f\"}},\"annotationdefaults\":{\"arrowcolor\":\"#2a3f5f\",\"arrowhead\":0,\"arrowwidth\":1},\"geo\":{\"bgcolor\":\"white\",\"landcolor\":\"#E5ECF6\",\"subunitcolor\":\"white\",\"showland\":true,\"showlakes\":true,\"lakecolor\":\"white\"},\"title\":{\"x\":0.05},\"mapbox\":{\"style\":\"light\"}}},\"xaxis\":{\"anchor\":\"y\",\"domain\":[0.0,1.0],\"title\":{\"text\":\"Time Steps\"}},\"yaxis\":{\"anchor\":\"x\",\"domain\":[0.0,1.0],\"title\":{\"text\":\"Spot\"}},\"legend\":{\"title\":{\"text\":\"path_id\"},\"tracegroupgap\":0},\"margin\":{\"t\":60}},                        {\"responsive\": true}                    ).then(function(){\n",
              "                            \n",
              "var gd = document.getElementById('bd13f7ad-dcc1-453b-858c-437cb065eef3');\n",
              "var x = new MutationObserver(function (mutations, observer) {{\n",
              "        var display = window.getComputedStyle(gd).display;\n",
              "        if (!display || display === 'none') {{\n",
              "            console.log([gd, 'removed!']);\n",
              "            Plotly.purge(gd);\n",
              "            observer.disconnect();\n",
              "        }}\n",
              "}});\n",
              "\n",
              "// Listen for the removal of the full notebook cells\n",
              "var notebookContainer = gd.closest('#notebook-container');\n",
              "if (notebookContainer) {{\n",
              "    x.observe(notebookContainer, {childList: true});\n",
              "}}\n",
              "\n",
              "// Listen for the clearing of the current output cell\n",
              "var outputEl = gd.closest('.output');\n",
              "if (outputEl) {{\n",
              "    x.observe(outputEl, {childList: true});\n",
              "}}\n",
              "\n",
              "                        })                };                            </script>        </div>\n",
              "</body>\n",
              "</html>"
            ]
          },
          "metadata": {}
        },
        {
          "output_type": "display_data",
          "data": {
            "text/html": [
              "<html>\n",
              "<head><meta charset=\"utf-8\" /></head>\n",
              "<body>\n",
              "    <div>            <script src=\"https://cdnjs.cloudflare.com/ajax/libs/mathjax/2.7.5/MathJax.js?config=TeX-AMS-MML_SVG\"></script><script type=\"text/javascript\">if (window.MathJax && window.MathJax.Hub && window.MathJax.Hub.Config) {window.MathJax.Hub.Config({SVG: {font: \"STIX-Web\"}});}</script>                <script type=\"text/javascript\">window.PlotlyConfig = {MathJaxConfig: 'local'};</script>\n",
              "        <script charset=\"utf-8\" src=\"https://cdn.plot.ly/plotly-2.24.1.min.js\"></script>                <div id=\"6e333b5c-8e61-49f7-8dc5-1ee6786960b9\" class=\"plotly-graph-div\" style=\"height:525px; width:100%;\"></div>            <script type=\"text/javascript\">                                    window.PLOTLYENV=window.PLOTLYENV || {};                                    if (document.getElementById(\"6e333b5c-8e61-49f7-8dc5-1ee6786960b9\")) {                    Plotly.newPlot(                        \"6e333b5c-8e61-49f7-8dc5-1ee6786960b9\",                        [{\"hovertemplate\":\"path_id=152\\u003cbr\\u003eTime Steps=%{x}\\u003cbr\\u003eDelta=%{y}\\u003cextra\\u003e\\u003c\\u002fextra\\u003e\",\"legendgroup\":\"152\",\"line\":{\"color\":\"#636efa\",\"dash\":\"solid\"},\"marker\":{\"symbol\":\"circle\"},\"mode\":\"lines\",\"name\":\"152\",\"orientation\":\"v\",\"showlegend\":true,\"x\":[0,1,2,3,4,5,6,7,8,9,10,11,12,13,14,15,16,17,18,19,20,21,22,23,24,25,26,27,28,29,30,31,32,33,34,35,36,37,38,39,40,41,42,43,44,45,46,47,48,49,50,51,52,53,54,55,56,57,58,59,60,61,62,63],\"xaxis\":\"x\",\"y\":[0.5546822036275671,0.5166367810798489,0.5964822047274827,0.5740205643130253,0.6379821387121293,0.6865883181389288,0.6979628031940782,0.6794544296946766,0.7485280445670333,0.8014080903387872,0.8758365209083159,0.8642864442926717,0.8351043304873793,0.8688955977941852,0.8376435537924168,0.7668265955746836,0.8022465468351171,0.7882929572216859,0.763642842862214,0.8298813519509536,0.840563987247572,0.8347129814763017,0.8861606062262628,0.8778022419788383,0.9313325681587722,0.880063661805126,0.8617355544526201,0.9048317610264693,0.8690997960263229,0.9281259152734909,0.9293068557795601,0.93381040161768,0.882248707867548,0.9250244970916209,0.8635765429408175,0.9194743736378427,0.9466346255860649,0.9376388868570925,0.9336999449717855,0.9628741239864077,0.9633374175227659,0.9780279163336933,0.987694598958665,0.9834678500382315,0.9887394945238154,0.9879393235447617,0.9819159543522066,0.975267030415422,0.9685443893020933,0.9572274552211756,0.9351040435740218,0.9522650007756116,0.936038433038346,0.8889410857778087,0.7715294693845196,0.8596980441310836,0.8517660746527338,0.8603828651867624,0.9086365728775159,0.7474335426790658,0.41018459149161096,0.45150347531133633,0.8028857857059947,1.0],\"yaxis\":\"y\",\"type\":\"scatter\"},{\"hovertemplate\":\"path_id=2029\\u003cbr\\u003eTime Steps=%{x}\\u003cbr\\u003eDelta=%{y}\\u003cextra\\u003e\\u003c\\u002fextra\\u003e\",\"legendgroup\":\"2029\",\"line\":{\"color\":\"#EF553B\",\"dash\":\"solid\"},\"marker\":{\"symbol\":\"circle\"},\"mode\":\"lines\",\"name\":\"2029\",\"orientation\":\"v\",\"showlegend\":true,\"x\":[0,1,2,3,4,5,6,7,8,9,10,11,12,13,14,15,16,17,18,19,20,21,22,23,24,25,26,27,28,29,30,31,32,33,34,35,36,37,38,39,40,41,42,43,44,45,46,47,48,49,50,51,52,53,54,55,56,57,58,59,60,61,62,63],\"xaxis\":\"x\",\"y\":[0.5546822036275671,0.5282444419783242,0.5341640784746707,0.5898847883785395,0.5407491143682609,0.4910702412977036,0.5238126811599656,0.4963825237563979,0.4637015410772319,0.43623820457088763,0.4148887740680291,0.3713536568511149,0.3644998374346018,0.3528706202463529,0.45119278041694166,0.5273018427178251,0.5029569418389113,0.5002682069514456,0.43184704005735275,0.3738809749009699,0.4354550191338026,0.4224694072320691,0.44252584811911766,0.3380510689359678,0.42744064770495444,0.4161009279617293,0.3514200593527935,0.33067745612417165,0.34961424812235486,0.34068383727777674,0.38593578132901557,0.47788653514105756,0.5165920545922676,0.5168486739392085,0.4911851384078453,0.5681908546471106,0.5901746371655383,0.6726100586321493,0.6414182285849817,0.6145657140324645,0.6740848520103273,0.5633913281525124,0.48400982832192063,0.27247201156855405,0.19261959531383188,0.25737436146374487,0.22725201539542034,0.2267870249504751,0.46735922612596625,0.49710449494634107,0.47264828665782677,0.5364401137066276,0.6600608782961327,0.6413102222864616,0.5842277053981453,0.7933854959719807,0.8594439897258008,0.931733604569738,0.8798411118302558,0.8350080991998596,0.9193437648241325,0.8675142270493359,0.8065252839916104,1.0],\"yaxis\":\"y\",\"type\":\"scatter\"},{\"hovertemplate\":\"path_id=6221\\u003cbr\\u003eTime Steps=%{x}\\u003cbr\\u003eDelta=%{y}\\u003cextra\\u003e\\u003c\\u002fextra\\u003e\",\"legendgroup\":\"6221\",\"line\":{\"color\":\"#00cc96\",\"dash\":\"solid\"},\"marker\":{\"symbol\":\"circle\"},\"mode\":\"lines\",\"name\":\"6221\",\"orientation\":\"v\",\"showlegend\":true,\"x\":[0,1,2,3,4,5,6,7,8,9,10,11,12,13,14,15,16,17,18,19,20,21,22,23,24,25,26,27,28,29,30,31,32,33,34,35,36,37,38,39,40,41,42,43,44,45,46,47,48,49,50,51,52,53,54,55,56,57,58,59,60,61,62,63],\"xaxis\":\"x\",\"y\":[0.5546822036275671,0.5892694998791447,0.5149020496213652,0.5286768463052304,0.579562867714293,0.5784982605174128,0.6238622182660748,0.6352800067562213,0.6719676596128775,0.6582314319126258,0.6598458079577196,0.7781162478026105,0.7771852624036804,0.7241848121919476,0.7146461911700571,0.7216086660787888,0.7606889463407327,0.7691751523467116,0.7058348911181622,0.767094626665499,0.7515455022510129,0.7682780846343478,0.7237768849894428,0.8143645402647134,0.8457261734051742,0.8408916400229651,0.8604908758797586,0.8794164805592264,0.8743711895154604,0.9064100637675787,0.9167595486455866,0.9204964109825589,0.943346360038505,0.9203216927571642,0.9059082784997137,0.9230240164804017,0.9271763337196713,0.956225991262075,0.9379291395591588,0.9345945264062995,0.8939068351962568,0.8548132932818282,0.8348922435057735,0.7989105335441902,0.8080239600575523,0.8433433263236294,0.7863873836577779,0.8689304892110405,0.9597570180014434,0.9630958958623753,0.9610348069775728,0.9736207803751604,0.9840101022932695,0.9822130549900898,0.9916087806257797,0.997884288994121,0.9993408451065704,0.9992830730681027,0.9997618363912414,0.9999411054504856,0.9999996425180303,0.9999999999862692,1.0,1.0],\"yaxis\":\"y\",\"type\":\"scatter\"},{\"hovertemplate\":\"path_id=6616\\u003cbr\\u003eTime Steps=%{x}\\u003cbr\\u003eDelta=%{y}\\u003cextra\\u003e\\u003c\\u002fextra\\u003e\",\"legendgroup\":\"6616\",\"line\":{\"color\":\"#ab63fa\",\"dash\":\"solid\"},\"marker\":{\"symbol\":\"circle\"},\"mode\":\"lines\",\"name\":\"6616\",\"orientation\":\"v\",\"showlegend\":true,\"x\":[0,1,2,3,4,5,6,7,8,9,10,11,12,13,14,15,16,17,18,19,20,21,22,23,24,25,26,27,28,29,30,31,32,33,34,35,36,37,38,39,40,41,42,43,44,45,46,47,48,49,50,51,52,53,54,55,56,57,58,59,60,61,62,63],\"xaxis\":\"x\",\"y\":[0.5546822036275671,0.6028314960493611,0.6513328457527559,0.6105603059247005,0.6012443488491601,0.5858083247623354,0.5695051408352687,0.5861950212901662,0.6423597752131576,0.6419889858797325,0.6307896869592137,0.6332482860562931,0.6322142058358048,0.5778532726396345,0.6661763674872783,0.6687883120969055,0.7227765866603781,0.7971209340619753,0.797740051069822,0.8184362285162008,0.8920978751470744,0.8772740329079531,0.9120217724338873,0.8979079250697632,0.9357036391587139,0.9210141101157812,0.8828549215151285,0.8832944567611134,0.904627077546391,0.9291271815405406,0.9108358730897255,0.8865907717704336,0.8684152174705339,0.9339565089202072,0.9599360959785203,0.9639260457202958,0.9832400303896911,0.9723042351051957,0.9816958785327125,0.988429439170336,0.9920721351988525,0.9951111818318701,0.9953620225874281,0.9941820126873036,0.9934927970419287,0.9973682554606657,0.997799040026764,0.9871429201500814,0.9752413768686453,0.9874722470415808,0.9928364944813067,0.9862851773838258,0.9884041566947999,0.9823043915922739,0.9963538216986243,0.9990501858754458,0.998975576672071,0.9999222550046747,0.9999765957049627,0.9999929234306479,0.9999997390139969,0.9999999983051571,0.999999999999998,1.0],\"yaxis\":\"y\",\"type\":\"scatter\"},{\"hovertemplate\":\"path_id=10000\\u003cbr\\u003eTime Steps=%{x}\\u003cbr\\u003eDelta=%{y}\\u003cextra\\u003e\\u003c\\u002fextra\\u003e\",\"legendgroup\":\"10000\",\"line\":{\"color\":\"#FFA15A\",\"dash\":\"solid\"},\"marker\":{\"symbol\":\"circle\"},\"mode\":\"lines\",\"name\":\"10000\",\"orientation\":\"v\",\"showlegend\":true,\"x\":[0,1,2,3,4,5,6,7,8,9,10,11,12,13,14,15,16,17,18,19,20,21,22,23,24,25,26,27,28,29,30,31,32,33,34,35,36,37,38,39,40,41,42,43,44,45,46,47,48,49,50,51,52,53,54,55,56,57,58,59,60,61,62,63],\"xaxis\":\"x\",\"y\":[0.5546822036275671,0.5103056033758715,0.5878004604955928,0.655778230217426,0.6521211106334339,0.6923962616114082,0.7535866446945618,0.7893906344096046,0.8010699759143444,0.8369793991829112,0.8699974233102179,0.8676219884923759,0.9238269987033854,0.8828693996863675,0.9142284725717583,0.8887589433491125,0.8896415911572324,0.9285780467399312,0.8824214518761305,0.8559216623910567,0.8855756816684585,0.8712905812030518,0.779972589360457,0.7329005641402442,0.6537458839291013,0.6326293978481312,0.582380914171513,0.5374663333971755,0.5839248358155263,0.5886623765917548,0.5812764849864567,0.6570643360009214,0.5933711836851869,0.7944971319925618,0.785695498963338,0.8725644710663161,0.8819858991085183,0.9161090853175513,0.9098468161641606,0.9215413163330939,0.9444405987119695,0.9442584113971495,0.9502918196100764,0.913616779562239,0.8774163907825299,0.8457211008860266,0.8381860785218781,0.925913546039405,0.9507208435113403,0.9270583168174453,0.9462997448088012,0.9814639389533661,0.990391759963308,0.9976472304904797,0.9984175610817827,0.9911795813833935,0.9883175175679129,0.9946668605813281,0.9935671260155713,0.9924794824520459,0.991777243760566,0.972330256606011,0.999267364822069,1.0],\"yaxis\":\"y\",\"type\":\"scatter\"}],                        {\"template\":{\"data\":{\"histogram2dcontour\":[{\"type\":\"histogram2dcontour\",\"colorbar\":{\"outlinewidth\":0,\"ticks\":\"\"},\"colorscale\":[[0.0,\"#0d0887\"],[0.1111111111111111,\"#46039f\"],[0.2222222222222222,\"#7201a8\"],[0.3333333333333333,\"#9c179e\"],[0.4444444444444444,\"#bd3786\"],[0.5555555555555556,\"#d8576b\"],[0.6666666666666666,\"#ed7953\"],[0.7777777777777778,\"#fb9f3a\"],[0.8888888888888888,\"#fdca26\"],[1.0,\"#f0f921\"]]}],\"choropleth\":[{\"type\":\"choropleth\",\"colorbar\":{\"outlinewidth\":0,\"ticks\":\"\"}}],\"histogram2d\":[{\"type\":\"histogram2d\",\"colorbar\":{\"outlinewidth\":0,\"ticks\":\"\"},\"colorscale\":[[0.0,\"#0d0887\"],[0.1111111111111111,\"#46039f\"],[0.2222222222222222,\"#7201a8\"],[0.3333333333333333,\"#9c179e\"],[0.4444444444444444,\"#bd3786\"],[0.5555555555555556,\"#d8576b\"],[0.6666666666666666,\"#ed7953\"],[0.7777777777777778,\"#fb9f3a\"],[0.8888888888888888,\"#fdca26\"],[1.0,\"#f0f921\"]]}],\"heatmap\":[{\"type\":\"heatmap\",\"colorbar\":{\"outlinewidth\":0,\"ticks\":\"\"},\"colorscale\":[[0.0,\"#0d0887\"],[0.1111111111111111,\"#46039f\"],[0.2222222222222222,\"#7201a8\"],[0.3333333333333333,\"#9c179e\"],[0.4444444444444444,\"#bd3786\"],[0.5555555555555556,\"#d8576b\"],[0.6666666666666666,\"#ed7953\"],[0.7777777777777778,\"#fb9f3a\"],[0.8888888888888888,\"#fdca26\"],[1.0,\"#f0f921\"]]}],\"heatmapgl\":[{\"type\":\"heatmapgl\",\"colorbar\":{\"outlinewidth\":0,\"ticks\":\"\"},\"colorscale\":[[0.0,\"#0d0887\"],[0.1111111111111111,\"#46039f\"],[0.2222222222222222,\"#7201a8\"],[0.3333333333333333,\"#9c179e\"],[0.4444444444444444,\"#bd3786\"],[0.5555555555555556,\"#d8576b\"],[0.6666666666666666,\"#ed7953\"],[0.7777777777777778,\"#fb9f3a\"],[0.8888888888888888,\"#fdca26\"],[1.0,\"#f0f921\"]]}],\"contourcarpet\":[{\"type\":\"contourcarpet\",\"colorbar\":{\"outlinewidth\":0,\"ticks\":\"\"}}],\"contour\":[{\"type\":\"contour\",\"colorbar\":{\"outlinewidth\":0,\"ticks\":\"\"},\"colorscale\":[[0.0,\"#0d0887\"],[0.1111111111111111,\"#46039f\"],[0.2222222222222222,\"#7201a8\"],[0.3333333333333333,\"#9c179e\"],[0.4444444444444444,\"#bd3786\"],[0.5555555555555556,\"#d8576b\"],[0.6666666666666666,\"#ed7953\"],[0.7777777777777778,\"#fb9f3a\"],[0.8888888888888888,\"#fdca26\"],[1.0,\"#f0f921\"]]}],\"surface\":[{\"type\":\"surface\",\"colorbar\":{\"outlinewidth\":0,\"ticks\":\"\"},\"colorscale\":[[0.0,\"#0d0887\"],[0.1111111111111111,\"#46039f\"],[0.2222222222222222,\"#7201a8\"],[0.3333333333333333,\"#9c179e\"],[0.4444444444444444,\"#bd3786\"],[0.5555555555555556,\"#d8576b\"],[0.6666666666666666,\"#ed7953\"],[0.7777777777777778,\"#fb9f3a\"],[0.8888888888888888,\"#fdca26\"],[1.0,\"#f0f921\"]]}],\"mesh3d\":[{\"type\":\"mesh3d\",\"colorbar\":{\"outlinewidth\":0,\"ticks\":\"\"}}],\"scatter\":[{\"fillpattern\":{\"fillmode\":\"overlay\",\"size\":10,\"solidity\":0.2},\"type\":\"scatter\"}],\"parcoords\":[{\"type\":\"parcoords\",\"line\":{\"colorbar\":{\"outlinewidth\":0,\"ticks\":\"\"}}}],\"scatterpolargl\":[{\"type\":\"scatterpolargl\",\"marker\":{\"colorbar\":{\"outlinewidth\":0,\"ticks\":\"\"}}}],\"bar\":[{\"error_x\":{\"color\":\"#2a3f5f\"},\"error_y\":{\"color\":\"#2a3f5f\"},\"marker\":{\"line\":{\"color\":\"#E5ECF6\",\"width\":0.5},\"pattern\":{\"fillmode\":\"overlay\",\"size\":10,\"solidity\":0.2}},\"type\":\"bar\"}],\"scattergeo\":[{\"type\":\"scattergeo\",\"marker\":{\"colorbar\":{\"outlinewidth\":0,\"ticks\":\"\"}}}],\"scatterpolar\":[{\"type\":\"scatterpolar\",\"marker\":{\"colorbar\":{\"outlinewidth\":0,\"ticks\":\"\"}}}],\"histogram\":[{\"marker\":{\"pattern\":{\"fillmode\":\"overlay\",\"size\":10,\"solidity\":0.2}},\"type\":\"histogram\"}],\"scattergl\":[{\"type\":\"scattergl\",\"marker\":{\"colorbar\":{\"outlinewidth\":0,\"ticks\":\"\"}}}],\"scatter3d\":[{\"type\":\"scatter3d\",\"line\":{\"colorbar\":{\"outlinewidth\":0,\"ticks\":\"\"}},\"marker\":{\"colorbar\":{\"outlinewidth\":0,\"ticks\":\"\"}}}],\"scattermapbox\":[{\"type\":\"scattermapbox\",\"marker\":{\"colorbar\":{\"outlinewidth\":0,\"ticks\":\"\"}}}],\"scatterternary\":[{\"type\":\"scatterternary\",\"marker\":{\"colorbar\":{\"outlinewidth\":0,\"ticks\":\"\"}}}],\"scattercarpet\":[{\"type\":\"scattercarpet\",\"marker\":{\"colorbar\":{\"outlinewidth\":0,\"ticks\":\"\"}}}],\"carpet\":[{\"aaxis\":{\"endlinecolor\":\"#2a3f5f\",\"gridcolor\":\"white\",\"linecolor\":\"white\",\"minorgridcolor\":\"white\",\"startlinecolor\":\"#2a3f5f\"},\"baxis\":{\"endlinecolor\":\"#2a3f5f\",\"gridcolor\":\"white\",\"linecolor\":\"white\",\"minorgridcolor\":\"white\",\"startlinecolor\":\"#2a3f5f\"},\"type\":\"carpet\"}],\"table\":[{\"cells\":{\"fill\":{\"color\":\"#EBF0F8\"},\"line\":{\"color\":\"white\"}},\"header\":{\"fill\":{\"color\":\"#C8D4E3\"},\"line\":{\"color\":\"white\"}},\"type\":\"table\"}],\"barpolar\":[{\"marker\":{\"line\":{\"color\":\"#E5ECF6\",\"width\":0.5},\"pattern\":{\"fillmode\":\"overlay\",\"size\":10,\"solidity\":0.2}},\"type\":\"barpolar\"}],\"pie\":[{\"automargin\":true,\"type\":\"pie\"}]},\"layout\":{\"autotypenumbers\":\"strict\",\"colorway\":[\"#636efa\",\"#EF553B\",\"#00cc96\",\"#ab63fa\",\"#FFA15A\",\"#19d3f3\",\"#FF6692\",\"#B6E880\",\"#FF97FF\",\"#FECB52\"],\"font\":{\"color\":\"#2a3f5f\"},\"hovermode\":\"closest\",\"hoverlabel\":{\"align\":\"left\"},\"paper_bgcolor\":\"white\",\"plot_bgcolor\":\"#E5ECF6\",\"polar\":{\"bgcolor\":\"#E5ECF6\",\"angularaxis\":{\"gridcolor\":\"white\",\"linecolor\":\"white\",\"ticks\":\"\"},\"radialaxis\":{\"gridcolor\":\"white\",\"linecolor\":\"white\",\"ticks\":\"\"}},\"ternary\":{\"bgcolor\":\"#E5ECF6\",\"aaxis\":{\"gridcolor\":\"white\",\"linecolor\":\"white\",\"ticks\":\"\"},\"baxis\":{\"gridcolor\":\"white\",\"linecolor\":\"white\",\"ticks\":\"\"},\"caxis\":{\"gridcolor\":\"white\",\"linecolor\":\"white\",\"ticks\":\"\"}},\"coloraxis\":{\"colorbar\":{\"outlinewidth\":0,\"ticks\":\"\"}},\"colorscale\":{\"sequential\":[[0.0,\"#0d0887\"],[0.1111111111111111,\"#46039f\"],[0.2222222222222222,\"#7201a8\"],[0.3333333333333333,\"#9c179e\"],[0.4444444444444444,\"#bd3786\"],[0.5555555555555556,\"#d8576b\"],[0.6666666666666666,\"#ed7953\"],[0.7777777777777778,\"#fb9f3a\"],[0.8888888888888888,\"#fdca26\"],[1.0,\"#f0f921\"]],\"sequentialminus\":[[0.0,\"#0d0887\"],[0.1111111111111111,\"#46039f\"],[0.2222222222222222,\"#7201a8\"],[0.3333333333333333,\"#9c179e\"],[0.4444444444444444,\"#bd3786\"],[0.5555555555555556,\"#d8576b\"],[0.6666666666666666,\"#ed7953\"],[0.7777777777777778,\"#fb9f3a\"],[0.8888888888888888,\"#fdca26\"],[1.0,\"#f0f921\"]],\"diverging\":[[0,\"#8e0152\"],[0.1,\"#c51b7d\"],[0.2,\"#de77ae\"],[0.3,\"#f1b6da\"],[0.4,\"#fde0ef\"],[0.5,\"#f7f7f7\"],[0.6,\"#e6f5d0\"],[0.7,\"#b8e186\"],[0.8,\"#7fbc41\"],[0.9,\"#4d9221\"],[1,\"#276419\"]]},\"xaxis\":{\"gridcolor\":\"white\",\"linecolor\":\"white\",\"ticks\":\"\",\"title\":{\"standoff\":15},\"zerolinecolor\":\"white\",\"automargin\":true,\"zerolinewidth\":2},\"yaxis\":{\"gridcolor\":\"white\",\"linecolor\":\"white\",\"ticks\":\"\",\"title\":{\"standoff\":15},\"zerolinecolor\":\"white\",\"automargin\":true,\"zerolinewidth\":2},\"scene\":{\"xaxis\":{\"backgroundcolor\":\"#E5ECF6\",\"gridcolor\":\"white\",\"linecolor\":\"white\",\"showbackground\":true,\"ticks\":\"\",\"zerolinecolor\":\"white\",\"gridwidth\":2},\"yaxis\":{\"backgroundcolor\":\"#E5ECF6\",\"gridcolor\":\"white\",\"linecolor\":\"white\",\"showbackground\":true,\"ticks\":\"\",\"zerolinecolor\":\"white\",\"gridwidth\":2},\"zaxis\":{\"backgroundcolor\":\"#E5ECF6\",\"gridcolor\":\"white\",\"linecolor\":\"white\",\"showbackground\":true,\"ticks\":\"\",\"zerolinecolor\":\"white\",\"gridwidth\":2}},\"shapedefaults\":{\"line\":{\"color\":\"#2a3f5f\"}},\"annotationdefaults\":{\"arrowcolor\":\"#2a3f5f\",\"arrowhead\":0,\"arrowwidth\":1},\"geo\":{\"bgcolor\":\"white\",\"landcolor\":\"#E5ECF6\",\"subunitcolor\":\"white\",\"showland\":true,\"showlakes\":true,\"lakecolor\":\"white\"},\"title\":{\"x\":0.05},\"mapbox\":{\"style\":\"light\"}}},\"xaxis\":{\"anchor\":\"y\",\"domain\":[0.0,1.0],\"title\":{\"text\":\"Time Steps\"}},\"yaxis\":{\"anchor\":\"x\",\"domain\":[0.0,1.0],\"title\":{\"text\":\"Delta\"}},\"legend\":{\"title\":{\"text\":\"path_id\"},\"tracegroupgap\":0},\"margin\":{\"t\":60}},                        {\"responsive\": true}                    ).then(function(){\n",
              "                            \n",
              "var gd = document.getElementById('6e333b5c-8e61-49f7-8dc5-1ee6786960b9');\n",
              "var x = new MutationObserver(function (mutations, observer) {{\n",
              "        var display = window.getComputedStyle(gd).display;\n",
              "        if (!display || display === 'none') {{\n",
              "            console.log([gd, 'removed!']);\n",
              "            Plotly.purge(gd);\n",
              "            observer.disconnect();\n",
              "        }}\n",
              "}});\n",
              "\n",
              "// Listen for the removal of the full notebook cells\n",
              "var notebookContainer = gd.closest('#notebook-container');\n",
              "if (notebookContainer) {{\n",
              "    x.observe(notebookContainer, {childList: true});\n",
              "}}\n",
              "\n",
              "// Listen for the clearing of the current output cell\n",
              "var outputEl = gd.closest('.output');\n",
              "if (outputEl) {{\n",
              "    x.observe(outputEl, {childList: true});\n",
              "}}\n",
              "\n",
              "                        })                };                            </script>        </div>\n",
              "</body>\n",
              "</html>"
            ]
          },
          "metadata": {}
        },
        {
          "output_type": "display_data",
          "data": {
            "text/html": [
              "<html>\n",
              "<head><meta charset=\"utf-8\" /></head>\n",
              "<body>\n",
              "    <div>            <script src=\"https://cdnjs.cloudflare.com/ajax/libs/mathjax/2.7.5/MathJax.js?config=TeX-AMS-MML_SVG\"></script><script type=\"text/javascript\">if (window.MathJax && window.MathJax.Hub && window.MathJax.Hub.Config) {window.MathJax.Hub.Config({SVG: {font: \"STIX-Web\"}});}</script>                <script type=\"text/javascript\">window.PlotlyConfig = {MathJaxConfig: 'local'};</script>\n",
              "        <script charset=\"utf-8\" src=\"https://cdn.plot.ly/plotly-2.24.1.min.js\"></script>                <div id=\"69c72766-9454-412e-824f-b73f77b48aa1\" class=\"plotly-graph-div\" style=\"height:525px; width:100%;\"></div>            <script type=\"text/javascript\">                                    window.PLOTLYENV=window.PLOTLYENV || {};                                    if (document.getElementById(\"69c72766-9454-412e-824f-b73f77b48aa1\")) {                    Plotly.newPlot(                        \"69c72766-9454-412e-824f-b73f77b48aa1\",                        [{\"hovertemplate\":\"path_id=152\\u003cbr\\u003eTime Steps=%{x}\\u003cbr\\u003eOption Value=%{y}\\u003cextra\\u003e\\u003c\\u002fextra\\u003e\",\"legendgroup\":\"152\",\"line\":{\"color\":\"#636efa\",\"dash\":\"solid\"},\"marker\":{\"symbol\":\"circle\"},\"mode\":\"lines\",\"name\":\"152\",\"orientation\":\"v\",\"showlegend\":true,\"x\":[0,1,2,3,4,5,6,7,8,9,10,11,12,13,14,15,16,17,18,19,20,21,22,23,24,25,26,27,28,29,30,31,32,33,34,35,36,37,38,39,40,41,42,43,44,45,46,47,48,49,50,51,52,53,54,55,56,57,58,59,60,61,62,63],\"xaxis\":\"x\",\"y\":[3.368669064577219,2.962911769023407,3.773238224938339,3.4953782723544364,4.207461159360641,4.821229062832586,4.945003712164279,4.641160631933886,5.653143614167504,6.597572969003764,8.42725705251884,8.000521850565406,7.1593038157979265,7.977907239460933,7.078874193224067,5.591313172789867,6.177620968256136,5.8502081730194675,5.364774481014308,6.53885233324182,6.699876625338902,6.4930420482983635,7.706700356967687,7.374073066369419,9.130286343268835,7.248148450625621,6.689014079948947,7.779295343424337,6.679757452145651,8.384686570322003,8.305856357442181,8.360374210186919,6.598519693594483,7.754750911524411,5.96060676678151,7.300470251221796,8.207124463131976,7.671506810759254,7.3720959280690295,8.54915044082388,8.392238221968185,9.248154675670477,10.113082598322876,9.33230284962562,9.754968100120891,9.372659558422242,8.433199727485345,7.654901738947345,7.007658930211463,6.257011255839529,5.33030494919042,5.613589455041307,4.92120083746785,3.833281628714346,2.4764577753250734,3.0849568295411274,2.8086550495471556,2.677098173087046,2.923627359620852,1.5406300426040502,0.4772982368414702,0.45112058223769935,0.9085269993840939,0.665877760882509],\"yaxis\":\"y\",\"type\":\"scatter\"},{\"hovertemplate\":\"path_id=2029\\u003cbr\\u003eTime Steps=%{x}\\u003cbr\\u003eOption Value=%{y}\\u003cextra\\u003e\\u003c\\u002fextra\\u003e\",\"legendgroup\":\"2029\",\"line\":{\"color\":\"#EF553B\",\"dash\":\"solid\"},\"marker\":{\"symbol\":\"circle\"},\"mode\":\"lines\",\"name\":\"2029\",\"orientation\":\"v\",\"showlegend\":true,\"x\":[0,1,2,3,4,5,6,7,8,9,10,11,12,13,14,15,16,17,18,19,20,21,22,23,24,25,26,27,28,29,30,31,32,33,34,35,36,37,38,39,40,41,42,43,44,45,46,47,48,49,50,51,52,53,54,55,56,57,58,59,60,61,62,63],\"xaxis\":\"x\",\"y\":[3.368669064577219,3.075521518593874,3.110234592129295,3.6693641895224687,3.1263286538605115,2.6412511959976257,2.914719982634992,2.644214469394157,2.3493835544784005,2.116265985458938,1.941862403084187,1.6294535122674105,1.57113390778229,1.4846128434900905,2.1316801238286303,2.7175581858211615,2.4878097684986713,2.4411246499229406,1.9132186309200705,1.5231997094991172,1.8970425109377231,1.7908150025202545,1.90188643227075,1.2581460453444997,1.760733183313107,1.66934404761993,1.2831325356931842,1.1605914416263836,1.2408988738792672,1.1793173017714587,1.3950771860567386,1.908238867462778,2.1320728588641558,2.100503664058216,1.9022517554666223,2.383683003452127,2.5028811029994955,3.1327975023485806,2.8057300505975746,2.5415837711799654,2.9629238420995705,2.090048770598308,1.5908357365216546,0.6719127783305581,0.41350572598108215,0.5915729511701748,0.48743142742002377,0.4723492931494704,1.279223040656774,1.3638811957212624,1.2145268515484844,1.432098722803218,1.9791633255084946,1.788694444841859,1.4369939028968517,2.4939601656558352,2.8827848345285787,3.548426497126343,2.616759477922102,2.008731143041345,2.3660254090741546,1.5822332462985713,0.9186353950526467,0.06844832925123967],\"yaxis\":\"y\",\"type\":\"scatter\"},{\"hovertemplate\":\"path_id=6221\\u003cbr\\u003eTime Steps=%{x}\\u003cbr\\u003eOption Value=%{y}\\u003cextra\\u003e\\u003c\\u002fextra\\u003e\",\"legendgroup\":\"6221\",\"line\":{\"color\":\"#00cc96\",\"dash\":\"solid\"},\"marker\":{\"symbol\":\"circle\"},\"mode\":\"lines\",\"name\":\"6221\",\"orientation\":\"v\",\"showlegend\":true,\"x\":[0,1,2,3,4,5,6,7,8,9,10,11,12,13,14,15,16,17,18,19,20,21,22,23,24,25,26,27,28,29,30,31,32,33,34,35,36,37,38,39,40,41,42,43,44,45,46,47,48,49,50,51,52,53,54,55,56,57,58,59,60,61,62,63],\"xaxis\":\"x\",\"y\":[3.368669064577219,3.719878979101658,2.923969754750985,3.032701389755765,3.5271944556389982,3.4873204258742376,3.9676505259097254,4.070735764649754,4.500128793314772,4.282685935415522,4.264684756174169,6.0204425330867934,5.946222887444094,5.016610137124275,4.828634640286737,4.880323659162073,5.431433872166608,5.515191614428346,4.513385265062951,5.361961614471866,5.057960696139602,5.259728737638696,4.548290951935201,5.929225853693055,6.495021698149529,6.307230621138402,6.659573119596871,7.037168618931332,6.809620866315512,7.6084106785365435,7.837059519860404,7.846731398879754,8.646225514882815,7.588678538843467,7.0072543706189805,7.4193907606624805,7.426642199517744,8.522847337641764,7.531505499219293,7.253312266141478,5.939813176083561,5.034597131594566,4.600157040478393,4.00327007812453,4.014908709185491,4.380276439958806,3.5532470504746954,4.509815222952227,6.586682370064267,6.50358057463842,6.17599926216667,6.51427704593128,6.909986768451176,6.447093330766762,6.97223320870512,7.900195742760147,8.320800721755958,7.623417768853955,7.6326979357275775,7.525668832554302,8.433880704184247,9.295256819052724,9.475024666083442,9.046625289252887],\"yaxis\":\"y\",\"type\":\"scatter\"},{\"hovertemplate\":\"path_id=6616\\u003cbr\\u003eTime Steps=%{x}\\u003cbr\\u003eOption Value=%{y}\\u003cextra\\u003e\\u003c\\u002fextra\\u003e\",\"legendgroup\":\"6616\",\"line\":{\"color\":\"#ab63fa\",\"dash\":\"solid\"},\"marker\":{\"symbol\":\"circle\"},\"mode\":\"lines\",\"name\":\"6616\",\"orientation\":\"v\",\"showlegend\":true,\"x\":[0,1,2,3,4,5,6,7,8,9,10,11,12,13,14,15,16,17,18,19,20,21,22,23,24,25,26,27,28,29,30,31,32,33,34,35,36,37,38,39,40,41,42,43,44,45,46,47,48,49,50,51,52,53,54,55,56,57,58,59,60,61,62,63],\"xaxis\":\"x\",\"y\":[3.368669064577219,3.8764114264131777,4.448612503799865,3.906619463450255,3.767957288024199,3.566181528715987,3.3643586758718484,3.5113595676916205,4.12172906995275,4.081099051675089,3.912015252493262,3.904948217910203,3.856830348781898,3.243292890847613,4.183964254349441,4.174574010388753,4.8473283658195925,6.014214366420916,5.960978589074301,6.29811892781548,8.078414857483423,7.541616388958701,8.565079897442004,7.973153243938626,9.332965132914566,8.579795221517543,7.227738478572249,7.14097706935847,7.663069731603585,8.425211590125343,7.636866685833709,6.816266924116576,6.2704972872996905,8.096873235984859,9.231289646373327,9.319482184747173,10.866246719136697,9.570002783554003,10.260310779949663,10.956113929058887,11.418780558428537,11.99811337242636,11.79757651814117,11.13374956837238,10.66154158489293,11.724970591132205,11.6284662912702,8.720391714010034,7.4045579211870205,8.17928834612114,8.633697176267958,7.434540448948596,7.325275084364378,6.453611292456216,7.854556847886457,8.607703757907814,7.9728436274644565,9.112827258183799,8.952724076187934,8.527145039779157,8.54180009446128,8.208381159644944,7.701132361117573,7.08003409171765],\"yaxis\":\"y\",\"type\":\"scatter\"},{\"hovertemplate\":\"path_id=10000\\u003cbr\\u003eTime Steps=%{x}\\u003cbr\\u003eOption Value=%{y}\\u003cextra\\u003e\\u003c\\u002fextra\\u003e\",\"legendgroup\":\"10000\",\"line\":{\"color\":\"#FFA15A\",\"dash\":\"solid\"},\"marker\":{\"symbol\":\"circle\"},\"mode\":\"lines\",\"name\":\"10000\",\"orientation\":\"v\",\"showlegend\":true,\"x\":[0,1,2,3,4,5,6,7,8,9,10,11,12,13,14,15,16,17,18,19,20,21,22,23,24,25,26,27,28,29,30,31,32,33,34,35,36,37,38,39,40,41,42,43,44,45,46,47,48,49,50,51,52,53,54,55,56,57,58,59,60,61,62,63],\"xaxis\":\"x\",\"y\":[3.368669064577219,2.9027093160764963,3.6748099123643954,4.4722715138114,4.388406936768874,4.90501402240227,5.841331398000889,6.466502566156066,6.6502799384305575,7.4117594712112265,8.246686608812979,8.097923512069812,10.088961038493224,8.406018774480359,9.462995605572004,8.425725939536633,8.366068635376791,9.79495845660118,7.960070767623492,7.145132797466886,7.875314245475451,7.376455450460412,5.387263911571409,4.617097511989229,3.6116772218455253,3.3510708012408372,2.846688917137932,2.4466910396885027,2.784519839239195,2.7854236920480346,2.6850487161129095,3.3129140505832595,2.7018488764932798,4.828954422359246,4.621158167232636,6.049052493627016,6.150345330385306,6.927555023067285,6.610443327051428,6.816403601288613,7.472873011006641,7.298671286566304,7.374289661456004,6.00240541446334,5.069009449743007,4.41528845969448,4.184695684261129,5.665393327265264,6.230410045842163,5.323894556691641,5.651001535178011,7.019430866429218,7.561643698656326,8.756077784725477,8.674366065144497,6.511960154991854,5.805102831776281,6.059666420190425,5.374236791796477,4.686090481973764,3.9934850159200437,2.598514312603257,3.047084764968247,4.295447262895763],\"yaxis\":\"y\",\"type\":\"scatter\"}],                        {\"template\":{\"data\":{\"histogram2dcontour\":[{\"type\":\"histogram2dcontour\",\"colorbar\":{\"outlinewidth\":0,\"ticks\":\"\"},\"colorscale\":[[0.0,\"#0d0887\"],[0.1111111111111111,\"#46039f\"],[0.2222222222222222,\"#7201a8\"],[0.3333333333333333,\"#9c179e\"],[0.4444444444444444,\"#bd3786\"],[0.5555555555555556,\"#d8576b\"],[0.6666666666666666,\"#ed7953\"],[0.7777777777777778,\"#fb9f3a\"],[0.8888888888888888,\"#fdca26\"],[1.0,\"#f0f921\"]]}],\"choropleth\":[{\"type\":\"choropleth\",\"colorbar\":{\"outlinewidth\":0,\"ticks\":\"\"}}],\"histogram2d\":[{\"type\":\"histogram2d\",\"colorbar\":{\"outlinewidth\":0,\"ticks\":\"\"},\"colorscale\":[[0.0,\"#0d0887\"],[0.1111111111111111,\"#46039f\"],[0.2222222222222222,\"#7201a8\"],[0.3333333333333333,\"#9c179e\"],[0.4444444444444444,\"#bd3786\"],[0.5555555555555556,\"#d8576b\"],[0.6666666666666666,\"#ed7953\"],[0.7777777777777778,\"#fb9f3a\"],[0.8888888888888888,\"#fdca26\"],[1.0,\"#f0f921\"]]}],\"heatmap\":[{\"type\":\"heatmap\",\"colorbar\":{\"outlinewidth\":0,\"ticks\":\"\"},\"colorscale\":[[0.0,\"#0d0887\"],[0.1111111111111111,\"#46039f\"],[0.2222222222222222,\"#7201a8\"],[0.3333333333333333,\"#9c179e\"],[0.4444444444444444,\"#bd3786\"],[0.5555555555555556,\"#d8576b\"],[0.6666666666666666,\"#ed7953\"],[0.7777777777777778,\"#fb9f3a\"],[0.8888888888888888,\"#fdca26\"],[1.0,\"#f0f921\"]]}],\"heatmapgl\":[{\"type\":\"heatmapgl\",\"colorbar\":{\"outlinewidth\":0,\"ticks\":\"\"},\"colorscale\":[[0.0,\"#0d0887\"],[0.1111111111111111,\"#46039f\"],[0.2222222222222222,\"#7201a8\"],[0.3333333333333333,\"#9c179e\"],[0.4444444444444444,\"#bd3786\"],[0.5555555555555556,\"#d8576b\"],[0.6666666666666666,\"#ed7953\"],[0.7777777777777778,\"#fb9f3a\"],[0.8888888888888888,\"#fdca26\"],[1.0,\"#f0f921\"]]}],\"contourcarpet\":[{\"type\":\"contourcarpet\",\"colorbar\":{\"outlinewidth\":0,\"ticks\":\"\"}}],\"contour\":[{\"type\":\"contour\",\"colorbar\":{\"outlinewidth\":0,\"ticks\":\"\"},\"colorscale\":[[0.0,\"#0d0887\"],[0.1111111111111111,\"#46039f\"],[0.2222222222222222,\"#7201a8\"],[0.3333333333333333,\"#9c179e\"],[0.4444444444444444,\"#bd3786\"],[0.5555555555555556,\"#d8576b\"],[0.6666666666666666,\"#ed7953\"],[0.7777777777777778,\"#fb9f3a\"],[0.8888888888888888,\"#fdca26\"],[1.0,\"#f0f921\"]]}],\"surface\":[{\"type\":\"surface\",\"colorbar\":{\"outlinewidth\":0,\"ticks\":\"\"},\"colorscale\":[[0.0,\"#0d0887\"],[0.1111111111111111,\"#46039f\"],[0.2222222222222222,\"#7201a8\"],[0.3333333333333333,\"#9c179e\"],[0.4444444444444444,\"#bd3786\"],[0.5555555555555556,\"#d8576b\"],[0.6666666666666666,\"#ed7953\"],[0.7777777777777778,\"#fb9f3a\"],[0.8888888888888888,\"#fdca26\"],[1.0,\"#f0f921\"]]}],\"mesh3d\":[{\"type\":\"mesh3d\",\"colorbar\":{\"outlinewidth\":0,\"ticks\":\"\"}}],\"scatter\":[{\"fillpattern\":{\"fillmode\":\"overlay\",\"size\":10,\"solidity\":0.2},\"type\":\"scatter\"}],\"parcoords\":[{\"type\":\"parcoords\",\"line\":{\"colorbar\":{\"outlinewidth\":0,\"ticks\":\"\"}}}],\"scatterpolargl\":[{\"type\":\"scatterpolargl\",\"marker\":{\"colorbar\":{\"outlinewidth\":0,\"ticks\":\"\"}}}],\"bar\":[{\"error_x\":{\"color\":\"#2a3f5f\"},\"error_y\":{\"color\":\"#2a3f5f\"},\"marker\":{\"line\":{\"color\":\"#E5ECF6\",\"width\":0.5},\"pattern\":{\"fillmode\":\"overlay\",\"size\":10,\"solidity\":0.2}},\"type\":\"bar\"}],\"scattergeo\":[{\"type\":\"scattergeo\",\"marker\":{\"colorbar\":{\"outlinewidth\":0,\"ticks\":\"\"}}}],\"scatterpolar\":[{\"type\":\"scatterpolar\",\"marker\":{\"colorbar\":{\"outlinewidth\":0,\"ticks\":\"\"}}}],\"histogram\":[{\"marker\":{\"pattern\":{\"fillmode\":\"overlay\",\"size\":10,\"solidity\":0.2}},\"type\":\"histogram\"}],\"scattergl\":[{\"type\":\"scattergl\",\"marker\":{\"colorbar\":{\"outlinewidth\":0,\"ticks\":\"\"}}}],\"scatter3d\":[{\"type\":\"scatter3d\",\"line\":{\"colorbar\":{\"outlinewidth\":0,\"ticks\":\"\"}},\"marker\":{\"colorbar\":{\"outlinewidth\":0,\"ticks\":\"\"}}}],\"scattermapbox\":[{\"type\":\"scattermapbox\",\"marker\":{\"colorbar\":{\"outlinewidth\":0,\"ticks\":\"\"}}}],\"scatterternary\":[{\"type\":\"scatterternary\",\"marker\":{\"colorbar\":{\"outlinewidth\":0,\"ticks\":\"\"}}}],\"scattercarpet\":[{\"type\":\"scattercarpet\",\"marker\":{\"colorbar\":{\"outlinewidth\":0,\"ticks\":\"\"}}}],\"carpet\":[{\"aaxis\":{\"endlinecolor\":\"#2a3f5f\",\"gridcolor\":\"white\",\"linecolor\":\"white\",\"minorgridcolor\":\"white\",\"startlinecolor\":\"#2a3f5f\"},\"baxis\":{\"endlinecolor\":\"#2a3f5f\",\"gridcolor\":\"white\",\"linecolor\":\"white\",\"minorgridcolor\":\"white\",\"startlinecolor\":\"#2a3f5f\"},\"type\":\"carpet\"}],\"table\":[{\"cells\":{\"fill\":{\"color\":\"#EBF0F8\"},\"line\":{\"color\":\"white\"}},\"header\":{\"fill\":{\"color\":\"#C8D4E3\"},\"line\":{\"color\":\"white\"}},\"type\":\"table\"}],\"barpolar\":[{\"marker\":{\"line\":{\"color\":\"#E5ECF6\",\"width\":0.5},\"pattern\":{\"fillmode\":\"overlay\",\"size\":10,\"solidity\":0.2}},\"type\":\"barpolar\"}],\"pie\":[{\"automargin\":true,\"type\":\"pie\"}]},\"layout\":{\"autotypenumbers\":\"strict\",\"colorway\":[\"#636efa\",\"#EF553B\",\"#00cc96\",\"#ab63fa\",\"#FFA15A\",\"#19d3f3\",\"#FF6692\",\"#B6E880\",\"#FF97FF\",\"#FECB52\"],\"font\":{\"color\":\"#2a3f5f\"},\"hovermode\":\"closest\",\"hoverlabel\":{\"align\":\"left\"},\"paper_bgcolor\":\"white\",\"plot_bgcolor\":\"#E5ECF6\",\"polar\":{\"bgcolor\":\"#E5ECF6\",\"angularaxis\":{\"gridcolor\":\"white\",\"linecolor\":\"white\",\"ticks\":\"\"},\"radialaxis\":{\"gridcolor\":\"white\",\"linecolor\":\"white\",\"ticks\":\"\"}},\"ternary\":{\"bgcolor\":\"#E5ECF6\",\"aaxis\":{\"gridcolor\":\"white\",\"linecolor\":\"white\",\"ticks\":\"\"},\"baxis\":{\"gridcolor\":\"white\",\"linecolor\":\"white\",\"ticks\":\"\"},\"caxis\":{\"gridcolor\":\"white\",\"linecolor\":\"white\",\"ticks\":\"\"}},\"coloraxis\":{\"colorbar\":{\"outlinewidth\":0,\"ticks\":\"\"}},\"colorscale\":{\"sequential\":[[0.0,\"#0d0887\"],[0.1111111111111111,\"#46039f\"],[0.2222222222222222,\"#7201a8\"],[0.3333333333333333,\"#9c179e\"],[0.4444444444444444,\"#bd3786\"],[0.5555555555555556,\"#d8576b\"],[0.6666666666666666,\"#ed7953\"],[0.7777777777777778,\"#fb9f3a\"],[0.8888888888888888,\"#fdca26\"],[1.0,\"#f0f921\"]],\"sequentialminus\":[[0.0,\"#0d0887\"],[0.1111111111111111,\"#46039f\"],[0.2222222222222222,\"#7201a8\"],[0.3333333333333333,\"#9c179e\"],[0.4444444444444444,\"#bd3786\"],[0.5555555555555556,\"#d8576b\"],[0.6666666666666666,\"#ed7953\"],[0.7777777777777778,\"#fb9f3a\"],[0.8888888888888888,\"#fdca26\"],[1.0,\"#f0f921\"]],\"diverging\":[[0,\"#8e0152\"],[0.1,\"#c51b7d\"],[0.2,\"#de77ae\"],[0.3,\"#f1b6da\"],[0.4,\"#fde0ef\"],[0.5,\"#f7f7f7\"],[0.6,\"#e6f5d0\"],[0.7,\"#b8e186\"],[0.8,\"#7fbc41\"],[0.9,\"#4d9221\"],[1,\"#276419\"]]},\"xaxis\":{\"gridcolor\":\"white\",\"linecolor\":\"white\",\"ticks\":\"\",\"title\":{\"standoff\":15},\"zerolinecolor\":\"white\",\"automargin\":true,\"zerolinewidth\":2},\"yaxis\":{\"gridcolor\":\"white\",\"linecolor\":\"white\",\"ticks\":\"\",\"title\":{\"standoff\":15},\"zerolinecolor\":\"white\",\"automargin\":true,\"zerolinewidth\":2},\"scene\":{\"xaxis\":{\"backgroundcolor\":\"#E5ECF6\",\"gridcolor\":\"white\",\"linecolor\":\"white\",\"showbackground\":true,\"ticks\":\"\",\"zerolinecolor\":\"white\",\"gridwidth\":2},\"yaxis\":{\"backgroundcolor\":\"#E5ECF6\",\"gridcolor\":\"white\",\"linecolor\":\"white\",\"showbackground\":true,\"ticks\":\"\",\"zerolinecolor\":\"white\",\"gridwidth\":2},\"zaxis\":{\"backgroundcolor\":\"#E5ECF6\",\"gridcolor\":\"white\",\"linecolor\":\"white\",\"showbackground\":true,\"ticks\":\"\",\"zerolinecolor\":\"white\",\"gridwidth\":2}},\"shapedefaults\":{\"line\":{\"color\":\"#2a3f5f\"}},\"annotationdefaults\":{\"arrowcolor\":\"#2a3f5f\",\"arrowhead\":0,\"arrowwidth\":1},\"geo\":{\"bgcolor\":\"white\",\"landcolor\":\"#E5ECF6\",\"subunitcolor\":\"white\",\"showland\":true,\"showlakes\":true,\"lakecolor\":\"white\"},\"title\":{\"x\":0.05},\"mapbox\":{\"style\":\"light\"}}},\"xaxis\":{\"anchor\":\"y\",\"domain\":[0.0,1.0],\"title\":{\"text\":\"Time Steps\"}},\"yaxis\":{\"anchor\":\"x\",\"domain\":[0.0,1.0],\"title\":{\"text\":\"Option Value\"}},\"legend\":{\"title\":{\"text\":\"path_id\"},\"tracegroupgap\":0},\"margin\":{\"t\":60}},                        {\"responsive\": true}                    ).then(function(){\n",
              "                            \n",
              "var gd = document.getElementById('69c72766-9454-412e-824f-b73f77b48aa1');\n",
              "var x = new MutationObserver(function (mutations, observer) {{\n",
              "        var display = window.getComputedStyle(gd).display;\n",
              "        if (!display || display === 'none') {{\n",
              "            console.log([gd, 'removed!']);\n",
              "            Plotly.purge(gd);\n",
              "            observer.disconnect();\n",
              "        }}\n",
              "}});\n",
              "\n",
              "// Listen for the removal of the full notebook cells\n",
              "var notebookContainer = gd.closest('#notebook-container');\n",
              "if (notebookContainer) {{\n",
              "    x.observe(notebookContainer, {childList: true});\n",
              "}}\n",
              "\n",
              "// Listen for the clearing of the current output cell\n",
              "var outputEl = gd.closest('.output');\n",
              "if (outputEl) {{\n",
              "    x.observe(outputEl, {childList: true});\n",
              "}}\n",
              "\n",
              "                        })                };                            </script>        </div>\n",
              "</body>\n",
              "</html>"
            ]
          },
          "metadata": {}
        }
      ]
    },
    {
      "cell_type": "code",
      "source": [
        "delta_s = np.exp(-r * delta_t) * spot_df.loc[:,1:num_of_timestep].values - spot_df.loc[:,0:num_of_timestep-1]\n",
        "delta_c = np.exp(-r * delta_t) * option_value_df.loc[:,1:num_of_timestep].values - option_value_df.loc[:,0:num_of_timestep-1]\n",
        "\n",
        "spot_df_train, spot_df_test = spot_df[:data_cutoff], spot_df[data_cutoff:]\n",
        "delta_df_train, delta_df_test = delta_df[:data_cutoff], delta_df[data_cutoff:]\n",
        "delta_s_train, delta_s_test = delta_s[:data_cutoff], delta_s[data_cutoff:]\n",
        "delta_c_train, delta_c_test = delta_c[:data_cutoff], delta_c[data_cutoff:]"
      ],
      "metadata": {
        "id": "LDKKITDQMq2m"
      },
      "execution_count": 12,
      "outputs": []
    },
    {
      "cell_type": "code",
      "source": [
        "# delta_s_tilde = delta_s - delta_s.mean(axis=0)\n",
        "# delta_c_tilde = delta_c - delta_c.mean(axis=0)\n",
        "\n",
        "delta_s_tilde_train = delta_s_train - delta_s_train.mean(axis=0)\n",
        "delta_s_tilde_test = delta_s_test - delta_s_test.mean(axis=0)\n",
        "\n",
        "delta_c_tilde_train = delta_c_train - delta_c_train.mean(axis=0)\n",
        "delta_c_tilde_test = delta_c_test - delta_c_test.mean(axis=0)"
      ],
      "metadata": {
        "id": "eKtB2w_1B96Y"
      },
      "execution_count": 13,
      "outputs": []
    },
    {
      "cell_type": "code",
      "source": [
        "delta_c_tilde_test.shape"
      ],
      "metadata": {
        "colab": {
          "base_uri": "https://localhost:8080/"
        },
        "id": "FfoPtj-tKXsE",
        "outputId": "2eecc095-77ec-4c29-8bf6-89eb08927fa4"
      },
      "execution_count": 14,
      "outputs": [
        {
          "output_type": "execute_result",
          "data": {
            "text/plain": [
              "(4915, 63)"
            ]
          },
          "metadata": {},
          "execution_count": 14
        }
      ]
    },
    {
      "cell_type": "code",
      "source": [
        "class Option:\n",
        "  def __init__(self, s0=100, mu=0.05, sigma=0.15, r=0.03,\n",
        "               expiry=0.25, num_of_timestep=63, exercise_type='c'):\n",
        "    self.s0 = s0  # initial stock price\n",
        "    self.mu = mu  # drift\n",
        "    self.sigma = sigma  # constant volatility\n",
        "    self.r = r  # interest rate\n",
        "    self.expiry = expiry  # expiry, 3-month\n",
        "    self.num_of_timestep = num_of_timestep  # number of time steps expiry*1/252\n",
        "    self.delta_t = expiry / num_of_timestep  # time interval, daily 1/252\n",
        "    self.strike = s0  # assume at-the-money option\n",
        "    self.exercise_type = exercise_type  # 'c' for call option and 'p' for put option\n",
        "\n",
        "  def compute_value(self, stock_price):\n",
        "    return black_scholes(stock_price, self.strike, self.maturity, self.r, self.sigma, self.exercise_type)"
      ],
      "metadata": {
        "id": "ZVnU8mWrfzy9"
      },
      "execution_count": 15,
      "outputs": []
    },
    {
      "cell_type": "code",
      "source": [
        "class HedgingProblem:\n",
        "  def __init__(self, ds, dc, greekd, stock_prices, num_of_timestep,\n",
        "               dstilde, dctilde, option=None):\n",
        "    self.option = option or Option()\n",
        "    self.A = np.arange(-1.1, 0.1, 0.1)   ###discretize action from 0.1 to -1.1 with 0.1 interval\n",
        "    self.ds = ds\n",
        "    self.dc = dc\n",
        "    self.dstilde = dstilde\n",
        "    self.dctilde = dctilde\n",
        "    self.greekd = greekd\n",
        "    self.stock_prices = stock_prices\n",
        "    self.num_simulations = len(self.ds)\n",
        "    self.num_of_timestep = num_of_timestep\n",
        "\n",
        "  def T(self, simulation, current_date, maturity):\n",
        "    if current_date >= self.num_of_timestep:\n",
        "      return (None, None)   # Option expires, simulation ends\n",
        "    next_stock_price = self.stock_prices.iloc[simulation, current_date + 1]\n",
        "    next_maturity = maturity - self.option.delta_t\n",
        "    return (next_stock_price, next_maturity)\n",
        "\n",
        "  def R(self, simulation, current_date, action):\n",
        "    if current_date >= self.num_of_timestep:\n",
        "      return 0\n",
        "    dst = self.ds.iloc[simulation, current_date]  # ds of this simulation\n",
        "    dct = self.dc.iloc[simulation, current_date]  # dc of this simulation\n",
        "    dw = (action * dst) + dct  # dw of this simulation\n",
        "\n",
        "    reward = dw - (risk_aversion / 2) * ((action * self.dstilde.iloc[simulation, current_date] +\n",
        "                                          self.dctilde.iloc[simulation, current_date]) ** 2)\n",
        "    return reward"
      ],
      "metadata": {
        "id": "HWOr0hCBWe8F"
      },
      "execution_count": 16,
      "outputs": []
    },
    {
      "cell_type": "code",
      "source": [
        "memory_parts = [\"spot\", \"maturity\", \"action\", \"next_spot\", \"next_maturity\", \"reward\"]\n",
        "Memory = namedtuple(\"Memory\", memory_parts) # a single entry of the memory replay\n",
        "\n",
        "class ReplayMemory:\n",
        "    def __init__(self, max_length=None):\n",
        "        self.max_length = max_length\n",
        "        self.memory = deque(maxlen=max_length)\n",
        "\n",
        "    def store(self, data):\n",
        "        self.memory.append(data)\n",
        "\n",
        "    def _sample(self, k):\n",
        "        return random.sample(self.memory, k)\n",
        "\n",
        "    def structured_sample(self, k):\n",
        "        batch = self._sample(k)\n",
        "        result = {}\n",
        "        for i, part in enumerate(memory_parts):\n",
        "            result[part] = np.array([row[i] for row in batch])\n",
        "\n",
        "        return result\n",
        "\n",
        "    def __len__(self):\n",
        "        return len(self.memory)"
      ],
      "metadata": {
        "id": "CeSVZU6CSpXX"
      },
      "execution_count": 17,
      "outputs": []
    },
    {
      "cell_type": "code",
      "source": [
        "hedge = HedgingProblem(ds=delta_s_train, dc=delta_c_train, greekd=delta_df_train, stock_prices=spot_df_train, num_of_timestep=num_of_timestep,\n",
        "               dstilde=delta_s_tilde_train, dctilde=delta_c_tilde_train)  # set up the problem\n",
        "eps = 0.4\n",
        "eps_decay = 0.95\n",
        "min_eps = 0.1\n",
        "lr = 0.01\n",
        "#gamma = np.exp(-r * hedge.option.delta_t)"
      ],
      "metadata": {
        "id": "GMQ8UYgWnTaz"
      },
      "execution_count": 18,
      "outputs": []
    },
    {
      "cell_type": "code",
      "source": [
        "# Set up the NN model\n",
        "Qmodel = Sequential()\n",
        "\n",
        "# Add input layer with three nodes (input_dim=3)\n",
        "Qmodel.add(Dense(units=8, input_dim=3, activation='relu'))\n",
        "\n",
        "# Add two hidden layer with 16 nodes\n",
        "#for layer in range (2):\n",
        "Qmodel.add(Dense(units=16, activation='relu')) ##leaky_relu\n",
        "#Qmodel.add(Dense(units=16, activation='relu'))\n",
        "\n",
        "Qmodel.add(Dense(units=8, activation='tanh'))\n",
        "# Add output layer with one node\n",
        "Qmodel.add(Dense(units=1, activation='linear'))\n",
        "\n",
        "# Compile the model\n",
        "Qmodel.compile(optimizer=keras.optimizers.Adam(learning_rate=0.01),\n",
        "               loss='mean_squared_error')\n",
        "\n",
        "# Display the model summary\n",
        "Qmodel.summary()\n",
        "#Qmodel = tf.keras.models.load_model('qmodel_20231206.keras')"
      ],
      "metadata": {
        "colab": {
          "base_uri": "https://localhost:8080/"
        },
        "id": "dWaUH7vxrTuF",
        "outputId": "1f4ca6ef-7493-41f5-b46a-18f4dfa01983"
      },
      "execution_count": 19,
      "outputs": [
        {
          "output_type": "stream",
          "name": "stdout",
          "text": [
            "Model: \"sequential\"\n",
            "_________________________________________________________________\n",
            " Layer (type)                Output Shape              Param #   \n",
            "=================================================================\n",
            " dense (Dense)               (None, 8)                 32        \n",
            "                                                                 \n",
            " dense_1 (Dense)             (None, 16)                144       \n",
            "                                                                 \n",
            " dense_2 (Dense)             (None, 8)                 136       \n",
            "                                                                 \n",
            " dense_3 (Dense)             (None, 1)                 9         \n",
            "                                                                 \n",
            "=================================================================\n",
            "Total params: 321\n",
            "Trainable params: 321\n",
            "Non-trainable params: 0\n",
            "_________________________________________________________________\n"
          ]
        }
      ]
    },
    {
      "cell_type": "code",
      "source": [
        "def greedy(spot, maturity, Qmodel, hedge):\n",
        "  if abs(maturity) < 0.001:\n",
        "    return (None, 0)\n",
        "  greedy_action = None\n",
        "  best_Q = float('-inf')\n",
        "  for action in hedge.A:\n",
        "    input_data = tf.constant([[spot, maturity, action]])\n",
        "    Qvalue = Qmodel.predict(input_data, verbose=0)[0, 0]\n",
        "    # print(action)\n",
        "    # print(Qvalue)\n",
        "    if Qvalue > best_Q:\n",
        "      greedy_action = action\n",
        "      best_Q = Qvalue\n",
        "\n",
        "  return (greedy_action, best_Q)"
      ],
      "metadata": {
        "id": "5BagUaV0t69c"
      },
      "execution_count": 20,
      "outputs": []
    },
    {
      "cell_type": "code",
      "source": [
        "def find_nearest(array, value):\n",
        "    array = np.asarray(array)\n",
        "    idx = (np.abs(array - value)).argmin()\n",
        "    return array[idx]"
      ],
      "metadata": {
        "id": "8BzAcUcyoUm8"
      },
      "execution_count": 21,
      "outputs": []
    },
    {
      "cell_type": "code",
      "source": [
        "replay_memory = ReplayMemory(max_length=10000)\n",
        "batch_size = 50  # number of samples to draw for experience replay\n",
        "min_length = 500  # minimum length of replay memory before training starts"
      ],
      "metadata": {
        "id": "7Gi0dp3H_ssy"
      },
      "execution_count": 22,
      "outputs": []
    },
    {
      "cell_type": "markdown",
      "source": [],
      "metadata": {
        "id": "RJGVY2OPol4J"
      }
    },
    {
      "cell_type": "code",
      "source": [
        "n_simulations = 10\n",
        "\n",
        "for simulation in tqdm(range(10, 15)):\n",
        "  checkpoint_path = f\"cp{simulation}.ckpt\"\n",
        "  cp_callback = tf.keras.callbacks.ModelCheckpoint(filepath=checkpoint_path,\n",
        "                                                   verbose=1, save_weights_only=False, save_freq=5)\n",
        "  spot = hedge.option.s0\n",
        "  maturity = hedge.option.expiry\n",
        "\n",
        "  for day in range (hedge.num_of_timestep):\n",
        "    if len(replay_memory) >= min_length:\n",
        "      if random.random() < eps:\n",
        "        action = random.choice(hedge.A)\n",
        "      else:\n",
        "        action = greedy(spot, maturity, Qmodel, hedge)[0]\n",
        "        print(action)\n",
        "    else:\n",
        "        delta_value = -1 * hedge.greekd.iloc[simulation, day]\n",
        "        action = find_nearest(hedge.A, delta_value)\n",
        "\n",
        "    rwrd = hedge.R(simulation, day, action)\n",
        "    (next_spot, next_maturity) = hedge.T(simulation, day, maturity)\n",
        "\n",
        "    memory = Memory(spot, maturity, action, next_spot, next_maturity, rwrd)\n",
        "    replay_memory.store(memory)\n",
        "\n",
        "    if len(replay_memory) >= min_length:\n",
        "      batch = replay_memory.structured_sample(batch_size) # get samples from the replay memory\n",
        "      input_data = []\n",
        "      targets = []\n",
        "      for replay_sample in range (batch_size):\n",
        "        input_data.append([batch['spot'][replay_sample],\n",
        "                           batch['maturity'][replay_sample],\n",
        "                           batch['action'][replay_sample]])\n",
        "        Q_star = batch['reward'][replay_sample] + gamma * greedy(batch['next_spot'][replay_sample],\n",
        "                                                         batch['next_maturity'][replay_sample],\n",
        "                                                         Qmodel, hedge)[1]\n",
        "        targets.append([Q_star])\n",
        "\n",
        "      input_data = tf.constant(input_data)\n",
        "      targets = tf.constant(targets)\n",
        "      Qmodel.fit(input_data, targets, epochs=1, batch_size=batch_size, verbose=1, callbacks=[cp_callback])\n",
        "\n",
        "    (spot, maturity) = (next_spot, next_maturity)\n",
        "\n",
        "  eps = max(min_eps, eps * eps_decay)"
      ],
      "metadata": {
        "id": "ykcya-fJoWBW",
        "colab": {
          "base_uri": "https://localhost:8080/",
          "height": 840,
          "referenced_widgets": [
            "1e5cea66c8e34a538f608da22ee10a83",
            "f574a59436974550b6d27337a6728516",
            "2af491330f8a412881d8a86f802d5e69",
            "fafcad3e01464e61a77ecf8c2c3c4571",
            "8a6bab4fc90a419b88484b89d485ac52",
            "9d55e04487a34ca1bd2aa43e79144e70",
            "7b5248f355064d81a3c26ab04c953bb1",
            "212e978624784f5981f8b4c6196bac72",
            "a6d1b5dac0e345c7b1dd31f165746cf4",
            "1b0e644bd1804743ba16a244708b95b3",
            "e2a75a5c12d44a56b59ae9f7ec102604"
          ]
        },
        "outputId": "0aa8fa09-dd76-4364-847e-acb19287d460"
      },
      "execution_count": 33,
      "outputs": [
        {
          "data": {
            "application/vnd.jupyter.widget-view+json": {
              "model_id": "1e5cea66c8e34a538f608da22ee10a83",
              "version_major": 2,
              "version_minor": 0
            },
            "text/plain": [
              "  0%|          | 0/5 [00:00<?, ?it/s]"
            ]
          },
          "metadata": {},
          "output_type": "display_data"
        },
        {
          "output_type": "stream",
          "name": "stdout",
          "text": [
            "-1.1\n",
            "1/1 [==============================] - 0s 6ms/step - loss: 0.0548\n",
            "-1.1\n",
            "1/1 [==============================] - 0s 6ms/step - loss: 0.0807\n",
            "-1.1\n",
            "1/1 [==============================] - 0s 6ms/step - loss: 0.0546\n",
            "-1.1\n",
            "1/1 [==============================] - 0s 6ms/step - loss: 0.0634\n",
            "-1.1\n",
            "\n",
            "Epoch 1: saving model to cp10.ckpt\n",
            "1/1 [==============================] - 1s 755ms/step - loss: 0.1287\n",
            "-1.1\n",
            "1/1 [==============================] - 0s 6ms/step - loss: 0.0161\n",
            "-1.1\n",
            "1/1 [==============================] - 0s 6ms/step - loss: 0.0993\n",
            "1/1 [==============================] - 0s 6ms/step - loss: 0.0909\n",
            "-1.1\n",
            "1/1 [==============================] - 0s 6ms/step - loss: 0.0364\n",
            "\n",
            "Epoch 1: saving model to cp10.ckpt\n",
            "1/1 [==============================] - 1s 739ms/step - loss: 0.1008\n",
            "1/1 [==============================] - 0s 6ms/step - loss: 0.0312\n",
            "1/1 [==============================] - 0s 6ms/step - loss: 0.1134\n"
          ]
        },
        {
          "output_type": "error",
          "ename": "KeyboardInterrupt",
          "evalue": "ignored",
          "traceback": [
            "\u001b[0;31m---------------------------------------------------------------------------\u001b[0m",
            "\u001b[0;31mKeyboardInterrupt\u001b[0m                         Traceback (most recent call last)",
            "\u001b[0;32m<ipython-input-33-124e4d01d4d9>\u001b[0m in \u001b[0;36m<cell line: 3>\u001b[0;34m()\u001b[0m\n\u001b[1;32m     33\u001b[0m                            \u001b[0mbatch\u001b[0m\u001b[0;34m[\u001b[0m\u001b[0;34m'maturity'\u001b[0m\u001b[0;34m]\u001b[0m\u001b[0;34m[\u001b[0m\u001b[0mreplay_sample\u001b[0m\u001b[0;34m]\u001b[0m\u001b[0;34m,\u001b[0m\u001b[0;34m\u001b[0m\u001b[0;34m\u001b[0m\u001b[0m\n\u001b[1;32m     34\u001b[0m                            batch['action'][replay_sample]])\n\u001b[0;32m---> 35\u001b[0;31m         Q_star = batch['reward'][replay_sample] + gamma * greedy(batch['next_spot'][replay_sample],\n\u001b[0m\u001b[1;32m     36\u001b[0m                                                          \u001b[0mbatch\u001b[0m\u001b[0;34m[\u001b[0m\u001b[0;34m'next_maturity'\u001b[0m\u001b[0;34m]\u001b[0m\u001b[0;34m[\u001b[0m\u001b[0mreplay_sample\u001b[0m\u001b[0;34m]\u001b[0m\u001b[0;34m,\u001b[0m\u001b[0;34m\u001b[0m\u001b[0;34m\u001b[0m\u001b[0m\n\u001b[1;32m     37\u001b[0m                                                          Qmodel, hedge)[1]\n",
            "\u001b[0;32m<ipython-input-20-2c0a194e345f>\u001b[0m in \u001b[0;36mgreedy\u001b[0;34m(spot, maturity, Qmodel, hedge)\u001b[0m\n\u001b[1;32m      6\u001b[0m   \u001b[0;32mfor\u001b[0m \u001b[0maction\u001b[0m \u001b[0;32min\u001b[0m \u001b[0mhedge\u001b[0m\u001b[0;34m.\u001b[0m\u001b[0mA\u001b[0m\u001b[0;34m:\u001b[0m\u001b[0;34m\u001b[0m\u001b[0;34m\u001b[0m\u001b[0m\n\u001b[1;32m      7\u001b[0m     \u001b[0minput_data\u001b[0m \u001b[0;34m=\u001b[0m \u001b[0mtf\u001b[0m\u001b[0;34m.\u001b[0m\u001b[0mconstant\u001b[0m\u001b[0;34m(\u001b[0m\u001b[0;34m[\u001b[0m\u001b[0;34m[\u001b[0m\u001b[0mspot\u001b[0m\u001b[0;34m,\u001b[0m \u001b[0mmaturity\u001b[0m\u001b[0;34m,\u001b[0m \u001b[0maction\u001b[0m\u001b[0;34m]\u001b[0m\u001b[0;34m]\u001b[0m\u001b[0;34m)\u001b[0m\u001b[0;34m\u001b[0m\u001b[0;34m\u001b[0m\u001b[0m\n\u001b[0;32m----> 8\u001b[0;31m     \u001b[0mQvalue\u001b[0m \u001b[0;34m=\u001b[0m \u001b[0mQmodel\u001b[0m\u001b[0;34m.\u001b[0m\u001b[0mpredict\u001b[0m\u001b[0;34m(\u001b[0m\u001b[0minput_data\u001b[0m\u001b[0;34m,\u001b[0m \u001b[0mverbose\u001b[0m\u001b[0;34m=\u001b[0m\u001b[0;36m0\u001b[0m\u001b[0;34m)\u001b[0m\u001b[0;34m[\u001b[0m\u001b[0;36m0\u001b[0m\u001b[0;34m,\u001b[0m \u001b[0;36m0\u001b[0m\u001b[0;34m]\u001b[0m\u001b[0;34m\u001b[0m\u001b[0;34m\u001b[0m\u001b[0m\n\u001b[0m\u001b[1;32m      9\u001b[0m     \u001b[0;31m# print(action)\u001b[0m\u001b[0;34m\u001b[0m\u001b[0;34m\u001b[0m\u001b[0m\n\u001b[1;32m     10\u001b[0m     \u001b[0;31m# print(Qvalue)\u001b[0m\u001b[0;34m\u001b[0m\u001b[0;34m\u001b[0m\u001b[0m\n",
            "\u001b[0;32m/usr/local/lib/python3.10/dist-packages/keras/utils/traceback_utils.py\u001b[0m in \u001b[0;36merror_handler\u001b[0;34m(*args, **kwargs)\u001b[0m\n\u001b[1;32m     63\u001b[0m         \u001b[0mfiltered_tb\u001b[0m \u001b[0;34m=\u001b[0m \u001b[0;32mNone\u001b[0m\u001b[0;34m\u001b[0m\u001b[0;34m\u001b[0m\u001b[0m\n\u001b[1;32m     64\u001b[0m         \u001b[0;32mtry\u001b[0m\u001b[0;34m:\u001b[0m\u001b[0;34m\u001b[0m\u001b[0;34m\u001b[0m\u001b[0m\n\u001b[0;32m---> 65\u001b[0;31m             \u001b[0;32mreturn\u001b[0m \u001b[0mfn\u001b[0m\u001b[0;34m(\u001b[0m\u001b[0;34m*\u001b[0m\u001b[0margs\u001b[0m\u001b[0;34m,\u001b[0m \u001b[0;34m**\u001b[0m\u001b[0mkwargs\u001b[0m\u001b[0;34m)\u001b[0m\u001b[0;34m\u001b[0m\u001b[0;34m\u001b[0m\u001b[0m\n\u001b[0m\u001b[1;32m     66\u001b[0m         \u001b[0;32mexcept\u001b[0m \u001b[0mException\u001b[0m \u001b[0;32mas\u001b[0m \u001b[0me\u001b[0m\u001b[0;34m:\u001b[0m\u001b[0;34m\u001b[0m\u001b[0;34m\u001b[0m\u001b[0m\n\u001b[1;32m     67\u001b[0m             \u001b[0mfiltered_tb\u001b[0m \u001b[0;34m=\u001b[0m \u001b[0m_process_traceback_frames\u001b[0m\u001b[0;34m(\u001b[0m\u001b[0me\u001b[0m\u001b[0;34m.\u001b[0m\u001b[0m__traceback__\u001b[0m\u001b[0;34m)\u001b[0m\u001b[0;34m\u001b[0m\u001b[0;34m\u001b[0m\u001b[0m\n",
            "\u001b[0;32m/usr/local/lib/python3.10/dist-packages/keras/engine/training.py\u001b[0m in \u001b[0;36mpredict\u001b[0;34m(self, x, batch_size, verbose, steps, callbacks, max_queue_size, workers, use_multiprocessing)\u001b[0m\n\u001b[1;32m   2376\u001b[0m             \u001b[0mcallbacks\u001b[0m\u001b[0;34m.\u001b[0m\u001b[0mon_predict_begin\u001b[0m\u001b[0;34m(\u001b[0m\u001b[0;34m)\u001b[0m\u001b[0;34m\u001b[0m\u001b[0;34m\u001b[0m\u001b[0m\n\u001b[1;32m   2377\u001b[0m             \u001b[0mbatch_outputs\u001b[0m \u001b[0;34m=\u001b[0m \u001b[0;32mNone\u001b[0m\u001b[0;34m\u001b[0m\u001b[0;34m\u001b[0m\u001b[0m\n\u001b[0;32m-> 2378\u001b[0;31m             \u001b[0;32mfor\u001b[0m \u001b[0m_\u001b[0m\u001b[0;34m,\u001b[0m \u001b[0miterator\u001b[0m \u001b[0;32min\u001b[0m \u001b[0mdata_handler\u001b[0m\u001b[0;34m.\u001b[0m\u001b[0menumerate_epochs\u001b[0m\u001b[0;34m(\u001b[0m\u001b[0;34m)\u001b[0m\u001b[0;34m:\u001b[0m  \u001b[0;31m# Single epoch.\u001b[0m\u001b[0;34m\u001b[0m\u001b[0;34m\u001b[0m\u001b[0m\n\u001b[0m\u001b[1;32m   2379\u001b[0m                 \u001b[0;32mwith\u001b[0m \u001b[0mdata_handler\u001b[0m\u001b[0;34m.\u001b[0m\u001b[0mcatch_stop_iteration\u001b[0m\u001b[0;34m(\u001b[0m\u001b[0;34m)\u001b[0m\u001b[0;34m:\u001b[0m\u001b[0;34m\u001b[0m\u001b[0;34m\u001b[0m\u001b[0m\n\u001b[1;32m   2380\u001b[0m                     \u001b[0;32mfor\u001b[0m \u001b[0mstep\u001b[0m \u001b[0;32min\u001b[0m \u001b[0mdata_handler\u001b[0m\u001b[0;34m.\u001b[0m\u001b[0msteps\u001b[0m\u001b[0;34m(\u001b[0m\u001b[0;34m)\u001b[0m\u001b[0;34m:\u001b[0m\u001b[0;34m\u001b[0m\u001b[0;34m\u001b[0m\u001b[0m\n",
            "\u001b[0;32m/usr/local/lib/python3.10/dist-packages/keras/engine/data_adapter.py\u001b[0m in \u001b[0;36menumerate_epochs\u001b[0;34m(self)\u001b[0m\n\u001b[1;32m   1303\u001b[0m         \u001b[0;34m\"\"\"Yields `(epoch, tf.data.Iterator)`.\"\"\"\u001b[0m\u001b[0;34m\u001b[0m\u001b[0;34m\u001b[0m\u001b[0m\n\u001b[1;32m   1304\u001b[0m         \u001b[0;32mwith\u001b[0m \u001b[0mself\u001b[0m\u001b[0;34m.\u001b[0m\u001b[0m_truncate_execution_to_epoch\u001b[0m\u001b[0;34m(\u001b[0m\u001b[0;34m)\u001b[0m\u001b[0;34m:\u001b[0m\u001b[0;34m\u001b[0m\u001b[0;34m\u001b[0m\u001b[0m\n\u001b[0;32m-> 1305\u001b[0;31m             \u001b[0mdata_iterator\u001b[0m \u001b[0;34m=\u001b[0m \u001b[0miter\u001b[0m\u001b[0;34m(\u001b[0m\u001b[0mself\u001b[0m\u001b[0;34m.\u001b[0m\u001b[0m_dataset\u001b[0m\u001b[0;34m)\u001b[0m\u001b[0;34m\u001b[0m\u001b[0;34m\u001b[0m\u001b[0m\n\u001b[0m\u001b[1;32m   1306\u001b[0m             \u001b[0;32mfor\u001b[0m \u001b[0mepoch\u001b[0m \u001b[0;32min\u001b[0m \u001b[0mrange\u001b[0m\u001b[0;34m(\u001b[0m\u001b[0mself\u001b[0m\u001b[0;34m.\u001b[0m\u001b[0m_initial_epoch\u001b[0m\u001b[0;34m,\u001b[0m \u001b[0mself\u001b[0m\u001b[0;34m.\u001b[0m\u001b[0m_epochs\u001b[0m\u001b[0;34m)\u001b[0m\u001b[0;34m:\u001b[0m\u001b[0;34m\u001b[0m\u001b[0;34m\u001b[0m\u001b[0m\n\u001b[1;32m   1307\u001b[0m                 \u001b[0;32mif\u001b[0m \u001b[0mself\u001b[0m\u001b[0;34m.\u001b[0m\u001b[0m_insufficient_data\u001b[0m\u001b[0;34m:\u001b[0m  \u001b[0;31m# Set by `catch_stop_iteration`.\u001b[0m\u001b[0;34m\u001b[0m\u001b[0;34m\u001b[0m\u001b[0m\n",
            "\u001b[0;32m/usr/local/lib/python3.10/dist-packages/tensorflow/python/data/ops/dataset_ops.py\u001b[0m in \u001b[0;36m__iter__\u001b[0;34m(self)\u001b[0m\n\u001b[1;32m    503\u001b[0m     \u001b[0;32mif\u001b[0m \u001b[0mcontext\u001b[0m\u001b[0;34m.\u001b[0m\u001b[0mexecuting_eagerly\u001b[0m\u001b[0;34m(\u001b[0m\u001b[0;34m)\u001b[0m \u001b[0;32mor\u001b[0m \u001b[0mops\u001b[0m\u001b[0;34m.\u001b[0m\u001b[0minside_function\u001b[0m\u001b[0;34m(\u001b[0m\u001b[0;34m)\u001b[0m\u001b[0;34m:\u001b[0m\u001b[0;34m\u001b[0m\u001b[0;34m\u001b[0m\u001b[0m\n\u001b[1;32m    504\u001b[0m       \u001b[0;32mwith\u001b[0m \u001b[0mops\u001b[0m\u001b[0;34m.\u001b[0m\u001b[0mcolocate_with\u001b[0m\u001b[0;34m(\u001b[0m\u001b[0mself\u001b[0m\u001b[0;34m.\u001b[0m\u001b[0m_variant_tensor\u001b[0m\u001b[0;34m)\u001b[0m\u001b[0;34m:\u001b[0m\u001b[0;34m\u001b[0m\u001b[0;34m\u001b[0m\u001b[0m\n\u001b[0;32m--> 505\u001b[0;31m         \u001b[0;32mreturn\u001b[0m \u001b[0miterator_ops\u001b[0m\u001b[0;34m.\u001b[0m\u001b[0mOwnedIterator\u001b[0m\u001b[0;34m(\u001b[0m\u001b[0mself\u001b[0m\u001b[0;34m)\u001b[0m\u001b[0;34m\u001b[0m\u001b[0;34m\u001b[0m\u001b[0m\n\u001b[0m\u001b[1;32m    506\u001b[0m     \u001b[0;32melse\u001b[0m\u001b[0;34m:\u001b[0m\u001b[0;34m\u001b[0m\u001b[0;34m\u001b[0m\u001b[0m\n\u001b[1;32m    507\u001b[0m       raise RuntimeError(\"`tf.data.Dataset` only supports Python-style \"\n",
            "\u001b[0;32m/usr/local/lib/python3.10/dist-packages/tensorflow/python/data/ops/iterator_ops.py\u001b[0m in \u001b[0;36m__init__\u001b[0;34m(self, dataset, components, element_spec)\u001b[0m\n\u001b[1;32m    711\u001b[0m             \u001b[0;34m\"When `dataset` is provided, `element_spec` and `components` must \"\u001b[0m\u001b[0;34m\u001b[0m\u001b[0;34m\u001b[0m\u001b[0m\n\u001b[1;32m    712\u001b[0m             \"not be specified.\")\n\u001b[0;32m--> 713\u001b[0;31m       \u001b[0mself\u001b[0m\u001b[0;34m.\u001b[0m\u001b[0m_create_iterator\u001b[0m\u001b[0;34m(\u001b[0m\u001b[0mdataset\u001b[0m\u001b[0;34m)\u001b[0m\u001b[0;34m\u001b[0m\u001b[0;34m\u001b[0m\u001b[0m\n\u001b[0m\u001b[1;32m    714\u001b[0m \u001b[0;34m\u001b[0m\u001b[0m\n\u001b[1;32m    715\u001b[0m     \u001b[0mself\u001b[0m\u001b[0;34m.\u001b[0m\u001b[0m_get_next_call_count\u001b[0m \u001b[0;34m=\u001b[0m \u001b[0;36m0\u001b[0m\u001b[0;34m\u001b[0m\u001b[0;34m\u001b[0m\u001b[0m\n",
            "\u001b[0;32m/usr/local/lib/python3.10/dist-packages/tensorflow/python/data/ops/iterator_ops.py\u001b[0m in \u001b[0;36m_create_iterator\u001b[0;34m(self, dataset)\u001b[0m\n\u001b[1;32m    750\u001b[0m             self._flat_output_types)\n\u001b[1;32m    751\u001b[0m         \u001b[0mself\u001b[0m\u001b[0;34m.\u001b[0m\u001b[0m_iterator_resource\u001b[0m\u001b[0;34m.\u001b[0m\u001b[0mop\u001b[0m\u001b[0;34m.\u001b[0m\u001b[0mexperimental_set_type\u001b[0m\u001b[0;34m(\u001b[0m\u001b[0mfulltype\u001b[0m\u001b[0;34m)\u001b[0m\u001b[0;34m\u001b[0m\u001b[0;34m\u001b[0m\u001b[0m\n\u001b[0;32m--> 752\u001b[0;31m       \u001b[0mgen_dataset_ops\u001b[0m\u001b[0;34m.\u001b[0m\u001b[0mmake_iterator\u001b[0m\u001b[0;34m(\u001b[0m\u001b[0mds_variant\u001b[0m\u001b[0;34m,\u001b[0m \u001b[0mself\u001b[0m\u001b[0;34m.\u001b[0m\u001b[0m_iterator_resource\u001b[0m\u001b[0;34m)\u001b[0m\u001b[0;34m\u001b[0m\u001b[0;34m\u001b[0m\u001b[0m\n\u001b[0m\u001b[1;32m    753\u001b[0m \u001b[0;34m\u001b[0m\u001b[0m\n\u001b[1;32m    754\u001b[0m   \u001b[0;32mdef\u001b[0m \u001b[0m__iter__\u001b[0m\u001b[0;34m(\u001b[0m\u001b[0mself\u001b[0m\u001b[0;34m)\u001b[0m\u001b[0;34m:\u001b[0m\u001b[0;34m\u001b[0m\u001b[0;34m\u001b[0m\u001b[0m\n",
            "\u001b[0;32m/usr/local/lib/python3.10/dist-packages/tensorflow/python/ops/gen_dataset_ops.py\u001b[0m in \u001b[0;36mmake_iterator\u001b[0;34m(dataset, iterator, name)\u001b[0m\n\u001b[1;32m   3406\u001b[0m   \u001b[0;32mif\u001b[0m \u001b[0mtld\u001b[0m\u001b[0;34m.\u001b[0m\u001b[0mis_eager\u001b[0m\u001b[0;34m:\u001b[0m\u001b[0;34m\u001b[0m\u001b[0;34m\u001b[0m\u001b[0m\n\u001b[1;32m   3407\u001b[0m     \u001b[0;32mtry\u001b[0m\u001b[0;34m:\u001b[0m\u001b[0;34m\u001b[0m\u001b[0;34m\u001b[0m\u001b[0m\n\u001b[0;32m-> 3408\u001b[0;31m       _result = pywrap_tfe.TFE_Py_FastPathExecute(\n\u001b[0m\u001b[1;32m   3409\u001b[0m         _ctx, \"MakeIterator\", name, dataset, iterator)\n\u001b[1;32m   3410\u001b[0m       \u001b[0;32mreturn\u001b[0m \u001b[0m_result\u001b[0m\u001b[0;34m\u001b[0m\u001b[0;34m\u001b[0m\u001b[0m\n",
            "\u001b[0;31mKeyboardInterrupt\u001b[0m: "
          ]
        }
      ]
    },
    {
      "cell_type": "code",
      "source": [
        "Qmodel.save('qmodel_20231206.keras')"
      ],
      "metadata": {
        "id": "Cv_hNZKVLGlr"
      },
      "execution_count": null,
      "outputs": []
    },
    {
      "cell_type": "code",
      "source": [
        "###load model and check the performance in test data\n",
        "loaded_model = tf.keras.models.load_model('qmodel_20231206.keras')\n",
        "#loaded_model = tf.keras.models.load_model(f'cp{n_simulations-1}.ckpt')"
      ],
      "metadata": {
        "id": "H_ePeSFAMuMx"
      },
      "execution_count": 24,
      "outputs": []
    },
    {
      "cell_type": "code",
      "source": [
        "def calc_reward_(mode = 'ql', n_evals=10):\n",
        "  hedge_eval = HedgingProblem(ds=delta_s_test, dc=delta_c_test, greekd=delta_df_test, stock_prices=spot_df_test, num_of_timestep=num_of_timestep,\n",
        "                dstilde=delta_s_tilde_test, dctilde=delta_c_tilde_test)  # set up the problem\n",
        "\n",
        "  reward_calc = pd.DataFrame([], index=delta_s_test.index, columns=range(num_of_timestep))\n",
        "  action_calc = pd.DataFrame([], index=delta_s_test.index, columns=range(num_of_timestep))\n",
        "  for eval in tqdm(range(n_evals)):\n",
        "    spot = hedge_eval.option.s0\n",
        "    maturity = hedge_eval.option.expiry\n",
        "\n",
        "    for day in range (hedge.num_of_timestep):\n",
        "      if mode == 'ql':\n",
        "        action = greedy(spot, maturity, loaded_model, hedge_eval)[0]\n",
        "      elif mode == 'delta':\n",
        "        delta_value = -1 * delta_df_test.iloc[eval, day]\n",
        "        action = find_nearest(hedge_eval.A, delta_value)\n",
        "      else:\n",
        "        raise Exception('the mode is not supported')\n",
        "\n",
        "      action_calc.iloc[eval, day] = action\n",
        "      rwrd = hedge_eval.R(eval, day, action)\n",
        "      reward_calc.iloc[eval, day] = rwrd\n",
        "\n",
        "      (next_spot, next_maturity) = hedge_eval.T(eval, day, maturity)\n",
        "      (spot, maturity) = (next_spot, next_maturity)\n",
        "\n",
        "  return reward_calc, action_calc"
      ],
      "metadata": {
        "id": "JBWy0s_xSHov"
      },
      "execution_count": 25,
      "outputs": []
    },
    {
      "cell_type": "code",
      "source": [
        "def calc_total_reward(reward_calc):\n",
        "  reward_calc = reward_calc.copy()\n",
        "  total_reward = 0.0\n",
        "  for t in range(num_of_timestep):\n",
        "      total_reward = total_reward + np.exp(-r * delta_t * t) * reward_calc.loc[:,t].mean()\n",
        "  return total_reward"
      ],
      "metadata": {
        "id": "YBDers4kjMq2"
      },
      "execution_count": 26,
      "outputs": []
    },
    {
      "cell_type": "code",
      "source": [
        "reward_q, action_q = calc_reward_(mode = 'ql', n_evals=10)"
      ],
      "metadata": {
        "colab": {
          "base_uri": "https://localhost:8080/",
          "height": 49,
          "referenced_widgets": [
            "d4f59b7f02fc49f7a1eb18390f34b5c3",
            "87d057bb1bb94ee09fc07defa5b47033",
            "4a07c8c260844a48ac3cd70a072b4255",
            "3d1ed880b6e1458cb2e5d21ddf4f934b",
            "9e53c6f4823d453ba2ffeb01372f572f",
            "4e4f97f19c584604958822a292d6aafd",
            "85858143aade40f5a591fb4ee6889668",
            "e06b55b3952848779aa8e1f0cca64f42",
            "308c87301ca745c38ae8f2db0933f37d",
            "538037f0c5c94e2598643938aa515ab8",
            "e0882fc1aa0043508f41edc2a4d0e8f1"
          ]
        },
        "id": "4QQfpeYfl6oh",
        "outputId": "a70cf068-763b-4bb0-dfb3-922761c994db"
      },
      "execution_count": 27,
      "outputs": [
        {
          "output_type": "display_data",
          "data": {
            "text/plain": [
              "  0%|          | 0/10 [00:00<?, ?it/s]"
            ],
            "application/vnd.jupyter.widget-view+json": {
              "version_major": 2,
              "version_minor": 0,
              "model_id": "d4f59b7f02fc49f7a1eb18390f34b5c3"
            }
          },
          "metadata": {}
        }
      ]
    },
    {
      "cell_type": "code",
      "source": [
        "reward_delta, action_delta = calc_reward_(mode = 'delta', n_evals=10)"
      ],
      "metadata": {
        "colab": {
          "base_uri": "https://localhost:8080/",
          "height": 49,
          "referenced_widgets": [
            "222d20bedd3441feac5a016efa451f95",
            "1a220cdd84434cb7a96e2b1e6af9bee8",
            "a14b7b409cc14bc2b89378b84417f4f5",
            "aac6e4bcd79a4b6db99160f41e32c23d",
            "295e06b7682e4f489c8f86e5200ac801",
            "d7c10e80b5644497b7549b762b9dc209",
            "023cb67248834e38bcff45a9e6cf0312",
            "04aa9f6f9db24f1b8b029b3a18f4dd52",
            "f4d1dcd144c04e4d89c98344485c383d",
            "7c8c60268a6a4e2f83998c0797abbee2",
            "731b0623977d4b2da9164b33d8322458"
          ]
        },
        "id": "dy1--SdTn42C",
        "outputId": "5c46cc05-01bd-4d64-bc0c-6a592cd2cf39"
      },
      "execution_count": 28,
      "outputs": [
        {
          "output_type": "display_data",
          "data": {
            "text/plain": [
              "  0%|          | 0/10 [00:00<?, ?it/s]"
            ],
            "application/vnd.jupyter.widget-view+json": {
              "version_major": 2,
              "version_minor": 0,
              "model_id": "222d20bedd3441feac5a016efa451f95"
            }
          },
          "metadata": {}
        }
      ]
    },
    {
      "cell_type": "code",
      "source": [
        "total_reward_q = calc_total_reward(reward_q)\n",
        "total_reward_delta = calc_total_reward(reward_delta)\n",
        "\n",
        "total_reward_q, total_reward_delta"
      ],
      "metadata": {
        "colab": {
          "base_uri": "https://localhost:8080/"
        },
        "id": "2arLd-Owh6gR",
        "outputId": "b944127b-099e-4cf0-c8f5-c696756daadf"
      },
      "execution_count": 29,
      "outputs": [
        {
          "output_type": "execute_result",
          "data": {
            "text/plain": [
              "(-0.7836212936073974, -0.053355171795848276)"
            ]
          },
          "metadata": {},
          "execution_count": 29
        }
      ]
    },
    {
      "cell_type": "code",
      "source": [
        "data=[\n",
        "    go.Scatter(x=action_delta.columns, y=action_delta.mean(axis=0).values, line=dict(dash='dash'),  name='Delta hedge'),\n",
        "    go.Scatter(x=action_q.columns, y=action_q.mean(axis=0).values, name='Q-Learning hedge'),\n",
        "]\n",
        "layout=go.Layout(\n",
        "        title=go.layout.Title(text='Average hedge each timestep', x=0.5),\n",
        "        width=800,\n",
        "        height=400\n",
        "    )\n",
        "fig = go.Figure(data=data, layout=layout)\n",
        "fig.show()"
      ],
      "metadata": {
        "colab": {
          "base_uri": "https://localhost:8080/",
          "height": 417
        },
        "id": "S5KVCf_HoKQN",
        "outputId": "afb912e4-351f-4199-c034-94fb82f71563"
      },
      "execution_count": 33,
      "outputs": [
        {
          "output_type": "display_data",
          "data": {
            "text/html": [
              "<html>\n",
              "<head><meta charset=\"utf-8\" /></head>\n",
              "<body>\n",
              "    <div>            <script src=\"https://cdnjs.cloudflare.com/ajax/libs/mathjax/2.7.5/MathJax.js?config=TeX-AMS-MML_SVG\"></script><script type=\"text/javascript\">if (window.MathJax && window.MathJax.Hub && window.MathJax.Hub.Config) {window.MathJax.Hub.Config({SVG: {font: \"STIX-Web\"}});}</script>                <script type=\"text/javascript\">window.PlotlyConfig = {MathJaxConfig: 'local'};</script>\n",
              "        <script charset=\"utf-8\" src=\"https://cdn.plot.ly/plotly-2.24.1.min.js\"></script>                <div id=\"bfaac4c1-f89b-45eb-bce5-297ff7d1dcdc\" class=\"plotly-graph-div\" style=\"height:400px; width:800px;\"></div>            <script type=\"text/javascript\">                                    window.PLOTLYENV=window.PLOTLYENV || {};                                    if (document.getElementById(\"bfaac4c1-f89b-45eb-bce5-297ff7d1dcdc\")) {                    Plotly.newPlot(                        \"bfaac4c1-f89b-45eb-bce5-297ff7d1dcdc\",                        [{\"line\":{\"dash\":\"dash\"},\"name\":\"Delta hedge\",\"x\":[0,1,2,3,4,5,6,7,8,9,10,11,12,13,14,15,16,17,18,19,20,21,22,23,24,25,26,27,28,29,30,31,32,33,34,35,36,37,38,39,40,41,42,43,44,45,46,47,48,49,50,51,52,53,54,55,56,57,58,59,60,61,62],\"y\":[-0.5999999999999996,-0.5399999999999997,-0.5199999999999996,-0.5799999999999997,-0.5799999999999995,-0.5999999999999996,-0.5899999999999996,-0.5799999999999995,-0.5599999999999996,-0.5599999999999996,-0.5899999999999996,-0.6099999999999997,-0.5899999999999996,-0.5899999999999996,-0.6099999999999997,-0.6199999999999997,-0.6199999999999996,-0.6399999999999997,-0.6399999999999998,-0.6399999999999997,-0.6299999999999997,-0.6299999999999997,-0.6199999999999997,-0.6399999999999998,-0.6399999999999998,-0.6199999999999997,-0.5999999999999998,-0.6099999999999997,-0.5999999999999998,-0.5999999999999998,-0.6099999999999997,-0.5899999999999996,-0.5499999999999996,-0.5799999999999996,-0.5799999999999996,-0.5599999999999996,-0.5799999999999996,-0.5499999999999996,-0.5299999999999996,-0.5499999999999996,-0.5399999999999996,-0.5399999999999996,-0.5199999999999996,-0.5199999999999996,-0.5199999999999996,-0.49999999999999956,-0.4899999999999995,-0.4699999999999996,-0.4899999999999995,-0.5099999999999996,-0.5099999999999996,-0.5099999999999996,-0.4899999999999995,-0.5199999999999996,-0.5099999999999996,-0.4899999999999995,-0.5299999999999996,-0.5399999999999996,-0.5999999999999996,-0.5899999999999996,-0.5899999999999996,-0.5899999999999996,-0.5999999999999996],\"type\":\"scatter\"},{\"name\":\"Q-Learning hedge\",\"x\":[0,1,2,3,4,5,6,7,8,9,10,11,12,13,14,15,16,17,18,19,20,21,22,23,24,25,26,27,28,29,30,31,32,33,34,35,36,37,38,39,40,41,42,43,44,45,46,47,48,49,50,51,52,53,54,55,56,57,58,59,60,61,62],\"y\":[-1.0999999999999999,-1.0999999999999999,-1.0999999999999999,-1.0999999999999999,-1.0999999999999999,-1.0999999999999999,-1.0999999999999999,-1.0999999999999999,-1.0999999999999999,-1.0999999999999999,-1.0999999999999999,-1.0999999999999999,-1.0999999999999999,-1.0999999999999999,-1.0999999999999999,-1.0999999999999999,-1.0999999999999999,-1.0999999999999999,-1.0999999999999999,-1.0999999999999999,-1.0999999999999999,-1.0999999999999999,-1.0999999999999999,-1.0999999999999999,-1.0999999999999999,-1.0999999999999999,-1.0999999999999999,-1.0999999999999999,-1.0999999999999999,-1.0999999999999999,-1.0999999999999999,-1.0999999999999999,-1.0999999999999999,-1.0999999999999999,-1.0999999999999999,-1.0999999999999999,-1.0999999999999999,-1.0999999999999999,-1.0999999999999999,-1.0999999999999999,-1.0999999999999999,-1.0999999999999999,-1.0999999999999999,-1.0999999999999999,-1.0999999999999999,-1.0999999999999999,-1.0999999999999999,-1.0999999999999999,-1.0999999999999999,-1.0999999999999999,-1.0999999999999999,-1.0999999999999999,-1.0999999999999999,-1.0999999999999999,-1.0999999999999999,-1.0999999999999999,-1.0999999999999999,-1.0999999999999999,-1.0999999999999999,-1.0999999999999999,-1.0999999999999999,-1.0999999999999999,-1.0999999999999999],\"type\":\"scatter\"}],                        {\"height\":400,\"title\":{\"text\":\"Average hedge each timestep\",\"x\":0.5},\"width\":800,\"template\":{\"data\":{\"histogram2dcontour\":[{\"type\":\"histogram2dcontour\",\"colorbar\":{\"outlinewidth\":0,\"ticks\":\"\"},\"colorscale\":[[0.0,\"#0d0887\"],[0.1111111111111111,\"#46039f\"],[0.2222222222222222,\"#7201a8\"],[0.3333333333333333,\"#9c179e\"],[0.4444444444444444,\"#bd3786\"],[0.5555555555555556,\"#d8576b\"],[0.6666666666666666,\"#ed7953\"],[0.7777777777777778,\"#fb9f3a\"],[0.8888888888888888,\"#fdca26\"],[1.0,\"#f0f921\"]]}],\"choropleth\":[{\"type\":\"choropleth\",\"colorbar\":{\"outlinewidth\":0,\"ticks\":\"\"}}],\"histogram2d\":[{\"type\":\"histogram2d\",\"colorbar\":{\"outlinewidth\":0,\"ticks\":\"\"},\"colorscale\":[[0.0,\"#0d0887\"],[0.1111111111111111,\"#46039f\"],[0.2222222222222222,\"#7201a8\"],[0.3333333333333333,\"#9c179e\"],[0.4444444444444444,\"#bd3786\"],[0.5555555555555556,\"#d8576b\"],[0.6666666666666666,\"#ed7953\"],[0.7777777777777778,\"#fb9f3a\"],[0.8888888888888888,\"#fdca26\"],[1.0,\"#f0f921\"]]}],\"heatmap\":[{\"type\":\"heatmap\",\"colorbar\":{\"outlinewidth\":0,\"ticks\":\"\"},\"colorscale\":[[0.0,\"#0d0887\"],[0.1111111111111111,\"#46039f\"],[0.2222222222222222,\"#7201a8\"],[0.3333333333333333,\"#9c179e\"],[0.4444444444444444,\"#bd3786\"],[0.5555555555555556,\"#d8576b\"],[0.6666666666666666,\"#ed7953\"],[0.7777777777777778,\"#fb9f3a\"],[0.8888888888888888,\"#fdca26\"],[1.0,\"#f0f921\"]]}],\"heatmapgl\":[{\"type\":\"heatmapgl\",\"colorbar\":{\"outlinewidth\":0,\"ticks\":\"\"},\"colorscale\":[[0.0,\"#0d0887\"],[0.1111111111111111,\"#46039f\"],[0.2222222222222222,\"#7201a8\"],[0.3333333333333333,\"#9c179e\"],[0.4444444444444444,\"#bd3786\"],[0.5555555555555556,\"#d8576b\"],[0.6666666666666666,\"#ed7953\"],[0.7777777777777778,\"#fb9f3a\"],[0.8888888888888888,\"#fdca26\"],[1.0,\"#f0f921\"]]}],\"contourcarpet\":[{\"type\":\"contourcarpet\",\"colorbar\":{\"outlinewidth\":0,\"ticks\":\"\"}}],\"contour\":[{\"type\":\"contour\",\"colorbar\":{\"outlinewidth\":0,\"ticks\":\"\"},\"colorscale\":[[0.0,\"#0d0887\"],[0.1111111111111111,\"#46039f\"],[0.2222222222222222,\"#7201a8\"],[0.3333333333333333,\"#9c179e\"],[0.4444444444444444,\"#bd3786\"],[0.5555555555555556,\"#d8576b\"],[0.6666666666666666,\"#ed7953\"],[0.7777777777777778,\"#fb9f3a\"],[0.8888888888888888,\"#fdca26\"],[1.0,\"#f0f921\"]]}],\"surface\":[{\"type\":\"surface\",\"colorbar\":{\"outlinewidth\":0,\"ticks\":\"\"},\"colorscale\":[[0.0,\"#0d0887\"],[0.1111111111111111,\"#46039f\"],[0.2222222222222222,\"#7201a8\"],[0.3333333333333333,\"#9c179e\"],[0.4444444444444444,\"#bd3786\"],[0.5555555555555556,\"#d8576b\"],[0.6666666666666666,\"#ed7953\"],[0.7777777777777778,\"#fb9f3a\"],[0.8888888888888888,\"#fdca26\"],[1.0,\"#f0f921\"]]}],\"mesh3d\":[{\"type\":\"mesh3d\",\"colorbar\":{\"outlinewidth\":0,\"ticks\":\"\"}}],\"scatter\":[{\"fillpattern\":{\"fillmode\":\"overlay\",\"size\":10,\"solidity\":0.2},\"type\":\"scatter\"}],\"parcoords\":[{\"type\":\"parcoords\",\"line\":{\"colorbar\":{\"outlinewidth\":0,\"ticks\":\"\"}}}],\"scatterpolargl\":[{\"type\":\"scatterpolargl\",\"marker\":{\"colorbar\":{\"outlinewidth\":0,\"ticks\":\"\"}}}],\"bar\":[{\"error_x\":{\"color\":\"#2a3f5f\"},\"error_y\":{\"color\":\"#2a3f5f\"},\"marker\":{\"line\":{\"color\":\"#E5ECF6\",\"width\":0.5},\"pattern\":{\"fillmode\":\"overlay\",\"size\":10,\"solidity\":0.2}},\"type\":\"bar\"}],\"scattergeo\":[{\"type\":\"scattergeo\",\"marker\":{\"colorbar\":{\"outlinewidth\":0,\"ticks\":\"\"}}}],\"scatterpolar\":[{\"type\":\"scatterpolar\",\"marker\":{\"colorbar\":{\"outlinewidth\":0,\"ticks\":\"\"}}}],\"histogram\":[{\"marker\":{\"pattern\":{\"fillmode\":\"overlay\",\"size\":10,\"solidity\":0.2}},\"type\":\"histogram\"}],\"scattergl\":[{\"type\":\"scattergl\",\"marker\":{\"colorbar\":{\"outlinewidth\":0,\"ticks\":\"\"}}}],\"scatter3d\":[{\"type\":\"scatter3d\",\"line\":{\"colorbar\":{\"outlinewidth\":0,\"ticks\":\"\"}},\"marker\":{\"colorbar\":{\"outlinewidth\":0,\"ticks\":\"\"}}}],\"scattermapbox\":[{\"type\":\"scattermapbox\",\"marker\":{\"colorbar\":{\"outlinewidth\":0,\"ticks\":\"\"}}}],\"scatterternary\":[{\"type\":\"scatterternary\",\"marker\":{\"colorbar\":{\"outlinewidth\":0,\"ticks\":\"\"}}}],\"scattercarpet\":[{\"type\":\"scattercarpet\",\"marker\":{\"colorbar\":{\"outlinewidth\":0,\"ticks\":\"\"}}}],\"carpet\":[{\"aaxis\":{\"endlinecolor\":\"#2a3f5f\",\"gridcolor\":\"white\",\"linecolor\":\"white\",\"minorgridcolor\":\"white\",\"startlinecolor\":\"#2a3f5f\"},\"baxis\":{\"endlinecolor\":\"#2a3f5f\",\"gridcolor\":\"white\",\"linecolor\":\"white\",\"minorgridcolor\":\"white\",\"startlinecolor\":\"#2a3f5f\"},\"type\":\"carpet\"}],\"table\":[{\"cells\":{\"fill\":{\"color\":\"#EBF0F8\"},\"line\":{\"color\":\"white\"}},\"header\":{\"fill\":{\"color\":\"#C8D4E3\"},\"line\":{\"color\":\"white\"}},\"type\":\"table\"}],\"barpolar\":[{\"marker\":{\"line\":{\"color\":\"#E5ECF6\",\"width\":0.5},\"pattern\":{\"fillmode\":\"overlay\",\"size\":10,\"solidity\":0.2}},\"type\":\"barpolar\"}],\"pie\":[{\"automargin\":true,\"type\":\"pie\"}]},\"layout\":{\"autotypenumbers\":\"strict\",\"colorway\":[\"#636efa\",\"#EF553B\",\"#00cc96\",\"#ab63fa\",\"#FFA15A\",\"#19d3f3\",\"#FF6692\",\"#B6E880\",\"#FF97FF\",\"#FECB52\"],\"font\":{\"color\":\"#2a3f5f\"},\"hovermode\":\"closest\",\"hoverlabel\":{\"align\":\"left\"},\"paper_bgcolor\":\"white\",\"plot_bgcolor\":\"#E5ECF6\",\"polar\":{\"bgcolor\":\"#E5ECF6\",\"angularaxis\":{\"gridcolor\":\"white\",\"linecolor\":\"white\",\"ticks\":\"\"},\"radialaxis\":{\"gridcolor\":\"white\",\"linecolor\":\"white\",\"ticks\":\"\"}},\"ternary\":{\"bgcolor\":\"#E5ECF6\",\"aaxis\":{\"gridcolor\":\"white\",\"linecolor\":\"white\",\"ticks\":\"\"},\"baxis\":{\"gridcolor\":\"white\",\"linecolor\":\"white\",\"ticks\":\"\"},\"caxis\":{\"gridcolor\":\"white\",\"linecolor\":\"white\",\"ticks\":\"\"}},\"coloraxis\":{\"colorbar\":{\"outlinewidth\":0,\"ticks\":\"\"}},\"colorscale\":{\"sequential\":[[0.0,\"#0d0887\"],[0.1111111111111111,\"#46039f\"],[0.2222222222222222,\"#7201a8\"],[0.3333333333333333,\"#9c179e\"],[0.4444444444444444,\"#bd3786\"],[0.5555555555555556,\"#d8576b\"],[0.6666666666666666,\"#ed7953\"],[0.7777777777777778,\"#fb9f3a\"],[0.8888888888888888,\"#fdca26\"],[1.0,\"#f0f921\"]],\"sequentialminus\":[[0.0,\"#0d0887\"],[0.1111111111111111,\"#46039f\"],[0.2222222222222222,\"#7201a8\"],[0.3333333333333333,\"#9c179e\"],[0.4444444444444444,\"#bd3786\"],[0.5555555555555556,\"#d8576b\"],[0.6666666666666666,\"#ed7953\"],[0.7777777777777778,\"#fb9f3a\"],[0.8888888888888888,\"#fdca26\"],[1.0,\"#f0f921\"]],\"diverging\":[[0,\"#8e0152\"],[0.1,\"#c51b7d\"],[0.2,\"#de77ae\"],[0.3,\"#f1b6da\"],[0.4,\"#fde0ef\"],[0.5,\"#f7f7f7\"],[0.6,\"#e6f5d0\"],[0.7,\"#b8e186\"],[0.8,\"#7fbc41\"],[0.9,\"#4d9221\"],[1,\"#276419\"]]},\"xaxis\":{\"gridcolor\":\"white\",\"linecolor\":\"white\",\"ticks\":\"\",\"title\":{\"standoff\":15},\"zerolinecolor\":\"white\",\"automargin\":true,\"zerolinewidth\":2},\"yaxis\":{\"gridcolor\":\"white\",\"linecolor\":\"white\",\"ticks\":\"\",\"title\":{\"standoff\":15},\"zerolinecolor\":\"white\",\"automargin\":true,\"zerolinewidth\":2},\"scene\":{\"xaxis\":{\"backgroundcolor\":\"#E5ECF6\",\"gridcolor\":\"white\",\"linecolor\":\"white\",\"showbackground\":true,\"ticks\":\"\",\"zerolinecolor\":\"white\",\"gridwidth\":2},\"yaxis\":{\"backgroundcolor\":\"#E5ECF6\",\"gridcolor\":\"white\",\"linecolor\":\"white\",\"showbackground\":true,\"ticks\":\"\",\"zerolinecolor\":\"white\",\"gridwidth\":2},\"zaxis\":{\"backgroundcolor\":\"#E5ECF6\",\"gridcolor\":\"white\",\"linecolor\":\"white\",\"showbackground\":true,\"ticks\":\"\",\"zerolinecolor\":\"white\",\"gridwidth\":2}},\"shapedefaults\":{\"line\":{\"color\":\"#2a3f5f\"}},\"annotationdefaults\":{\"arrowcolor\":\"#2a3f5f\",\"arrowhead\":0,\"arrowwidth\":1},\"geo\":{\"bgcolor\":\"white\",\"landcolor\":\"#E5ECF6\",\"subunitcolor\":\"white\",\"showland\":true,\"showlakes\":true,\"lakecolor\":\"white\"},\"title\":{\"x\":0.05},\"mapbox\":{\"style\":\"light\"}}}},                        {\"responsive\": true}                    ).then(function(){\n",
              "                            \n",
              "var gd = document.getElementById('bfaac4c1-f89b-45eb-bce5-297ff7d1dcdc');\n",
              "var x = new MutationObserver(function (mutations, observer) {{\n",
              "        var display = window.getComputedStyle(gd).display;\n",
              "        if (!display || display === 'none') {{\n",
              "            console.log([gd, 'removed!']);\n",
              "            Plotly.purge(gd);\n",
              "            observer.disconnect();\n",
              "        }}\n",
              "}});\n",
              "\n",
              "// Listen for the removal of the full notebook cells\n",
              "var notebookContainer = gd.closest('#notebook-container');\n",
              "if (notebookContainer) {{\n",
              "    x.observe(notebookContainer, {childList: true});\n",
              "}}\n",
              "\n",
              "// Listen for the clearing of the current output cell\n",
              "var outputEl = gd.closest('.output');\n",
              "if (outputEl) {{\n",
              "    x.observe(outputEl, {childList: true});\n",
              "}}\n",
              "\n",
              "                        })                };                            </script>        </div>\n",
              "</body>\n",
              "</html>"
            ]
          },
          "metadata": {}
        }
      ]
    },
    {
      "cell_type": "code",
      "source": [
        "data=[\n",
        "    go.Scatter(x=reward_delta.columns, y=reward_delta.mean(axis=0).values, line=dict(dash='dash'),  name='Delta hedge'),\n",
        "    go.Scatter(x=reward_q.columns, y=reward_q.mean(axis=0).values, name='Q-Learning hedge'),\n",
        "]\n",
        "layout=go.Layout(\n",
        "        title=go.layout.Title(text='', x=0.5), #Average reward each timestep\n",
        "        width=800,\n",
        "        height=400\n",
        "    )\n",
        "fig = go.Figure(data=data, layout=layout)\n",
        "fig.update_layout(xaxis_title=\"Timestep\", yaxis_title=\"Reward\", margin=dict(t=10))\n",
        "fig.show()"
      ],
      "metadata": {
        "id": "HuHNAVof4XT1",
        "colab": {
          "base_uri": "https://localhost:8080/",
          "height": 417
        },
        "outputId": "369b29f2-2b5b-4939-8be3-ba08b3e0a2b8"
      },
      "execution_count": 35,
      "outputs": [
        {
          "output_type": "display_data",
          "data": {
            "text/html": [
              "<html>\n",
              "<head><meta charset=\"utf-8\" /></head>\n",
              "<body>\n",
              "    <div>            <script src=\"https://cdnjs.cloudflare.com/ajax/libs/mathjax/2.7.5/MathJax.js?config=TeX-AMS-MML_SVG\"></script><script type=\"text/javascript\">if (window.MathJax && window.MathJax.Hub && window.MathJax.Hub.Config) {window.MathJax.Hub.Config({SVG: {font: \"STIX-Web\"}});}</script>                <script type=\"text/javascript\">window.PlotlyConfig = {MathJaxConfig: 'local'};</script>\n",
              "        <script charset=\"utf-8\" src=\"https://cdn.plot.ly/plotly-2.24.1.min.js\"></script>                <div id=\"50a0efc4-2f1b-4b7f-85b8-d5baa2622dc8\" class=\"plotly-graph-div\" style=\"height:400px; width:800px;\"></div>            <script type=\"text/javascript\">                                    window.PLOTLYENV=window.PLOTLYENV || {};                                    if (document.getElementById(\"50a0efc4-2f1b-4b7f-85b8-d5baa2622dc8\")) {                    Plotly.newPlot(                        \"50a0efc4-2f1b-4b7f-85b8-d5baa2622dc8\",                        [{\"line\":{\"dash\":\"dash\"},\"name\":\"Delta hedge\",\"x\":[0,1,2,3,4,5,6,7,8,9,10,11,12,13,14,15,16,17,18,19,20,21,22,23,24,25,26,27,28,29,30,31,32,33,34,35,36,37,38,39,40,41,42,43,44,45,46,47,48,49,50,51,52,53,54,55,56,57,58,59,60,61,62],\"y\":[0.005745814606975744,-0.011116016003215533,0.018245072016392604,0.0013211073058986573,-0.003611577514865126,-0.019755835591677366,-0.0026541695870753,0.003650390135416715,0.022862036807681882,-0.015782249374072528,0.01400503690082337,-0.009004447198257215,0.018399678248880134,-0.01705834119657688,0.004171996002925757,-0.015347343210122122,0.016132882846839346,-0.004684450439714763,0.002089657009718331,-0.025609725851256603,0.02778485810016946,-0.01292535242913297,-0.008274206005206806,-0.026494121123699126,-0.014844920161131581,-0.012256536256842096,-0.012613048168859529,-0.019882838757833747,-0.010376308802147228,0.002769289597475275,-0.0012105694092674427,0.004173262046852741,-0.01166344205658139,-0.02030617799209338,0.004542258028052625,-0.014249447821283298,0.047459699322301,0.027480223503002395,0.005239687614062527,-0.018987765795621427,-0.009855654646345765,0.002395519773726741,0.014155056934158406,-0.0004249829489097423,0.005338774436275157,-0.009963604800615195,0.006617671032575589,-0.008904392668292384,-0.0013314534366555787,-0.012282307371894261,0.00803479053527245,-0.017267111893958163,0.001768713781717893,-0.011039823972797841,-0.00732069121762544,0.009903903705387114,-0.010554116294778457,0.05347547840358251,0.023009700789442665,-0.009948620386299374,-0.0067765875246114105,0.010568692294843881,-0.0003072699394410912],\"type\":\"scatter\"},{\"name\":\"Q-Learning hedge\",\"x\":[0,1,2,3,4,5,6,7,8,9,10,11,12,13,14,15,16,17,18,19,20,21,22,23,24,25,26,27,28,29,30,31,32,33,34,35,36,37,38,39,40,41,42,43,44,45,46,47,48,49,50,51,52,53,54,55,56,57,58,59,60,61,62],\"y\":[0.16206542736423812,0.06829309344406831,-0.5043092185768945,-0.04082029577041545,-0.18937701995470804,0.028482243410870172,0.035223488806581264,0.2846407393911081,-0.050018550647975266,-0.227251964968398,-0.36222744230790327,0.11249522028520612,0.002705052157849497,-0.039235694253646966,-0.15812851604322747,-0.05953257805429234,-0.1599423414106268,-0.051422515112219236,-0.06423915455274407,0.0747744021230138,-0.06482312121665257,0.11990078200773302,0.06951128740200112,-0.22384631549833314,0.12198242575015814,0.22548505150436376,-0.06473880558766333,-0.01131230431569009,0.08408563949824004,0.011623100234621181,0.07468271058470276,0.30427110649560996,-0.15818940084571353,-0.2425707357810336,-0.03778771988811328,-0.1353770906529967,0.4512546083146175,0.08413515811856256,-0.09505046662798852,-0.000769890280551367,0.048440202941523305,0.4111044064908057,0.03337198953165592,-0.04031478230034975,-0.06193671832973966,0.10460013607196013,0.10419602504787091,-0.33903645150416734,-0.01046164953592595,0.08961622651828699,0.22860547043740884,0.3265452677999847,-0.3966734570809782,-0.2873488334057912,0.3322482285306407,0.018230593089651387,-0.22670089975921645,-0.42074772488027445,0.04449156943028244,-0.042158061405198045,0.10597782252319021,0.07539323919080901,-0.2572571884482464],\"type\":\"scatter\"}],                        {\"height\":400,\"title\":{\"text\":\"\",\"x\":0.5},\"width\":800,\"template\":{\"data\":{\"histogram2dcontour\":[{\"type\":\"histogram2dcontour\",\"colorbar\":{\"outlinewidth\":0,\"ticks\":\"\"},\"colorscale\":[[0.0,\"#0d0887\"],[0.1111111111111111,\"#46039f\"],[0.2222222222222222,\"#7201a8\"],[0.3333333333333333,\"#9c179e\"],[0.4444444444444444,\"#bd3786\"],[0.5555555555555556,\"#d8576b\"],[0.6666666666666666,\"#ed7953\"],[0.7777777777777778,\"#fb9f3a\"],[0.8888888888888888,\"#fdca26\"],[1.0,\"#f0f921\"]]}],\"choropleth\":[{\"type\":\"choropleth\",\"colorbar\":{\"outlinewidth\":0,\"ticks\":\"\"}}],\"histogram2d\":[{\"type\":\"histogram2d\",\"colorbar\":{\"outlinewidth\":0,\"ticks\":\"\"},\"colorscale\":[[0.0,\"#0d0887\"],[0.1111111111111111,\"#46039f\"],[0.2222222222222222,\"#7201a8\"],[0.3333333333333333,\"#9c179e\"],[0.4444444444444444,\"#bd3786\"],[0.5555555555555556,\"#d8576b\"],[0.6666666666666666,\"#ed7953\"],[0.7777777777777778,\"#fb9f3a\"],[0.8888888888888888,\"#fdca26\"],[1.0,\"#f0f921\"]]}],\"heatmap\":[{\"type\":\"heatmap\",\"colorbar\":{\"outlinewidth\":0,\"ticks\":\"\"},\"colorscale\":[[0.0,\"#0d0887\"],[0.1111111111111111,\"#46039f\"],[0.2222222222222222,\"#7201a8\"],[0.3333333333333333,\"#9c179e\"],[0.4444444444444444,\"#bd3786\"],[0.5555555555555556,\"#d8576b\"],[0.6666666666666666,\"#ed7953\"],[0.7777777777777778,\"#fb9f3a\"],[0.8888888888888888,\"#fdca26\"],[1.0,\"#f0f921\"]]}],\"heatmapgl\":[{\"type\":\"heatmapgl\",\"colorbar\":{\"outlinewidth\":0,\"ticks\":\"\"},\"colorscale\":[[0.0,\"#0d0887\"],[0.1111111111111111,\"#46039f\"],[0.2222222222222222,\"#7201a8\"],[0.3333333333333333,\"#9c179e\"],[0.4444444444444444,\"#bd3786\"],[0.5555555555555556,\"#d8576b\"],[0.6666666666666666,\"#ed7953\"],[0.7777777777777778,\"#fb9f3a\"],[0.8888888888888888,\"#fdca26\"],[1.0,\"#f0f921\"]]}],\"contourcarpet\":[{\"type\":\"contourcarpet\",\"colorbar\":{\"outlinewidth\":0,\"ticks\":\"\"}}],\"contour\":[{\"type\":\"contour\",\"colorbar\":{\"outlinewidth\":0,\"ticks\":\"\"},\"colorscale\":[[0.0,\"#0d0887\"],[0.1111111111111111,\"#46039f\"],[0.2222222222222222,\"#7201a8\"],[0.3333333333333333,\"#9c179e\"],[0.4444444444444444,\"#bd3786\"],[0.5555555555555556,\"#d8576b\"],[0.6666666666666666,\"#ed7953\"],[0.7777777777777778,\"#fb9f3a\"],[0.8888888888888888,\"#fdca26\"],[1.0,\"#f0f921\"]]}],\"surface\":[{\"type\":\"surface\",\"colorbar\":{\"outlinewidth\":0,\"ticks\":\"\"},\"colorscale\":[[0.0,\"#0d0887\"],[0.1111111111111111,\"#46039f\"],[0.2222222222222222,\"#7201a8\"],[0.3333333333333333,\"#9c179e\"],[0.4444444444444444,\"#bd3786\"],[0.5555555555555556,\"#d8576b\"],[0.6666666666666666,\"#ed7953\"],[0.7777777777777778,\"#fb9f3a\"],[0.8888888888888888,\"#fdca26\"],[1.0,\"#f0f921\"]]}],\"mesh3d\":[{\"type\":\"mesh3d\",\"colorbar\":{\"outlinewidth\":0,\"ticks\":\"\"}}],\"scatter\":[{\"fillpattern\":{\"fillmode\":\"overlay\",\"size\":10,\"solidity\":0.2},\"type\":\"scatter\"}],\"parcoords\":[{\"type\":\"parcoords\",\"line\":{\"colorbar\":{\"outlinewidth\":0,\"ticks\":\"\"}}}],\"scatterpolargl\":[{\"type\":\"scatterpolargl\",\"marker\":{\"colorbar\":{\"outlinewidth\":0,\"ticks\":\"\"}}}],\"bar\":[{\"error_x\":{\"color\":\"#2a3f5f\"},\"error_y\":{\"color\":\"#2a3f5f\"},\"marker\":{\"line\":{\"color\":\"#E5ECF6\",\"width\":0.5},\"pattern\":{\"fillmode\":\"overlay\",\"size\":10,\"solidity\":0.2}},\"type\":\"bar\"}],\"scattergeo\":[{\"type\":\"scattergeo\",\"marker\":{\"colorbar\":{\"outlinewidth\":0,\"ticks\":\"\"}}}],\"scatterpolar\":[{\"type\":\"scatterpolar\",\"marker\":{\"colorbar\":{\"outlinewidth\":0,\"ticks\":\"\"}}}],\"histogram\":[{\"marker\":{\"pattern\":{\"fillmode\":\"overlay\",\"size\":10,\"solidity\":0.2}},\"type\":\"histogram\"}],\"scattergl\":[{\"type\":\"scattergl\",\"marker\":{\"colorbar\":{\"outlinewidth\":0,\"ticks\":\"\"}}}],\"scatter3d\":[{\"type\":\"scatter3d\",\"line\":{\"colorbar\":{\"outlinewidth\":0,\"ticks\":\"\"}},\"marker\":{\"colorbar\":{\"outlinewidth\":0,\"ticks\":\"\"}}}],\"scattermapbox\":[{\"type\":\"scattermapbox\",\"marker\":{\"colorbar\":{\"outlinewidth\":0,\"ticks\":\"\"}}}],\"scatterternary\":[{\"type\":\"scatterternary\",\"marker\":{\"colorbar\":{\"outlinewidth\":0,\"ticks\":\"\"}}}],\"scattercarpet\":[{\"type\":\"scattercarpet\",\"marker\":{\"colorbar\":{\"outlinewidth\":0,\"ticks\":\"\"}}}],\"carpet\":[{\"aaxis\":{\"endlinecolor\":\"#2a3f5f\",\"gridcolor\":\"white\",\"linecolor\":\"white\",\"minorgridcolor\":\"white\",\"startlinecolor\":\"#2a3f5f\"},\"baxis\":{\"endlinecolor\":\"#2a3f5f\",\"gridcolor\":\"white\",\"linecolor\":\"white\",\"minorgridcolor\":\"white\",\"startlinecolor\":\"#2a3f5f\"},\"type\":\"carpet\"}],\"table\":[{\"cells\":{\"fill\":{\"color\":\"#EBF0F8\"},\"line\":{\"color\":\"white\"}},\"header\":{\"fill\":{\"color\":\"#C8D4E3\"},\"line\":{\"color\":\"white\"}},\"type\":\"table\"}],\"barpolar\":[{\"marker\":{\"line\":{\"color\":\"#E5ECF6\",\"width\":0.5},\"pattern\":{\"fillmode\":\"overlay\",\"size\":10,\"solidity\":0.2}},\"type\":\"barpolar\"}],\"pie\":[{\"automargin\":true,\"type\":\"pie\"}]},\"layout\":{\"autotypenumbers\":\"strict\",\"colorway\":[\"#636efa\",\"#EF553B\",\"#00cc96\",\"#ab63fa\",\"#FFA15A\",\"#19d3f3\",\"#FF6692\",\"#B6E880\",\"#FF97FF\",\"#FECB52\"],\"font\":{\"color\":\"#2a3f5f\"},\"hovermode\":\"closest\",\"hoverlabel\":{\"align\":\"left\"},\"paper_bgcolor\":\"white\",\"plot_bgcolor\":\"#E5ECF6\",\"polar\":{\"bgcolor\":\"#E5ECF6\",\"angularaxis\":{\"gridcolor\":\"white\",\"linecolor\":\"white\",\"ticks\":\"\"},\"radialaxis\":{\"gridcolor\":\"white\",\"linecolor\":\"white\",\"ticks\":\"\"}},\"ternary\":{\"bgcolor\":\"#E5ECF6\",\"aaxis\":{\"gridcolor\":\"white\",\"linecolor\":\"white\",\"ticks\":\"\"},\"baxis\":{\"gridcolor\":\"white\",\"linecolor\":\"white\",\"ticks\":\"\"},\"caxis\":{\"gridcolor\":\"white\",\"linecolor\":\"white\",\"ticks\":\"\"}},\"coloraxis\":{\"colorbar\":{\"outlinewidth\":0,\"ticks\":\"\"}},\"colorscale\":{\"sequential\":[[0.0,\"#0d0887\"],[0.1111111111111111,\"#46039f\"],[0.2222222222222222,\"#7201a8\"],[0.3333333333333333,\"#9c179e\"],[0.4444444444444444,\"#bd3786\"],[0.5555555555555556,\"#d8576b\"],[0.6666666666666666,\"#ed7953\"],[0.7777777777777778,\"#fb9f3a\"],[0.8888888888888888,\"#fdca26\"],[1.0,\"#f0f921\"]],\"sequentialminus\":[[0.0,\"#0d0887\"],[0.1111111111111111,\"#46039f\"],[0.2222222222222222,\"#7201a8\"],[0.3333333333333333,\"#9c179e\"],[0.4444444444444444,\"#bd3786\"],[0.5555555555555556,\"#d8576b\"],[0.6666666666666666,\"#ed7953\"],[0.7777777777777778,\"#fb9f3a\"],[0.8888888888888888,\"#fdca26\"],[1.0,\"#f0f921\"]],\"diverging\":[[0,\"#8e0152\"],[0.1,\"#c51b7d\"],[0.2,\"#de77ae\"],[0.3,\"#f1b6da\"],[0.4,\"#fde0ef\"],[0.5,\"#f7f7f7\"],[0.6,\"#e6f5d0\"],[0.7,\"#b8e186\"],[0.8,\"#7fbc41\"],[0.9,\"#4d9221\"],[1,\"#276419\"]]},\"xaxis\":{\"gridcolor\":\"white\",\"linecolor\":\"white\",\"ticks\":\"\",\"title\":{\"standoff\":15},\"zerolinecolor\":\"white\",\"automargin\":true,\"zerolinewidth\":2},\"yaxis\":{\"gridcolor\":\"white\",\"linecolor\":\"white\",\"ticks\":\"\",\"title\":{\"standoff\":15},\"zerolinecolor\":\"white\",\"automargin\":true,\"zerolinewidth\":2},\"scene\":{\"xaxis\":{\"backgroundcolor\":\"#E5ECF6\",\"gridcolor\":\"white\",\"linecolor\":\"white\",\"showbackground\":true,\"ticks\":\"\",\"zerolinecolor\":\"white\",\"gridwidth\":2},\"yaxis\":{\"backgroundcolor\":\"#E5ECF6\",\"gridcolor\":\"white\",\"linecolor\":\"white\",\"showbackground\":true,\"ticks\":\"\",\"zerolinecolor\":\"white\",\"gridwidth\":2},\"zaxis\":{\"backgroundcolor\":\"#E5ECF6\",\"gridcolor\":\"white\",\"linecolor\":\"white\",\"showbackground\":true,\"ticks\":\"\",\"zerolinecolor\":\"white\",\"gridwidth\":2}},\"shapedefaults\":{\"line\":{\"color\":\"#2a3f5f\"}},\"annotationdefaults\":{\"arrowcolor\":\"#2a3f5f\",\"arrowhead\":0,\"arrowwidth\":1},\"geo\":{\"bgcolor\":\"white\",\"landcolor\":\"#E5ECF6\",\"subunitcolor\":\"white\",\"showland\":true,\"showlakes\":true,\"lakecolor\":\"white\"},\"title\":{\"x\":0.05},\"mapbox\":{\"style\":\"light\"}}},\"margin\":{\"t\":10},\"xaxis\":{\"title\":{\"text\":\"Timestep\"}},\"yaxis\":{\"title\":{\"text\":\"Reward\"}}},                        {\"responsive\": true}                    ).then(function(){\n",
              "                            \n",
              "var gd = document.getElementById('50a0efc4-2f1b-4b7f-85b8-d5baa2622dc8');\n",
              "var x = new MutationObserver(function (mutations, observer) {{\n",
              "        var display = window.getComputedStyle(gd).display;\n",
              "        if (!display || display === 'none') {{\n",
              "            console.log([gd, 'removed!']);\n",
              "            Plotly.purge(gd);\n",
              "            observer.disconnect();\n",
              "        }}\n",
              "}});\n",
              "\n",
              "// Listen for the removal of the full notebook cells\n",
              "var notebookContainer = gd.closest('#notebook-container');\n",
              "if (notebookContainer) {{\n",
              "    x.observe(notebookContainer, {childList: true});\n",
              "}}\n",
              "\n",
              "// Listen for the clearing of the current output cell\n",
              "var outputEl = gd.closest('.output');\n",
              "if (outputEl) {{\n",
              "    x.observe(outputEl, {childList: true});\n",
              "}}\n",
              "\n",
              "                        })                };                            </script>        </div>\n",
              "</body>\n",
              "</html>"
            ]
          },
          "metadata": {}
        }
      ]
    },
    {
      "cell_type": "code",
      "source": [],
      "metadata": {
        "id": "9Pap5l-u3JKR"
      },
      "execution_count": null,
      "outputs": []
    }
  ]
}